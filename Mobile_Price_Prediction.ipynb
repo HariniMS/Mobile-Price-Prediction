{
  "nbformat": 4,
  "nbformat_minor": 0,
  "metadata": {
    "colab": {
      "provenance": [],
      "include_colab_link": true
    },
    "kernelspec": {
      "name": "python3",
      "display_name": "Python 3"
    },
    "language_info": {
      "name": "python"
    }
  },
  "cells": [
    {
      "cell_type": "markdown",
      "metadata": {
        "id": "view-in-github",
        "colab_type": "text"
      },
      "source": [
        "<a href=\"https://colab.research.google.com/github/HariniMS/Mobile-Price-Prediction/blob/main/Mobile_Price_Prediction.ipynb\" target=\"_parent\"><img src=\"https://colab.research.google.com/assets/colab-badge.svg\" alt=\"Open In Colab\"/></a>"
      ]
    },
    {
      "cell_type": "markdown",
      "metadata": {
        "id": "VnN2tyI5WgKe"
      },
      "source": [
        "# **Problem Statement :**\n",
        "\n",
        "\n",
        "\n",
        "Bob has started his own mobile company. He wants to give tough fight to big companies like Apple,Samsung etc.\n",
        "\n",
        "He does not know how to estimate price of mobiles his company creates. In this competitive m\n",
        "obile phone market you cannot simply assume things. To solve this problem he collects sales data of mobile phones of various companies.\n",
        "\n",
        "Bob wants to find out some relation between features of a mobile phone(eg:- RAM,Internal Memory etc) and its selling price. But he is not so good at Machine Learning. So he needs help to solve this problem.\n",
        "\n",
        "In this problem we do not have to predict actual price but a price range indicating how high the price is"
      ]
    },
    {
      "cell_type": "markdown",
      "metadata": {
        "id": "_kGCnxjFa39Y"
      },
      "source": [
        "# Importing the dataset (using Pandas)"
      ]
    },
    {
      "cell_type": "code",
      "metadata": {
        "id": "37rFnLsAV8Lv",
        "colab": {
          "base_uri": "https://localhost:8080/"
        },
        "outputId": "a632d7aa-a90e-4515-9dbb-2ce2ce88e49d"
      },
      "source": [
        "# intsallig the pandas\n",
        "!pip install pandas"
      ],
      "execution_count": null,
      "outputs": [
        {
          "output_type": "stream",
          "text": [
            "Requirement already satisfied: pandas in /usr/local/lib/python3.7/dist-packages (1.1.5)\n",
            "Requirement already satisfied: numpy>=1.15.4 in /usr/local/lib/python3.7/dist-packages (from pandas) (1.19.5)\n",
            "Requirement already satisfied: pytz>=2017.2 in /usr/local/lib/python3.7/dist-packages (from pandas) (2018.9)\n",
            "Requirement already satisfied: python-dateutil>=2.7.3 in /usr/local/lib/python3.7/dist-packages (from pandas) (2.8.1)\n",
            "Requirement already satisfied: six>=1.5 in /usr/local/lib/python3.7/dist-packages (from python-dateutil>=2.7.3->pandas) (1.15.0)\n"
          ],
          "name": "stdout"
        }
      ]
    },
    {
      "cell_type": "code",
      "metadata": {
        "id": "7mOeziTdcKiX"
      },
      "source": [
        "import pandas as pd"
      ],
      "execution_count": null,
      "outputs": []
    },
    {
      "cell_type": "code",
      "metadata": {
        "id": "qgR1av6HSX95"
      },
      "source": [
        "import matplotlib.pyplot as plt"
      ],
      "execution_count": null,
      "outputs": []
    },
    {
      "cell_type": "code",
      "metadata": {
        "colab": {
          "base_uri": "https://localhost:8080/",
          "height": 422
        },
        "id": "MierbWtqaz2l",
        "outputId": "d93a3d75-035c-4a9a-d707-659707486111"
      },
      "source": [
        "data_train = pd.read_csv(\"/content/drive/MyDrive/Mobile Price Prediction/train.csv\") \n",
        "   \n",
        "data_train   "
      ],
      "execution_count": null,
      "outputs": [
        {
          "output_type": "execute_result",
          "data": {
            "text/html": [
              "<div>\n",
              "<style scoped>\n",
              "    .dataframe tbody tr th:only-of-type {\n",
              "        vertical-align: middle;\n",
              "    }\n",
              "\n",
              "    .dataframe tbody tr th {\n",
              "        vertical-align: top;\n",
              "    }\n",
              "\n",
              "    .dataframe thead th {\n",
              "        text-align: right;\n",
              "    }\n",
              "</style>\n",
              "<table border=\"1\" class=\"dataframe\">\n",
              "  <thead>\n",
              "    <tr style=\"text-align: right;\">\n",
              "      <th></th>\n",
              "      <th>battery_power</th>\n",
              "      <th>blue</th>\n",
              "      <th>clock_speed</th>\n",
              "      <th>dual_sim</th>\n",
              "      <th>fc</th>\n",
              "      <th>four_g</th>\n",
              "      <th>int_memory</th>\n",
              "      <th>m_dep</th>\n",
              "      <th>mobile_wt</th>\n",
              "      <th>n_cores</th>\n",
              "      <th>pc</th>\n",
              "      <th>px_height</th>\n",
              "      <th>px_width</th>\n",
              "      <th>ram</th>\n",
              "      <th>sc_h</th>\n",
              "      <th>sc_w</th>\n",
              "      <th>talk_time</th>\n",
              "      <th>three_g</th>\n",
              "      <th>touch_screen</th>\n",
              "      <th>wifi</th>\n",
              "      <th>price_range</th>\n",
              "    </tr>\n",
              "  </thead>\n",
              "  <tbody>\n",
              "    <tr>\n",
              "      <th>0</th>\n",
              "      <td>842</td>\n",
              "      <td>0</td>\n",
              "      <td>2.2</td>\n",
              "      <td>0</td>\n",
              "      <td>1</td>\n",
              "      <td>0</td>\n",
              "      <td>7</td>\n",
              "      <td>0.6</td>\n",
              "      <td>188</td>\n",
              "      <td>2</td>\n",
              "      <td>2</td>\n",
              "      <td>20</td>\n",
              "      <td>756</td>\n",
              "      <td>2549</td>\n",
              "      <td>9</td>\n",
              "      <td>7</td>\n",
              "      <td>19</td>\n",
              "      <td>0</td>\n",
              "      <td>0</td>\n",
              "      <td>1</td>\n",
              "      <td>1</td>\n",
              "    </tr>\n",
              "    <tr>\n",
              "      <th>1</th>\n",
              "      <td>1021</td>\n",
              "      <td>1</td>\n",
              "      <td>0.5</td>\n",
              "      <td>1</td>\n",
              "      <td>0</td>\n",
              "      <td>1</td>\n",
              "      <td>53</td>\n",
              "      <td>0.7</td>\n",
              "      <td>136</td>\n",
              "      <td>3</td>\n",
              "      <td>6</td>\n",
              "      <td>905</td>\n",
              "      <td>1988</td>\n",
              "      <td>2631</td>\n",
              "      <td>17</td>\n",
              "      <td>3</td>\n",
              "      <td>7</td>\n",
              "      <td>1</td>\n",
              "      <td>1</td>\n",
              "      <td>0</td>\n",
              "      <td>2</td>\n",
              "    </tr>\n",
              "    <tr>\n",
              "      <th>2</th>\n",
              "      <td>563</td>\n",
              "      <td>1</td>\n",
              "      <td>0.5</td>\n",
              "      <td>1</td>\n",
              "      <td>2</td>\n",
              "      <td>1</td>\n",
              "      <td>41</td>\n",
              "      <td>0.9</td>\n",
              "      <td>145</td>\n",
              "      <td>5</td>\n",
              "      <td>6</td>\n",
              "      <td>1263</td>\n",
              "      <td>1716</td>\n",
              "      <td>2603</td>\n",
              "      <td>11</td>\n",
              "      <td>2</td>\n",
              "      <td>9</td>\n",
              "      <td>1</td>\n",
              "      <td>1</td>\n",
              "      <td>0</td>\n",
              "      <td>2</td>\n",
              "    </tr>\n",
              "    <tr>\n",
              "      <th>3</th>\n",
              "      <td>615</td>\n",
              "      <td>1</td>\n",
              "      <td>2.5</td>\n",
              "      <td>0</td>\n",
              "      <td>0</td>\n",
              "      <td>0</td>\n",
              "      <td>10</td>\n",
              "      <td>0.8</td>\n",
              "      <td>131</td>\n",
              "      <td>6</td>\n",
              "      <td>9</td>\n",
              "      <td>1216</td>\n",
              "      <td>1786</td>\n",
              "      <td>2769</td>\n",
              "      <td>16</td>\n",
              "      <td>8</td>\n",
              "      <td>11</td>\n",
              "      <td>1</td>\n",
              "      <td>0</td>\n",
              "      <td>0</td>\n",
              "      <td>2</td>\n",
              "    </tr>\n",
              "    <tr>\n",
              "      <th>4</th>\n",
              "      <td>1821</td>\n",
              "      <td>1</td>\n",
              "      <td>1.2</td>\n",
              "      <td>0</td>\n",
              "      <td>13</td>\n",
              "      <td>1</td>\n",
              "      <td>44</td>\n",
              "      <td>0.6</td>\n",
              "      <td>141</td>\n",
              "      <td>2</td>\n",
              "      <td>14</td>\n",
              "      <td>1208</td>\n",
              "      <td>1212</td>\n",
              "      <td>1411</td>\n",
              "      <td>8</td>\n",
              "      <td>2</td>\n",
              "      <td>15</td>\n",
              "      <td>1</td>\n",
              "      <td>1</td>\n",
              "      <td>0</td>\n",
              "      <td>1</td>\n",
              "    </tr>\n",
              "    <tr>\n",
              "      <th>...</th>\n",
              "      <td>...</td>\n",
              "      <td>...</td>\n",
              "      <td>...</td>\n",
              "      <td>...</td>\n",
              "      <td>...</td>\n",
              "      <td>...</td>\n",
              "      <td>...</td>\n",
              "      <td>...</td>\n",
              "      <td>...</td>\n",
              "      <td>...</td>\n",
              "      <td>...</td>\n",
              "      <td>...</td>\n",
              "      <td>...</td>\n",
              "      <td>...</td>\n",
              "      <td>...</td>\n",
              "      <td>...</td>\n",
              "      <td>...</td>\n",
              "      <td>...</td>\n",
              "      <td>...</td>\n",
              "      <td>...</td>\n",
              "      <td>...</td>\n",
              "    </tr>\n",
              "    <tr>\n",
              "      <th>1995</th>\n",
              "      <td>794</td>\n",
              "      <td>1</td>\n",
              "      <td>0.5</td>\n",
              "      <td>1</td>\n",
              "      <td>0</td>\n",
              "      <td>1</td>\n",
              "      <td>2</td>\n",
              "      <td>0.8</td>\n",
              "      <td>106</td>\n",
              "      <td>6</td>\n",
              "      <td>14</td>\n",
              "      <td>1222</td>\n",
              "      <td>1890</td>\n",
              "      <td>668</td>\n",
              "      <td>13</td>\n",
              "      <td>4</td>\n",
              "      <td>19</td>\n",
              "      <td>1</td>\n",
              "      <td>1</td>\n",
              "      <td>0</td>\n",
              "      <td>0</td>\n",
              "    </tr>\n",
              "    <tr>\n",
              "      <th>1996</th>\n",
              "      <td>1965</td>\n",
              "      <td>1</td>\n",
              "      <td>2.6</td>\n",
              "      <td>1</td>\n",
              "      <td>0</td>\n",
              "      <td>0</td>\n",
              "      <td>39</td>\n",
              "      <td>0.2</td>\n",
              "      <td>187</td>\n",
              "      <td>4</td>\n",
              "      <td>3</td>\n",
              "      <td>915</td>\n",
              "      <td>1965</td>\n",
              "      <td>2032</td>\n",
              "      <td>11</td>\n",
              "      <td>10</td>\n",
              "      <td>16</td>\n",
              "      <td>1</td>\n",
              "      <td>1</td>\n",
              "      <td>1</td>\n",
              "      <td>2</td>\n",
              "    </tr>\n",
              "    <tr>\n",
              "      <th>1997</th>\n",
              "      <td>1911</td>\n",
              "      <td>0</td>\n",
              "      <td>0.9</td>\n",
              "      <td>1</td>\n",
              "      <td>1</td>\n",
              "      <td>1</td>\n",
              "      <td>36</td>\n",
              "      <td>0.7</td>\n",
              "      <td>108</td>\n",
              "      <td>8</td>\n",
              "      <td>3</td>\n",
              "      <td>868</td>\n",
              "      <td>1632</td>\n",
              "      <td>3057</td>\n",
              "      <td>9</td>\n",
              "      <td>1</td>\n",
              "      <td>5</td>\n",
              "      <td>1</td>\n",
              "      <td>1</td>\n",
              "      <td>0</td>\n",
              "      <td>3</td>\n",
              "    </tr>\n",
              "    <tr>\n",
              "      <th>1998</th>\n",
              "      <td>1512</td>\n",
              "      <td>0</td>\n",
              "      <td>0.9</td>\n",
              "      <td>0</td>\n",
              "      <td>4</td>\n",
              "      <td>1</td>\n",
              "      <td>46</td>\n",
              "      <td>0.1</td>\n",
              "      <td>145</td>\n",
              "      <td>5</td>\n",
              "      <td>5</td>\n",
              "      <td>336</td>\n",
              "      <td>670</td>\n",
              "      <td>869</td>\n",
              "      <td>18</td>\n",
              "      <td>10</td>\n",
              "      <td>19</td>\n",
              "      <td>1</td>\n",
              "      <td>1</td>\n",
              "      <td>1</td>\n",
              "      <td>0</td>\n",
              "    </tr>\n",
              "    <tr>\n",
              "      <th>1999</th>\n",
              "      <td>510</td>\n",
              "      <td>1</td>\n",
              "      <td>2.0</td>\n",
              "      <td>1</td>\n",
              "      <td>5</td>\n",
              "      <td>1</td>\n",
              "      <td>45</td>\n",
              "      <td>0.9</td>\n",
              "      <td>168</td>\n",
              "      <td>6</td>\n",
              "      <td>16</td>\n",
              "      <td>483</td>\n",
              "      <td>754</td>\n",
              "      <td>3919</td>\n",
              "      <td>19</td>\n",
              "      <td>4</td>\n",
              "      <td>2</td>\n",
              "      <td>1</td>\n",
              "      <td>1</td>\n",
              "      <td>1</td>\n",
              "      <td>3</td>\n",
              "    </tr>\n",
              "  </tbody>\n",
              "</table>\n",
              "<p>2000 rows × 21 columns</p>\n",
              "</div>"
            ],
            "text/plain": [
              "      battery_power  blue  clock_speed  ...  touch_screen  wifi  price_range\n",
              "0               842     0          2.2  ...             0     1            1\n",
              "1              1021     1          0.5  ...             1     0            2\n",
              "2               563     1          0.5  ...             1     0            2\n",
              "3               615     1          2.5  ...             0     0            2\n",
              "4              1821     1          1.2  ...             1     0            1\n",
              "...             ...   ...          ...  ...           ...   ...          ...\n",
              "1995            794     1          0.5  ...             1     0            0\n",
              "1996           1965     1          2.6  ...             1     1            2\n",
              "1997           1911     0          0.9  ...             1     0            3\n",
              "1998           1512     0          0.9  ...             1     1            0\n",
              "1999            510     1          2.0  ...             1     1            3\n",
              "\n",
              "[2000 rows x 21 columns]"
            ]
          },
          "metadata": {
            "tags": []
          },
          "execution_count": 4
        }
      ]
    },
    {
      "cell_type": "markdown",
      "metadata": {
        "id": "HNXf8X1Jcd2Q"
      },
      "source": [
        "### 2000 rows & 21 columns\n",
        "\n",
        "#### price_range is the Target variable/column"
      ]
    },
    {
      "cell_type": "code",
      "metadata": {
        "colab": {
          "base_uri": "https://localhost:8080/",
          "height": 422
        },
        "id": "gRDpFy5acH8D",
        "outputId": "3a2511af-16ba-48e8-f840-0b196ca1bbab"
      },
      "source": [
        "data_test = pd.read_csv(\"/content/drive/MyDrive/Mobile Price Prediction/test.csv\") \n",
        "   \n",
        "data_test "
      ],
      "execution_count": null,
      "outputs": [
        {
          "output_type": "execute_result",
          "data": {
            "text/html": [
              "<div>\n",
              "<style scoped>\n",
              "    .dataframe tbody tr th:only-of-type {\n",
              "        vertical-align: middle;\n",
              "    }\n",
              "\n",
              "    .dataframe tbody tr th {\n",
              "        vertical-align: top;\n",
              "    }\n",
              "\n",
              "    .dataframe thead th {\n",
              "        text-align: right;\n",
              "    }\n",
              "</style>\n",
              "<table border=\"1\" class=\"dataframe\">\n",
              "  <thead>\n",
              "    <tr style=\"text-align: right;\">\n",
              "      <th></th>\n",
              "      <th>id</th>\n",
              "      <th>battery_power</th>\n",
              "      <th>blue</th>\n",
              "      <th>clock_speed</th>\n",
              "      <th>dual_sim</th>\n",
              "      <th>fc</th>\n",
              "      <th>four_g</th>\n",
              "      <th>int_memory</th>\n",
              "      <th>m_dep</th>\n",
              "      <th>mobile_wt</th>\n",
              "      <th>n_cores</th>\n",
              "      <th>pc</th>\n",
              "      <th>px_height</th>\n",
              "      <th>px_width</th>\n",
              "      <th>ram</th>\n",
              "      <th>sc_h</th>\n",
              "      <th>sc_w</th>\n",
              "      <th>talk_time</th>\n",
              "      <th>three_g</th>\n",
              "      <th>touch_screen</th>\n",
              "      <th>wifi</th>\n",
              "    </tr>\n",
              "  </thead>\n",
              "  <tbody>\n",
              "    <tr>\n",
              "      <th>0</th>\n",
              "      <td>1</td>\n",
              "      <td>1043</td>\n",
              "      <td>1</td>\n",
              "      <td>1.8</td>\n",
              "      <td>1</td>\n",
              "      <td>14</td>\n",
              "      <td>0</td>\n",
              "      <td>5</td>\n",
              "      <td>0.1</td>\n",
              "      <td>193</td>\n",
              "      <td>3</td>\n",
              "      <td>16</td>\n",
              "      <td>226</td>\n",
              "      <td>1412</td>\n",
              "      <td>3476</td>\n",
              "      <td>12</td>\n",
              "      <td>7</td>\n",
              "      <td>2</td>\n",
              "      <td>0</td>\n",
              "      <td>1</td>\n",
              "      <td>0</td>\n",
              "    </tr>\n",
              "    <tr>\n",
              "      <th>1</th>\n",
              "      <td>2</td>\n",
              "      <td>841</td>\n",
              "      <td>1</td>\n",
              "      <td>0.5</td>\n",
              "      <td>1</td>\n",
              "      <td>4</td>\n",
              "      <td>1</td>\n",
              "      <td>61</td>\n",
              "      <td>0.8</td>\n",
              "      <td>191</td>\n",
              "      <td>5</td>\n",
              "      <td>12</td>\n",
              "      <td>746</td>\n",
              "      <td>857</td>\n",
              "      <td>3895</td>\n",
              "      <td>6</td>\n",
              "      <td>0</td>\n",
              "      <td>7</td>\n",
              "      <td>1</td>\n",
              "      <td>0</td>\n",
              "      <td>0</td>\n",
              "    </tr>\n",
              "    <tr>\n",
              "      <th>2</th>\n",
              "      <td>3</td>\n",
              "      <td>1807</td>\n",
              "      <td>1</td>\n",
              "      <td>2.8</td>\n",
              "      <td>0</td>\n",
              "      <td>1</td>\n",
              "      <td>0</td>\n",
              "      <td>27</td>\n",
              "      <td>0.9</td>\n",
              "      <td>186</td>\n",
              "      <td>3</td>\n",
              "      <td>4</td>\n",
              "      <td>1270</td>\n",
              "      <td>1366</td>\n",
              "      <td>2396</td>\n",
              "      <td>17</td>\n",
              "      <td>10</td>\n",
              "      <td>10</td>\n",
              "      <td>0</td>\n",
              "      <td>1</td>\n",
              "      <td>1</td>\n",
              "    </tr>\n",
              "    <tr>\n",
              "      <th>3</th>\n",
              "      <td>4</td>\n",
              "      <td>1546</td>\n",
              "      <td>0</td>\n",
              "      <td>0.5</td>\n",
              "      <td>1</td>\n",
              "      <td>18</td>\n",
              "      <td>1</td>\n",
              "      <td>25</td>\n",
              "      <td>0.5</td>\n",
              "      <td>96</td>\n",
              "      <td>8</td>\n",
              "      <td>20</td>\n",
              "      <td>295</td>\n",
              "      <td>1752</td>\n",
              "      <td>3893</td>\n",
              "      <td>10</td>\n",
              "      <td>0</td>\n",
              "      <td>7</td>\n",
              "      <td>1</td>\n",
              "      <td>1</td>\n",
              "      <td>0</td>\n",
              "    </tr>\n",
              "    <tr>\n",
              "      <th>4</th>\n",
              "      <td>5</td>\n",
              "      <td>1434</td>\n",
              "      <td>0</td>\n",
              "      <td>1.4</td>\n",
              "      <td>0</td>\n",
              "      <td>11</td>\n",
              "      <td>1</td>\n",
              "      <td>49</td>\n",
              "      <td>0.5</td>\n",
              "      <td>108</td>\n",
              "      <td>6</td>\n",
              "      <td>18</td>\n",
              "      <td>749</td>\n",
              "      <td>810</td>\n",
              "      <td>1773</td>\n",
              "      <td>15</td>\n",
              "      <td>8</td>\n",
              "      <td>7</td>\n",
              "      <td>1</td>\n",
              "      <td>0</td>\n",
              "      <td>1</td>\n",
              "    </tr>\n",
              "    <tr>\n",
              "      <th>...</th>\n",
              "      <td>...</td>\n",
              "      <td>...</td>\n",
              "      <td>...</td>\n",
              "      <td>...</td>\n",
              "      <td>...</td>\n",
              "      <td>...</td>\n",
              "      <td>...</td>\n",
              "      <td>...</td>\n",
              "      <td>...</td>\n",
              "      <td>...</td>\n",
              "      <td>...</td>\n",
              "      <td>...</td>\n",
              "      <td>...</td>\n",
              "      <td>...</td>\n",
              "      <td>...</td>\n",
              "      <td>...</td>\n",
              "      <td>...</td>\n",
              "      <td>...</td>\n",
              "      <td>...</td>\n",
              "      <td>...</td>\n",
              "      <td>...</td>\n",
              "    </tr>\n",
              "    <tr>\n",
              "      <th>995</th>\n",
              "      <td>996</td>\n",
              "      <td>1700</td>\n",
              "      <td>1</td>\n",
              "      <td>1.9</td>\n",
              "      <td>0</td>\n",
              "      <td>0</td>\n",
              "      <td>1</td>\n",
              "      <td>54</td>\n",
              "      <td>0.5</td>\n",
              "      <td>170</td>\n",
              "      <td>7</td>\n",
              "      <td>17</td>\n",
              "      <td>644</td>\n",
              "      <td>913</td>\n",
              "      <td>2121</td>\n",
              "      <td>14</td>\n",
              "      <td>8</td>\n",
              "      <td>15</td>\n",
              "      <td>1</td>\n",
              "      <td>1</td>\n",
              "      <td>0</td>\n",
              "    </tr>\n",
              "    <tr>\n",
              "      <th>996</th>\n",
              "      <td>997</td>\n",
              "      <td>609</td>\n",
              "      <td>0</td>\n",
              "      <td>1.8</td>\n",
              "      <td>1</td>\n",
              "      <td>0</td>\n",
              "      <td>0</td>\n",
              "      <td>13</td>\n",
              "      <td>0.9</td>\n",
              "      <td>186</td>\n",
              "      <td>4</td>\n",
              "      <td>2</td>\n",
              "      <td>1152</td>\n",
              "      <td>1632</td>\n",
              "      <td>1933</td>\n",
              "      <td>8</td>\n",
              "      <td>1</td>\n",
              "      <td>19</td>\n",
              "      <td>0</td>\n",
              "      <td>1</td>\n",
              "      <td>1</td>\n",
              "    </tr>\n",
              "    <tr>\n",
              "      <th>997</th>\n",
              "      <td>998</td>\n",
              "      <td>1185</td>\n",
              "      <td>0</td>\n",
              "      <td>1.4</td>\n",
              "      <td>0</td>\n",
              "      <td>1</td>\n",
              "      <td>1</td>\n",
              "      <td>8</td>\n",
              "      <td>0.5</td>\n",
              "      <td>80</td>\n",
              "      <td>1</td>\n",
              "      <td>12</td>\n",
              "      <td>477</td>\n",
              "      <td>825</td>\n",
              "      <td>1223</td>\n",
              "      <td>5</td>\n",
              "      <td>0</td>\n",
              "      <td>14</td>\n",
              "      <td>1</td>\n",
              "      <td>0</td>\n",
              "      <td>0</td>\n",
              "    </tr>\n",
              "    <tr>\n",
              "      <th>998</th>\n",
              "      <td>999</td>\n",
              "      <td>1533</td>\n",
              "      <td>1</td>\n",
              "      <td>0.5</td>\n",
              "      <td>1</td>\n",
              "      <td>0</td>\n",
              "      <td>0</td>\n",
              "      <td>50</td>\n",
              "      <td>0.4</td>\n",
              "      <td>171</td>\n",
              "      <td>2</td>\n",
              "      <td>12</td>\n",
              "      <td>38</td>\n",
              "      <td>832</td>\n",
              "      <td>2509</td>\n",
              "      <td>15</td>\n",
              "      <td>11</td>\n",
              "      <td>6</td>\n",
              "      <td>0</td>\n",
              "      <td>1</td>\n",
              "      <td>0</td>\n",
              "    </tr>\n",
              "    <tr>\n",
              "      <th>999</th>\n",
              "      <td>1000</td>\n",
              "      <td>1270</td>\n",
              "      <td>1</td>\n",
              "      <td>0.5</td>\n",
              "      <td>0</td>\n",
              "      <td>4</td>\n",
              "      <td>1</td>\n",
              "      <td>35</td>\n",
              "      <td>0.1</td>\n",
              "      <td>140</td>\n",
              "      <td>6</td>\n",
              "      <td>19</td>\n",
              "      <td>457</td>\n",
              "      <td>608</td>\n",
              "      <td>2828</td>\n",
              "      <td>9</td>\n",
              "      <td>2</td>\n",
              "      <td>3</td>\n",
              "      <td>1</td>\n",
              "      <td>0</td>\n",
              "      <td>1</td>\n",
              "    </tr>\n",
              "  </tbody>\n",
              "</table>\n",
              "<p>1000 rows × 21 columns</p>\n",
              "</div>"
            ],
            "text/plain": [
              "       id  battery_power  blue  ...  three_g  touch_screen  wifi\n",
              "0       1           1043     1  ...        0             1     0\n",
              "1       2            841     1  ...        1             0     0\n",
              "2       3           1807     1  ...        0             1     1\n",
              "3       4           1546     0  ...        1             1     0\n",
              "4       5           1434     0  ...        1             0     1\n",
              "..    ...            ...   ...  ...      ...           ...   ...\n",
              "995   996           1700     1  ...        1             1     0\n",
              "996   997            609     0  ...        0             1     1\n",
              "997   998           1185     0  ...        1             0     0\n",
              "998   999           1533     1  ...        0             1     0\n",
              "999  1000           1270     1  ...        1             0     1\n",
              "\n",
              "[1000 rows x 21 columns]"
            ]
          },
          "metadata": {
            "tags": []
          },
          "execution_count": 5
        }
      ]
    },
    {
      "cell_type": "code",
      "metadata": {
        "colab": {
          "base_uri": "https://localhost:8080/"
        },
        "id": "gN2vssdFdFmy",
        "outputId": "01ad70bb-5a9f-470a-c460-49c2b9d1461a"
      },
      "source": [
        "data_train.columns"
      ],
      "execution_count": null,
      "outputs": [
        {
          "output_type": "execute_result",
          "data": {
            "text/plain": [
              "Index(['battery_power', 'blue', 'clock_speed', 'dual_sim', 'fc', 'four_g',\n",
              "       'int_memory', 'm_dep', 'mobile_wt', 'n_cores', 'pc', 'px_height',\n",
              "       'px_width', 'ram', 'sc_h', 'sc_w', 'talk_time', 'three_g',\n",
              "       'touch_screen', 'wifi', 'price_range'],\n",
              "      dtype='object')"
            ]
          },
          "metadata": {
            "tags": []
          },
          "execution_count": 6
        }
      ]
    },
    {
      "cell_type": "code",
      "metadata": {
        "colab": {
          "base_uri": "https://localhost:8080/"
        },
        "id": "NPQp6pnzdXrw",
        "outputId": "c8c8bbb6-dcce-49c4-b36c-0938aff332d5"
      },
      "source": [
        "data_test.columns"
      ],
      "execution_count": null,
      "outputs": [
        {
          "output_type": "execute_result",
          "data": {
            "text/plain": [
              "Index(['id', 'battery_power', 'blue', 'clock_speed', 'dual_sim', 'fc',\n",
              "       'four_g', 'int_memory', 'm_dep', 'mobile_wt', 'n_cores', 'pc',\n",
              "       'px_height', 'px_width', 'ram', 'sc_h', 'sc_w', 'talk_time', 'three_g',\n",
              "       'touch_screen', 'wifi'],\n",
              "      dtype='object')"
            ]
          },
          "metadata": {
            "tags": []
          },
          "execution_count": 7
        }
      ]
    },
    {
      "cell_type": "markdown",
      "metadata": {
        "id": "Qlljcorrdl6v"
      },
      "source": [
        "#**Exploratory Data Analysis** \n",
        "\n",
        "\n",
        "- to analyse the distribution of the data \n",
        "\n",
        "OR \n",
        "- to understand what data conveys"
      ]
    },
    {
      "cell_type": "code",
      "metadata": {
        "colab": {
          "base_uri": "https://localhost:8080/"
        },
        "id": "REFLAMWvg8hB",
        "outputId": "844bd19e-734b-4f27-c177-780f8bf51ff7"
      },
      "source": [
        "#checking the number of rows and columns  \n",
        "\n",
        "data_train.shape  #there are 2000 rows and 21 columns"
      ],
      "execution_count": null,
      "outputs": [
        {
          "output_type": "execute_result",
          "data": {
            "text/plain": [
              "(2000, 21)"
            ]
          },
          "metadata": {
            "tags": []
          },
          "execution_count": 8
        }
      ]
    },
    {
      "cell_type": "code",
      "metadata": {
        "colab": {
          "base_uri": "https://localhost:8080/"
        },
        "id": "ptfrmvBddc1N",
        "outputId": "5775e6ab-3eac-429c-9cfb-4ac71db249a7"
      },
      "source": [
        "data_train.info()"
      ],
      "execution_count": null,
      "outputs": [
        {
          "output_type": "stream",
          "text": [
            "<class 'pandas.core.frame.DataFrame'>\n",
            "RangeIndex: 2000 entries, 0 to 1999\n",
            "Data columns (total 21 columns):\n",
            " #   Column         Non-Null Count  Dtype  \n",
            "---  ------         --------------  -----  \n",
            " 0   battery_power  2000 non-null   int64  \n",
            " 1   blue           2000 non-null   int64  \n",
            " 2   clock_speed    2000 non-null   float64\n",
            " 3   dual_sim       2000 non-null   int64  \n",
            " 4   fc             2000 non-null   int64  \n",
            " 5   four_g         2000 non-null   int64  \n",
            " 6   int_memory     2000 non-null   int64  \n",
            " 7   m_dep          2000 non-null   float64\n",
            " 8   mobile_wt      2000 non-null   int64  \n",
            " 9   n_cores        2000 non-null   int64  \n",
            " 10  pc             2000 non-null   int64  \n",
            " 11  px_height      2000 non-null   int64  \n",
            " 12  px_width       2000 non-null   int64  \n",
            " 13  ram            2000 non-null   int64  \n",
            " 14  sc_h           2000 non-null   int64  \n",
            " 15  sc_w           2000 non-null   int64  \n",
            " 16  talk_time      2000 non-null   int64  \n",
            " 17  three_g        2000 non-null   int64  \n",
            " 18  touch_screen   2000 non-null   int64  \n",
            " 19  wifi           2000 non-null   int64  \n",
            " 20  price_range    2000 non-null   int64  \n",
            "dtypes: float64(2), int64(19)\n",
            "memory usage: 328.2 KB\n"
          ],
          "name": "stdout"
        }
      ]
    },
    {
      "cell_type": "markdown",
      "metadata": {
        "id": "K8ie3PZMhP77"
      },
      "source": [
        "##### There are 2000 rows( 0 to 1999) and 21 columns  - 2000 are values(all are non null values) and 21 are column names.  \n",
        "  ##### If there are less number of null values, remove it\n",
        "\n",
        "#### data types are float64 for 2 columns (clock_speed and m_dep), int64 for the remaining columns"
      ]
    },
    {
      "cell_type": "code",
      "metadata": {
        "colab": {
          "base_uri": "https://localhost:8080/"
        },
        "id": "6xNctYd-g1EX",
        "outputId": "258388dc-42a1-43ac-9b65-f88820835566"
      },
      "source": [
        "data_test.shape"
      ],
      "execution_count": null,
      "outputs": [
        {
          "output_type": "execute_result",
          "data": {
            "text/plain": [
              "(1000, 21)"
            ]
          },
          "metadata": {
            "tags": []
          },
          "execution_count": 10
        }
      ]
    },
    {
      "cell_type": "code",
      "metadata": {
        "colab": {
          "base_uri": "https://localhost:8080/"
        },
        "id": "QMyq_SuqiCw9",
        "outputId": "9a986222-4c6d-4a04-e26a-60c96c81d709"
      },
      "source": [
        "data_test.info() # we can also check the null values"
      ],
      "execution_count": null,
      "outputs": [
        {
          "output_type": "stream",
          "text": [
            "<class 'pandas.core.frame.DataFrame'>\n",
            "RangeIndex: 1000 entries, 0 to 999\n",
            "Data columns (total 21 columns):\n",
            " #   Column         Non-Null Count  Dtype  \n",
            "---  ------         --------------  -----  \n",
            " 0   id             1000 non-null   int64  \n",
            " 1   battery_power  1000 non-null   int64  \n",
            " 2   blue           1000 non-null   int64  \n",
            " 3   clock_speed    1000 non-null   float64\n",
            " 4   dual_sim       1000 non-null   int64  \n",
            " 5   fc             1000 non-null   int64  \n",
            " 6   four_g         1000 non-null   int64  \n",
            " 7   int_memory     1000 non-null   int64  \n",
            " 8   m_dep          1000 non-null   float64\n",
            " 9   mobile_wt      1000 non-null   int64  \n",
            " 10  n_cores        1000 non-null   int64  \n",
            " 11  pc             1000 non-null   int64  \n",
            " 12  px_height      1000 non-null   int64  \n",
            " 13  px_width       1000 non-null   int64  \n",
            " 14  ram            1000 non-null   int64  \n",
            " 15  sc_h           1000 non-null   int64  \n",
            " 16  sc_w           1000 non-null   int64  \n",
            " 17  talk_time      1000 non-null   int64  \n",
            " 18  three_g        1000 non-null   int64  \n",
            " 19  touch_screen   1000 non-null   int64  \n",
            " 20  wifi           1000 non-null   int64  \n",
            "dtypes: float64(2), int64(19)\n",
            "memory usage: 164.2 KB\n"
          ],
          "name": "stdout"
        }
      ]
    },
    {
      "cell_type": "code",
      "metadata": {
        "colab": {
          "base_uri": "https://localhost:8080/",
          "height": 422
        },
        "id": "2cnJMXj5Syo5",
        "outputId": "8c351c85-2b81-41c0-a2d7-52251ed724e4"
      },
      "source": [
        "#another method to check null values \n",
        "\n",
        "data_train.isnull()"
      ],
      "execution_count": null,
      "outputs": [
        {
          "output_type": "execute_result",
          "data": {
            "text/html": [
              "<div>\n",
              "<style scoped>\n",
              "    .dataframe tbody tr th:only-of-type {\n",
              "        vertical-align: middle;\n",
              "    }\n",
              "\n",
              "    .dataframe tbody tr th {\n",
              "        vertical-align: top;\n",
              "    }\n",
              "\n",
              "    .dataframe thead th {\n",
              "        text-align: right;\n",
              "    }\n",
              "</style>\n",
              "<table border=\"1\" class=\"dataframe\">\n",
              "  <thead>\n",
              "    <tr style=\"text-align: right;\">\n",
              "      <th></th>\n",
              "      <th>battery_power</th>\n",
              "      <th>blue</th>\n",
              "      <th>clock_speed</th>\n",
              "      <th>dual_sim</th>\n",
              "      <th>fc</th>\n",
              "      <th>four_g</th>\n",
              "      <th>int_memory</th>\n",
              "      <th>m_dep</th>\n",
              "      <th>mobile_wt</th>\n",
              "      <th>n_cores</th>\n",
              "      <th>pc</th>\n",
              "      <th>px_height</th>\n",
              "      <th>px_width</th>\n",
              "      <th>ram</th>\n",
              "      <th>sc_h</th>\n",
              "      <th>sc_w</th>\n",
              "      <th>talk_time</th>\n",
              "      <th>three_g</th>\n",
              "      <th>touch_screen</th>\n",
              "      <th>wifi</th>\n",
              "      <th>price_range</th>\n",
              "    </tr>\n",
              "  </thead>\n",
              "  <tbody>\n",
              "    <tr>\n",
              "      <th>0</th>\n",
              "      <td>False</td>\n",
              "      <td>False</td>\n",
              "      <td>False</td>\n",
              "      <td>False</td>\n",
              "      <td>False</td>\n",
              "      <td>False</td>\n",
              "      <td>False</td>\n",
              "      <td>False</td>\n",
              "      <td>False</td>\n",
              "      <td>False</td>\n",
              "      <td>False</td>\n",
              "      <td>False</td>\n",
              "      <td>False</td>\n",
              "      <td>False</td>\n",
              "      <td>False</td>\n",
              "      <td>False</td>\n",
              "      <td>False</td>\n",
              "      <td>False</td>\n",
              "      <td>False</td>\n",
              "      <td>False</td>\n",
              "      <td>False</td>\n",
              "    </tr>\n",
              "    <tr>\n",
              "      <th>1</th>\n",
              "      <td>False</td>\n",
              "      <td>False</td>\n",
              "      <td>False</td>\n",
              "      <td>False</td>\n",
              "      <td>False</td>\n",
              "      <td>False</td>\n",
              "      <td>False</td>\n",
              "      <td>False</td>\n",
              "      <td>False</td>\n",
              "      <td>False</td>\n",
              "      <td>False</td>\n",
              "      <td>False</td>\n",
              "      <td>False</td>\n",
              "      <td>False</td>\n",
              "      <td>False</td>\n",
              "      <td>False</td>\n",
              "      <td>False</td>\n",
              "      <td>False</td>\n",
              "      <td>False</td>\n",
              "      <td>False</td>\n",
              "      <td>False</td>\n",
              "    </tr>\n",
              "    <tr>\n",
              "      <th>2</th>\n",
              "      <td>False</td>\n",
              "      <td>False</td>\n",
              "      <td>False</td>\n",
              "      <td>False</td>\n",
              "      <td>False</td>\n",
              "      <td>False</td>\n",
              "      <td>False</td>\n",
              "      <td>False</td>\n",
              "      <td>False</td>\n",
              "      <td>False</td>\n",
              "      <td>False</td>\n",
              "      <td>False</td>\n",
              "      <td>False</td>\n",
              "      <td>False</td>\n",
              "      <td>False</td>\n",
              "      <td>False</td>\n",
              "      <td>False</td>\n",
              "      <td>False</td>\n",
              "      <td>False</td>\n",
              "      <td>False</td>\n",
              "      <td>False</td>\n",
              "    </tr>\n",
              "    <tr>\n",
              "      <th>3</th>\n",
              "      <td>False</td>\n",
              "      <td>False</td>\n",
              "      <td>False</td>\n",
              "      <td>False</td>\n",
              "      <td>False</td>\n",
              "      <td>False</td>\n",
              "      <td>False</td>\n",
              "      <td>False</td>\n",
              "      <td>False</td>\n",
              "      <td>False</td>\n",
              "      <td>False</td>\n",
              "      <td>False</td>\n",
              "      <td>False</td>\n",
              "      <td>False</td>\n",
              "      <td>False</td>\n",
              "      <td>False</td>\n",
              "      <td>False</td>\n",
              "      <td>False</td>\n",
              "      <td>False</td>\n",
              "      <td>False</td>\n",
              "      <td>False</td>\n",
              "    </tr>\n",
              "    <tr>\n",
              "      <th>4</th>\n",
              "      <td>False</td>\n",
              "      <td>False</td>\n",
              "      <td>False</td>\n",
              "      <td>False</td>\n",
              "      <td>False</td>\n",
              "      <td>False</td>\n",
              "      <td>False</td>\n",
              "      <td>False</td>\n",
              "      <td>False</td>\n",
              "      <td>False</td>\n",
              "      <td>False</td>\n",
              "      <td>False</td>\n",
              "      <td>False</td>\n",
              "      <td>False</td>\n",
              "      <td>False</td>\n",
              "      <td>False</td>\n",
              "      <td>False</td>\n",
              "      <td>False</td>\n",
              "      <td>False</td>\n",
              "      <td>False</td>\n",
              "      <td>False</td>\n",
              "    </tr>\n",
              "    <tr>\n",
              "      <th>...</th>\n",
              "      <td>...</td>\n",
              "      <td>...</td>\n",
              "      <td>...</td>\n",
              "      <td>...</td>\n",
              "      <td>...</td>\n",
              "      <td>...</td>\n",
              "      <td>...</td>\n",
              "      <td>...</td>\n",
              "      <td>...</td>\n",
              "      <td>...</td>\n",
              "      <td>...</td>\n",
              "      <td>...</td>\n",
              "      <td>...</td>\n",
              "      <td>...</td>\n",
              "      <td>...</td>\n",
              "      <td>...</td>\n",
              "      <td>...</td>\n",
              "      <td>...</td>\n",
              "      <td>...</td>\n",
              "      <td>...</td>\n",
              "      <td>...</td>\n",
              "    </tr>\n",
              "    <tr>\n",
              "      <th>1995</th>\n",
              "      <td>False</td>\n",
              "      <td>False</td>\n",
              "      <td>False</td>\n",
              "      <td>False</td>\n",
              "      <td>False</td>\n",
              "      <td>False</td>\n",
              "      <td>False</td>\n",
              "      <td>False</td>\n",
              "      <td>False</td>\n",
              "      <td>False</td>\n",
              "      <td>False</td>\n",
              "      <td>False</td>\n",
              "      <td>False</td>\n",
              "      <td>False</td>\n",
              "      <td>False</td>\n",
              "      <td>False</td>\n",
              "      <td>False</td>\n",
              "      <td>False</td>\n",
              "      <td>False</td>\n",
              "      <td>False</td>\n",
              "      <td>False</td>\n",
              "    </tr>\n",
              "    <tr>\n",
              "      <th>1996</th>\n",
              "      <td>False</td>\n",
              "      <td>False</td>\n",
              "      <td>False</td>\n",
              "      <td>False</td>\n",
              "      <td>False</td>\n",
              "      <td>False</td>\n",
              "      <td>False</td>\n",
              "      <td>False</td>\n",
              "      <td>False</td>\n",
              "      <td>False</td>\n",
              "      <td>False</td>\n",
              "      <td>False</td>\n",
              "      <td>False</td>\n",
              "      <td>False</td>\n",
              "      <td>False</td>\n",
              "      <td>False</td>\n",
              "      <td>False</td>\n",
              "      <td>False</td>\n",
              "      <td>False</td>\n",
              "      <td>False</td>\n",
              "      <td>False</td>\n",
              "    </tr>\n",
              "    <tr>\n",
              "      <th>1997</th>\n",
              "      <td>False</td>\n",
              "      <td>False</td>\n",
              "      <td>False</td>\n",
              "      <td>False</td>\n",
              "      <td>False</td>\n",
              "      <td>False</td>\n",
              "      <td>False</td>\n",
              "      <td>False</td>\n",
              "      <td>False</td>\n",
              "      <td>False</td>\n",
              "      <td>False</td>\n",
              "      <td>False</td>\n",
              "      <td>False</td>\n",
              "      <td>False</td>\n",
              "      <td>False</td>\n",
              "      <td>False</td>\n",
              "      <td>False</td>\n",
              "      <td>False</td>\n",
              "      <td>False</td>\n",
              "      <td>False</td>\n",
              "      <td>False</td>\n",
              "    </tr>\n",
              "    <tr>\n",
              "      <th>1998</th>\n",
              "      <td>False</td>\n",
              "      <td>False</td>\n",
              "      <td>False</td>\n",
              "      <td>False</td>\n",
              "      <td>False</td>\n",
              "      <td>False</td>\n",
              "      <td>False</td>\n",
              "      <td>False</td>\n",
              "      <td>False</td>\n",
              "      <td>False</td>\n",
              "      <td>False</td>\n",
              "      <td>False</td>\n",
              "      <td>False</td>\n",
              "      <td>False</td>\n",
              "      <td>False</td>\n",
              "      <td>False</td>\n",
              "      <td>False</td>\n",
              "      <td>False</td>\n",
              "      <td>False</td>\n",
              "      <td>False</td>\n",
              "      <td>False</td>\n",
              "    </tr>\n",
              "    <tr>\n",
              "      <th>1999</th>\n",
              "      <td>False</td>\n",
              "      <td>False</td>\n",
              "      <td>False</td>\n",
              "      <td>False</td>\n",
              "      <td>False</td>\n",
              "      <td>False</td>\n",
              "      <td>False</td>\n",
              "      <td>False</td>\n",
              "      <td>False</td>\n",
              "      <td>False</td>\n",
              "      <td>False</td>\n",
              "      <td>False</td>\n",
              "      <td>False</td>\n",
              "      <td>False</td>\n",
              "      <td>False</td>\n",
              "      <td>False</td>\n",
              "      <td>False</td>\n",
              "      <td>False</td>\n",
              "      <td>False</td>\n",
              "      <td>False</td>\n",
              "      <td>False</td>\n",
              "    </tr>\n",
              "  </tbody>\n",
              "</table>\n",
              "<p>2000 rows × 21 columns</p>\n",
              "</div>"
            ],
            "text/plain": [
              "      battery_power   blue  clock_speed  ...  touch_screen   wifi  price_range\n",
              "0             False  False        False  ...         False  False        False\n",
              "1             False  False        False  ...         False  False        False\n",
              "2             False  False        False  ...         False  False        False\n",
              "3             False  False        False  ...         False  False        False\n",
              "4             False  False        False  ...         False  False        False\n",
              "...             ...    ...          ...  ...           ...    ...          ...\n",
              "1995          False  False        False  ...         False  False        False\n",
              "1996          False  False        False  ...         False  False        False\n",
              "1997          False  False        False  ...         False  False        False\n",
              "1998          False  False        False  ...         False  False        False\n",
              "1999          False  False        False  ...         False  False        False\n",
              "\n",
              "[2000 rows x 21 columns]"
            ]
          },
          "metadata": {
            "tags": []
          },
          "execution_count": 12
        }
      ]
    },
    {
      "cell_type": "code",
      "metadata": {
        "colab": {
          "base_uri": "https://localhost:8080/"
        },
        "id": "38q0Fd1PS9tN",
        "outputId": "f8094dca-b680-44d4-a304-76c186b98c8c"
      },
      "source": [
        "data_train.isnull().sum()"
      ],
      "execution_count": null,
      "outputs": [
        {
          "output_type": "execute_result",
          "data": {
            "text/plain": [
              "battery_power    0\n",
              "blue             0\n",
              "clock_speed      0\n",
              "dual_sim         0\n",
              "fc               0\n",
              "four_g           0\n",
              "int_memory       0\n",
              "m_dep            0\n",
              "mobile_wt        0\n",
              "n_cores          0\n",
              "pc               0\n",
              "px_height        0\n",
              "px_width         0\n",
              "ram              0\n",
              "sc_h             0\n",
              "sc_w             0\n",
              "talk_time        0\n",
              "three_g          0\n",
              "touch_screen     0\n",
              "wifi             0\n",
              "price_range      0\n",
              "dtype: int64"
            ]
          },
          "metadata": {
            "tags": []
          },
          "execution_count": 13
        }
      ]
    },
    {
      "cell_type": "code",
      "metadata": {
        "colab": {
          "base_uri": "https://localhost:8080/",
          "height": 304
        },
        "id": "xioc99VHiHTC",
        "outputId": "27e65581-2a43-40ab-9e31-779fe96e0953"
      },
      "source": [
        "# to show the statistics \n",
        "\n",
        "data_train.describe()"
      ],
      "execution_count": null,
      "outputs": [
        {
          "output_type": "execute_result",
          "data": {
            "text/html": [
              "<div>\n",
              "<style scoped>\n",
              "    .dataframe tbody tr th:only-of-type {\n",
              "        vertical-align: middle;\n",
              "    }\n",
              "\n",
              "    .dataframe tbody tr th {\n",
              "        vertical-align: top;\n",
              "    }\n",
              "\n",
              "    .dataframe thead th {\n",
              "        text-align: right;\n",
              "    }\n",
              "</style>\n",
              "<table border=\"1\" class=\"dataframe\">\n",
              "  <thead>\n",
              "    <tr style=\"text-align: right;\">\n",
              "      <th></th>\n",
              "      <th>battery_power</th>\n",
              "      <th>blue</th>\n",
              "      <th>clock_speed</th>\n",
              "      <th>dual_sim</th>\n",
              "      <th>fc</th>\n",
              "      <th>four_g</th>\n",
              "      <th>int_memory</th>\n",
              "      <th>m_dep</th>\n",
              "      <th>mobile_wt</th>\n",
              "      <th>n_cores</th>\n",
              "      <th>pc</th>\n",
              "      <th>px_height</th>\n",
              "      <th>px_width</th>\n",
              "      <th>ram</th>\n",
              "      <th>sc_h</th>\n",
              "      <th>sc_w</th>\n",
              "      <th>talk_time</th>\n",
              "      <th>three_g</th>\n",
              "      <th>touch_screen</th>\n",
              "      <th>wifi</th>\n",
              "      <th>price_range</th>\n",
              "    </tr>\n",
              "  </thead>\n",
              "  <tbody>\n",
              "    <tr>\n",
              "      <th>count</th>\n",
              "      <td>2000.000000</td>\n",
              "      <td>2000.0000</td>\n",
              "      <td>2000.000000</td>\n",
              "      <td>2000.000000</td>\n",
              "      <td>2000.000000</td>\n",
              "      <td>2000.000000</td>\n",
              "      <td>2000.000000</td>\n",
              "      <td>2000.000000</td>\n",
              "      <td>2000.000000</td>\n",
              "      <td>2000.000000</td>\n",
              "      <td>2000.000000</td>\n",
              "      <td>2000.000000</td>\n",
              "      <td>2000.000000</td>\n",
              "      <td>2000.000000</td>\n",
              "      <td>2000.000000</td>\n",
              "      <td>2000.000000</td>\n",
              "      <td>2000.000000</td>\n",
              "      <td>2000.000000</td>\n",
              "      <td>2000.000000</td>\n",
              "      <td>2000.000000</td>\n",
              "      <td>2000.000000</td>\n",
              "    </tr>\n",
              "    <tr>\n",
              "      <th>mean</th>\n",
              "      <td>1238.518500</td>\n",
              "      <td>0.4950</td>\n",
              "      <td>1.522250</td>\n",
              "      <td>0.509500</td>\n",
              "      <td>4.309500</td>\n",
              "      <td>0.521500</td>\n",
              "      <td>32.046500</td>\n",
              "      <td>0.501750</td>\n",
              "      <td>140.249000</td>\n",
              "      <td>4.520500</td>\n",
              "      <td>9.916500</td>\n",
              "      <td>645.108000</td>\n",
              "      <td>1251.515500</td>\n",
              "      <td>2124.213000</td>\n",
              "      <td>12.306500</td>\n",
              "      <td>5.767000</td>\n",
              "      <td>11.011000</td>\n",
              "      <td>0.761500</td>\n",
              "      <td>0.503000</td>\n",
              "      <td>0.507000</td>\n",
              "      <td>1.500000</td>\n",
              "    </tr>\n",
              "    <tr>\n",
              "      <th>std</th>\n",
              "      <td>439.418206</td>\n",
              "      <td>0.5001</td>\n",
              "      <td>0.816004</td>\n",
              "      <td>0.500035</td>\n",
              "      <td>4.341444</td>\n",
              "      <td>0.499662</td>\n",
              "      <td>18.145715</td>\n",
              "      <td>0.288416</td>\n",
              "      <td>35.399655</td>\n",
              "      <td>2.287837</td>\n",
              "      <td>6.064315</td>\n",
              "      <td>443.780811</td>\n",
              "      <td>432.199447</td>\n",
              "      <td>1084.732044</td>\n",
              "      <td>4.213245</td>\n",
              "      <td>4.356398</td>\n",
              "      <td>5.463955</td>\n",
              "      <td>0.426273</td>\n",
              "      <td>0.500116</td>\n",
              "      <td>0.500076</td>\n",
              "      <td>1.118314</td>\n",
              "    </tr>\n",
              "    <tr>\n",
              "      <th>min</th>\n",
              "      <td>501.000000</td>\n",
              "      <td>0.0000</td>\n",
              "      <td>0.500000</td>\n",
              "      <td>0.000000</td>\n",
              "      <td>0.000000</td>\n",
              "      <td>0.000000</td>\n",
              "      <td>2.000000</td>\n",
              "      <td>0.100000</td>\n",
              "      <td>80.000000</td>\n",
              "      <td>1.000000</td>\n",
              "      <td>0.000000</td>\n",
              "      <td>0.000000</td>\n",
              "      <td>500.000000</td>\n",
              "      <td>256.000000</td>\n",
              "      <td>5.000000</td>\n",
              "      <td>0.000000</td>\n",
              "      <td>2.000000</td>\n",
              "      <td>0.000000</td>\n",
              "      <td>0.000000</td>\n",
              "      <td>0.000000</td>\n",
              "      <td>0.000000</td>\n",
              "    </tr>\n",
              "    <tr>\n",
              "      <th>25%</th>\n",
              "      <td>851.750000</td>\n",
              "      <td>0.0000</td>\n",
              "      <td>0.700000</td>\n",
              "      <td>0.000000</td>\n",
              "      <td>1.000000</td>\n",
              "      <td>0.000000</td>\n",
              "      <td>16.000000</td>\n",
              "      <td>0.200000</td>\n",
              "      <td>109.000000</td>\n",
              "      <td>3.000000</td>\n",
              "      <td>5.000000</td>\n",
              "      <td>282.750000</td>\n",
              "      <td>874.750000</td>\n",
              "      <td>1207.500000</td>\n",
              "      <td>9.000000</td>\n",
              "      <td>2.000000</td>\n",
              "      <td>6.000000</td>\n",
              "      <td>1.000000</td>\n",
              "      <td>0.000000</td>\n",
              "      <td>0.000000</td>\n",
              "      <td>0.750000</td>\n",
              "    </tr>\n",
              "    <tr>\n",
              "      <th>50%</th>\n",
              "      <td>1226.000000</td>\n",
              "      <td>0.0000</td>\n",
              "      <td>1.500000</td>\n",
              "      <td>1.000000</td>\n",
              "      <td>3.000000</td>\n",
              "      <td>1.000000</td>\n",
              "      <td>32.000000</td>\n",
              "      <td>0.500000</td>\n",
              "      <td>141.000000</td>\n",
              "      <td>4.000000</td>\n",
              "      <td>10.000000</td>\n",
              "      <td>564.000000</td>\n",
              "      <td>1247.000000</td>\n",
              "      <td>2146.500000</td>\n",
              "      <td>12.000000</td>\n",
              "      <td>5.000000</td>\n",
              "      <td>11.000000</td>\n",
              "      <td>1.000000</td>\n",
              "      <td>1.000000</td>\n",
              "      <td>1.000000</td>\n",
              "      <td>1.500000</td>\n",
              "    </tr>\n",
              "    <tr>\n",
              "      <th>75%</th>\n",
              "      <td>1615.250000</td>\n",
              "      <td>1.0000</td>\n",
              "      <td>2.200000</td>\n",
              "      <td>1.000000</td>\n",
              "      <td>7.000000</td>\n",
              "      <td>1.000000</td>\n",
              "      <td>48.000000</td>\n",
              "      <td>0.800000</td>\n",
              "      <td>170.000000</td>\n",
              "      <td>7.000000</td>\n",
              "      <td>15.000000</td>\n",
              "      <td>947.250000</td>\n",
              "      <td>1633.000000</td>\n",
              "      <td>3064.500000</td>\n",
              "      <td>16.000000</td>\n",
              "      <td>9.000000</td>\n",
              "      <td>16.000000</td>\n",
              "      <td>1.000000</td>\n",
              "      <td>1.000000</td>\n",
              "      <td>1.000000</td>\n",
              "      <td>2.250000</td>\n",
              "    </tr>\n",
              "    <tr>\n",
              "      <th>max</th>\n",
              "      <td>1998.000000</td>\n",
              "      <td>1.0000</td>\n",
              "      <td>3.000000</td>\n",
              "      <td>1.000000</td>\n",
              "      <td>19.000000</td>\n",
              "      <td>1.000000</td>\n",
              "      <td>64.000000</td>\n",
              "      <td>1.000000</td>\n",
              "      <td>200.000000</td>\n",
              "      <td>8.000000</td>\n",
              "      <td>20.000000</td>\n",
              "      <td>1960.000000</td>\n",
              "      <td>1998.000000</td>\n",
              "      <td>3998.000000</td>\n",
              "      <td>19.000000</td>\n",
              "      <td>18.000000</td>\n",
              "      <td>20.000000</td>\n",
              "      <td>1.000000</td>\n",
              "      <td>1.000000</td>\n",
              "      <td>1.000000</td>\n",
              "      <td>3.000000</td>\n",
              "    </tr>\n",
              "  </tbody>\n",
              "</table>\n",
              "</div>"
            ],
            "text/plain": [
              "       battery_power       blue  ...         wifi  price_range\n",
              "count    2000.000000  2000.0000  ...  2000.000000  2000.000000\n",
              "mean     1238.518500     0.4950  ...     0.507000     1.500000\n",
              "std       439.418206     0.5001  ...     0.500076     1.118314\n",
              "min       501.000000     0.0000  ...     0.000000     0.000000\n",
              "25%       851.750000     0.0000  ...     0.000000     0.750000\n",
              "50%      1226.000000     0.0000  ...     1.000000     1.500000\n",
              "75%      1615.250000     1.0000  ...     1.000000     2.250000\n",
              "max      1998.000000     1.0000  ...     1.000000     3.000000\n",
              "\n",
              "[8 rows x 21 columns]"
            ]
          },
          "metadata": {
            "tags": []
          },
          "execution_count": 14
        }
      ]
    },
    {
      "cell_type": "code",
      "metadata": {
        "colab": {
          "base_uri": "https://localhost:8080/",
          "height": 304
        },
        "id": "Gk5kkgpLnrow",
        "outputId": "e72b8d8f-91f6-42d4-95ef-2cf56114e008"
      },
      "source": [
        "data_test.describe()"
      ],
      "execution_count": null,
      "outputs": [
        {
          "output_type": "execute_result",
          "data": {
            "text/html": [
              "<div>\n",
              "<style scoped>\n",
              "    .dataframe tbody tr th:only-of-type {\n",
              "        vertical-align: middle;\n",
              "    }\n",
              "\n",
              "    .dataframe tbody tr th {\n",
              "        vertical-align: top;\n",
              "    }\n",
              "\n",
              "    .dataframe thead th {\n",
              "        text-align: right;\n",
              "    }\n",
              "</style>\n",
              "<table border=\"1\" class=\"dataframe\">\n",
              "  <thead>\n",
              "    <tr style=\"text-align: right;\">\n",
              "      <th></th>\n",
              "      <th>id</th>\n",
              "      <th>battery_power</th>\n",
              "      <th>blue</th>\n",
              "      <th>clock_speed</th>\n",
              "      <th>dual_sim</th>\n",
              "      <th>fc</th>\n",
              "      <th>four_g</th>\n",
              "      <th>int_memory</th>\n",
              "      <th>m_dep</th>\n",
              "      <th>mobile_wt</th>\n",
              "      <th>n_cores</th>\n",
              "      <th>pc</th>\n",
              "      <th>px_height</th>\n",
              "      <th>px_width</th>\n",
              "      <th>ram</th>\n",
              "      <th>sc_h</th>\n",
              "      <th>sc_w</th>\n",
              "      <th>talk_time</th>\n",
              "      <th>three_g</th>\n",
              "      <th>touch_screen</th>\n",
              "      <th>wifi</th>\n",
              "    </tr>\n",
              "  </thead>\n",
              "  <tbody>\n",
              "    <tr>\n",
              "      <th>count</th>\n",
              "      <td>1000.000000</td>\n",
              "      <td>1000.000000</td>\n",
              "      <td>1000.000000</td>\n",
              "      <td>1000.000000</td>\n",
              "      <td>1000.000000</td>\n",
              "      <td>1000.000000</td>\n",
              "      <td>1000.000000</td>\n",
              "      <td>1000.000000</td>\n",
              "      <td>1000.000000</td>\n",
              "      <td>1000.00000</td>\n",
              "      <td>1000.000000</td>\n",
              "      <td>1000.000000</td>\n",
              "      <td>1000.000000</td>\n",
              "      <td>1000.000000</td>\n",
              "      <td>1000.000000</td>\n",
              "      <td>1000.000000</td>\n",
              "      <td>1000.000000</td>\n",
              "      <td>1000.000000</td>\n",
              "      <td>1000.000000</td>\n",
              "      <td>1000.00000</td>\n",
              "      <td>1000.000000</td>\n",
              "    </tr>\n",
              "    <tr>\n",
              "      <th>mean</th>\n",
              "      <td>500.500000</td>\n",
              "      <td>1248.510000</td>\n",
              "      <td>0.516000</td>\n",
              "      <td>1.540900</td>\n",
              "      <td>0.517000</td>\n",
              "      <td>4.593000</td>\n",
              "      <td>0.487000</td>\n",
              "      <td>33.652000</td>\n",
              "      <td>0.517500</td>\n",
              "      <td>139.51100</td>\n",
              "      <td>4.328000</td>\n",
              "      <td>10.054000</td>\n",
              "      <td>627.121000</td>\n",
              "      <td>1239.774000</td>\n",
              "      <td>2138.998000</td>\n",
              "      <td>11.995000</td>\n",
              "      <td>5.316000</td>\n",
              "      <td>11.085000</td>\n",
              "      <td>0.756000</td>\n",
              "      <td>0.50000</td>\n",
              "      <td>0.507000</td>\n",
              "    </tr>\n",
              "    <tr>\n",
              "      <th>std</th>\n",
              "      <td>288.819436</td>\n",
              "      <td>432.458227</td>\n",
              "      <td>0.499994</td>\n",
              "      <td>0.829268</td>\n",
              "      <td>0.499961</td>\n",
              "      <td>4.463325</td>\n",
              "      <td>0.500081</td>\n",
              "      <td>18.128694</td>\n",
              "      <td>0.280861</td>\n",
              "      <td>34.85155</td>\n",
              "      <td>2.288155</td>\n",
              "      <td>6.095099</td>\n",
              "      <td>432.929699</td>\n",
              "      <td>439.670981</td>\n",
              "      <td>1088.092278</td>\n",
              "      <td>4.320607</td>\n",
              "      <td>4.240062</td>\n",
              "      <td>5.497636</td>\n",
              "      <td>0.429708</td>\n",
              "      <td>0.50025</td>\n",
              "      <td>0.500201</td>\n",
              "    </tr>\n",
              "    <tr>\n",
              "      <th>min</th>\n",
              "      <td>1.000000</td>\n",
              "      <td>500.000000</td>\n",
              "      <td>0.000000</td>\n",
              "      <td>0.500000</td>\n",
              "      <td>0.000000</td>\n",
              "      <td>0.000000</td>\n",
              "      <td>0.000000</td>\n",
              "      <td>2.000000</td>\n",
              "      <td>0.100000</td>\n",
              "      <td>80.00000</td>\n",
              "      <td>1.000000</td>\n",
              "      <td>0.000000</td>\n",
              "      <td>0.000000</td>\n",
              "      <td>501.000000</td>\n",
              "      <td>263.000000</td>\n",
              "      <td>5.000000</td>\n",
              "      <td>0.000000</td>\n",
              "      <td>2.000000</td>\n",
              "      <td>0.000000</td>\n",
              "      <td>0.00000</td>\n",
              "      <td>0.000000</td>\n",
              "    </tr>\n",
              "    <tr>\n",
              "      <th>25%</th>\n",
              "      <td>250.750000</td>\n",
              "      <td>895.000000</td>\n",
              "      <td>0.000000</td>\n",
              "      <td>0.700000</td>\n",
              "      <td>0.000000</td>\n",
              "      <td>1.000000</td>\n",
              "      <td>0.000000</td>\n",
              "      <td>18.000000</td>\n",
              "      <td>0.300000</td>\n",
              "      <td>109.75000</td>\n",
              "      <td>2.000000</td>\n",
              "      <td>5.000000</td>\n",
              "      <td>263.750000</td>\n",
              "      <td>831.750000</td>\n",
              "      <td>1237.250000</td>\n",
              "      <td>8.000000</td>\n",
              "      <td>2.000000</td>\n",
              "      <td>6.750000</td>\n",
              "      <td>1.000000</td>\n",
              "      <td>0.00000</td>\n",
              "      <td>0.000000</td>\n",
              "    </tr>\n",
              "    <tr>\n",
              "      <th>50%</th>\n",
              "      <td>500.500000</td>\n",
              "      <td>1246.500000</td>\n",
              "      <td>1.000000</td>\n",
              "      <td>1.500000</td>\n",
              "      <td>1.000000</td>\n",
              "      <td>3.000000</td>\n",
              "      <td>0.000000</td>\n",
              "      <td>34.500000</td>\n",
              "      <td>0.500000</td>\n",
              "      <td>139.00000</td>\n",
              "      <td>4.000000</td>\n",
              "      <td>10.000000</td>\n",
              "      <td>564.500000</td>\n",
              "      <td>1250.000000</td>\n",
              "      <td>2153.500000</td>\n",
              "      <td>12.000000</td>\n",
              "      <td>5.000000</td>\n",
              "      <td>11.000000</td>\n",
              "      <td>1.000000</td>\n",
              "      <td>0.50000</td>\n",
              "      <td>1.000000</td>\n",
              "    </tr>\n",
              "    <tr>\n",
              "      <th>75%</th>\n",
              "      <td>750.250000</td>\n",
              "      <td>1629.250000</td>\n",
              "      <td>1.000000</td>\n",
              "      <td>2.300000</td>\n",
              "      <td>1.000000</td>\n",
              "      <td>7.000000</td>\n",
              "      <td>1.000000</td>\n",
              "      <td>49.000000</td>\n",
              "      <td>0.800000</td>\n",
              "      <td>170.00000</td>\n",
              "      <td>6.000000</td>\n",
              "      <td>16.000000</td>\n",
              "      <td>903.000000</td>\n",
              "      <td>1637.750000</td>\n",
              "      <td>3065.500000</td>\n",
              "      <td>16.000000</td>\n",
              "      <td>8.000000</td>\n",
              "      <td>16.000000</td>\n",
              "      <td>1.000000</td>\n",
              "      <td>1.00000</td>\n",
              "      <td>1.000000</td>\n",
              "    </tr>\n",
              "    <tr>\n",
              "      <th>max</th>\n",
              "      <td>1000.000000</td>\n",
              "      <td>1999.000000</td>\n",
              "      <td>1.000000</td>\n",
              "      <td>3.000000</td>\n",
              "      <td>1.000000</td>\n",
              "      <td>19.000000</td>\n",
              "      <td>1.000000</td>\n",
              "      <td>64.000000</td>\n",
              "      <td>1.000000</td>\n",
              "      <td>200.00000</td>\n",
              "      <td>8.000000</td>\n",
              "      <td>20.000000</td>\n",
              "      <td>1907.000000</td>\n",
              "      <td>1998.000000</td>\n",
              "      <td>3989.000000</td>\n",
              "      <td>19.000000</td>\n",
              "      <td>18.000000</td>\n",
              "      <td>20.000000</td>\n",
              "      <td>1.000000</td>\n",
              "      <td>1.00000</td>\n",
              "      <td>1.000000</td>\n",
              "    </tr>\n",
              "  </tbody>\n",
              "</table>\n",
              "</div>"
            ],
            "text/plain": [
              "                id  battery_power  ...  touch_screen         wifi\n",
              "count  1000.000000    1000.000000  ...    1000.00000  1000.000000\n",
              "mean    500.500000    1248.510000  ...       0.50000     0.507000\n",
              "std     288.819436     432.458227  ...       0.50025     0.500201\n",
              "min       1.000000     500.000000  ...       0.00000     0.000000\n",
              "25%     250.750000     895.000000  ...       0.00000     0.000000\n",
              "50%     500.500000    1246.500000  ...       0.50000     1.000000\n",
              "75%     750.250000    1629.250000  ...       1.00000     1.000000\n",
              "max    1000.000000    1999.000000  ...       1.00000     1.000000\n",
              "\n",
              "[8 rows x 21 columns]"
            ]
          },
          "metadata": {
            "tags": []
          },
          "execution_count": 15
        }
      ]
    },
    {
      "cell_type": "markdown",
      "source": [
        "### Data Visualization"
      ],
      "metadata": {
        "id": "Mq8UbBBDDYmy"
      }
    },
    {
      "cell_type": "code",
      "metadata": {
        "colab": {
          "base_uri": "https://localhost:8080/",
          "height": 280
        },
        "id": "bFqswDBynwfy",
        "outputId": "edd0a3f0-0933-4a59-ee4a-f5aa16ce56e3"
      },
      "source": [
        "#visulaizations (plots)  \n",
        "\n",
        "data_train.plot(x=\"price_range\", y=\"ram\")  #is RAM affecting Price_range or not & How much?\n",
        "plt.show()"
      ],
      "execution_count": null,
      "outputs": [
        {
          "output_type": "display_data",
          "data": {
            "image/png": "[encoded data removed]",
            "text/plain": [
              "<Figure size 432x288 with 1 Axes>"
            ]
          },
          "metadata": {
            "tags": [],
            "needs_background": "light"
          }
        }
      ]
    },
    {
      "cell_type": "code",
      "metadata": {
        "colab": {
          "base_uri": "https://localhost:8080/",
          "height": 297
        },
        "id": "ypeVXpCPpJ4_",
        "outputId": "bf977f76-a26a-431d-fc2d-cf545dc8f3a9"
      },
      "source": [
        "data_train.plot(x=\"price_range\", y=\"ram\", kind=\"scatter\") "
      ],
      "execution_count": null,
      "outputs": [
        {
          "output_type": "execute_result",
          "data": {
            "text/plain": [
              "<matplotlib.axes._subplots.AxesSubplot at 0x7f6cfa671f10>"
            ]
          },
          "metadata": {
            "tags": []
          },
          "execution_count": 17
        },
        {
          "output_type": "display_data",
          "data": {
            "image/png": "[encoded data removed]",
            "text/plain": [
              "<Figure size 432x288 with 1 Axes>"
            ]
          },
          "metadata": {
            "tags": [],
            "needs_background": "light"
          }
        }
      ]
    },
    {
      "cell_type": "markdown",
      "metadata": {
        "id": "IQjm9782p9uu"
      },
      "source": [
        "Ram increases the mobile price range"
      ]
    },
    {
      "cell_type": "code",
      "metadata": {
        "colab": {
          "base_uri": "https://localhost:8080/",
          "height": 297
        },
        "id": "QZ4drNrHpor-",
        "outputId": "5240050e-2b88-4df2-c902-7a80c887d1ec"
      },
      "source": [
        "data_train.plot(x=\"price_range\", y=\"battery_power\", kind = \"scatter\")"
      ],
      "execution_count": null,
      "outputs": [
        {
          "output_type": "execute_result",
          "data": {
            "text/plain": [
              "<matplotlib.axes._subplots.AxesSubplot at 0x7f6cfa179450>"
            ]
          },
          "metadata": {
            "tags": []
          },
          "execution_count": 18
        },
        {
          "output_type": "display_data",
          "data": {
            "image/png": "[encoded data removed]",
            "text/plain": [
              "<Figure size 432x288 with 1 Axes>"
            ]
          },
          "metadata": {
            "tags": [],
            "needs_background": "light"
          }
        }
      ]
    },
    {
      "cell_type": "markdown",
      "metadata": {
        "id": "0B1FIXNPzl2U"
      },
      "source": [
        "battery power is not affecting mobile price"
      ]
    },
    {
      "cell_type": "code",
      "metadata": {
        "colab": {
          "base_uri": "https://localhost:8080/",
          "height": 297
        },
        "id": "45R2K8IFx1Kc",
        "outputId": "1eab92de-5886-45d8-8f6a-1778ac5aadcb"
      },
      "source": [
        "data_train.plot(x=\"price_range\", y=\"fc\", kind = \"scatter\")"
      ],
      "execution_count": null,
      "outputs": [
        {
          "output_type": "execute_result",
          "data": {
            "text/plain": [
              "<matplotlib.axes._subplots.AxesSubplot at 0x7f6cfa157bd0>"
            ]
          },
          "metadata": {
            "tags": []
          },
          "execution_count": 19
        },
        {
          "output_type": "display_data",
          "data": {
            "image/png": "[encoded data removed]",
            "text/plain": [
              "<Figure size 432x288 with 1 Axes>"
            ]
          },
          "metadata": {
            "tags": [],
            "needs_background": "light"
          }
        }
      ]
    },
    {
      "cell_type": "markdown",
      "metadata": {
        "id": "-_3_oQzgHnRI"
      },
      "source": [
        "fc-front camera is not affecting price"
      ]
    },
    {
      "cell_type": "code",
      "metadata": {
        "colab": {
          "base_uri": "https://localhost:8080/",
          "height": 542
        },
        "id": "DnMmjCDdHGD0",
        "outputId": "d63a72f6-4cf0-41ec-9c08-43e05219588f"
      },
      "source": [
        "# checking the outliers-using BOXPLOT  \n",
        "\n",
        "\n",
        "data_train.plot(kind=\"box\", figsize=(20,10))"
      ],
      "execution_count": null,
      "outputs": [
        {
          "output_type": "execute_result",
          "data": {
            "text/plain": [
              "<matplotlib.axes._subplots.AxesSubplot at 0x7f6cfa070550>"
            ]
          },
          "metadata": {
            "tags": []
          },
          "execution_count": 20
        },
        {
          "output_type": "display_data",
          "data": {
            "image/png": "[encoded data removed]",
            "text/plain": [
              "<Figure size 1440x720 with 1 Axes>"
            ]
          },
          "metadata": {
            "tags": [],
            "needs_background": "light"
          }
        }
      ]
    },
    {
      "cell_type": "markdown",
      "metadata": {
        "id": "gHL1-7G9xZFc"
      },
      "source": [
        "#### **Drop the target column and assign to seperate variable:**"
      ]
    },
    {
      "cell_type": "code",
      "metadata": {
        "colab": {
          "base_uri": "https://localhost:8080/"
        },
        "id": "-EosUHXVx7eM",
        "outputId": "f062dd04-babd-408b-e9b0-25bc9d26e95a"
      },
      "source": [
        "data_train.columns  #target is \"price_range\" column"
      ],
      "execution_count": null,
      "outputs": [
        {
          "output_type": "execute_result",
          "data": {
            "text/plain": [
              "Index(['battery_power', 'blue', 'clock_speed', 'dual_sim', 'fc', 'four_g',\n",
              "       'int_memory', 'm_dep', 'mobile_wt', 'n_cores', 'pc', 'px_height',\n",
              "       'px_width', 'ram', 'sc_h', 'sc_w', 'talk_time', 'three_g',\n",
              "       'touch_screen', 'wifi', 'price_range'],\n",
              "      dtype='object')"
            ]
          },
          "metadata": {
            "tags": []
          },
          "execution_count": 21
        }
      ]
    },
    {
      "cell_type": "code",
      "metadata": {
        "colab": {
          "base_uri": "https://localhost:8080/",
          "height": 422
        },
        "id": "8-XB7-eMxXaW",
        "outputId": "9e0ce282-8a33-436f-b51d-a2f68f0d6749"
      },
      "source": [
        "X = data_train.drop(\"price_range\", axis = 1)  # X don't contain Target \n",
        "X"
      ],
      "execution_count": null,
      "outputs": [
        {
          "output_type": "execute_result",
          "data": {
            "text/html": [
              "<div>\n",
              "<style scoped>\n",
              "    .dataframe tbody tr th:only-of-type {\n",
              "        vertical-align: middle;\n",
              "    }\n",
              "\n",
              "    .dataframe tbody tr th {\n",
              "        vertical-align: top;\n",
              "    }\n",
              "\n",
              "    .dataframe thead th {\n",
              "        text-align: right;\n",
              "    }\n",
              "</style>\n",
              "<table border=\"1\" class=\"dataframe\">\n",
              "  <thead>\n",
              "    <tr style=\"text-align: right;\">\n",
              "      <th></th>\n",
              "      <th>battery_power</th>\n",
              "      <th>blue</th>\n",
              "      <th>clock_speed</th>\n",
              "      <th>dual_sim</th>\n",
              "      <th>fc</th>\n",
              "      <th>four_g</th>\n",
              "      <th>int_memory</th>\n",
              "      <th>m_dep</th>\n",
              "      <th>mobile_wt</th>\n",
              "      <th>n_cores</th>\n",
              "      <th>pc</th>\n",
              "      <th>px_height</th>\n",
              "      <th>px_width</th>\n",
              "      <th>ram</th>\n",
              "      <th>sc_h</th>\n",
              "      <th>sc_w</th>\n",
              "      <th>talk_time</th>\n",
              "      <th>three_g</th>\n",
              "      <th>touch_screen</th>\n",
              "      <th>wifi</th>\n",
              "    </tr>\n",
              "  </thead>\n",
              "  <tbody>\n",
              "    <tr>\n",
              "      <th>0</th>\n",
              "      <td>842</td>\n",
              "      <td>0</td>\n",
              "      <td>2.2</td>\n",
              "      <td>0</td>\n",
              "      <td>1</td>\n",
              "      <td>0</td>\n",
              "      <td>7</td>\n",
              "      <td>0.6</td>\n",
              "      <td>188</td>\n",
              "      <td>2</td>\n",
              "      <td>2</td>\n",
              "      <td>20</td>\n",
              "      <td>756</td>\n",
              "      <td>2549</td>\n",
              "      <td>9</td>\n",
              "      <td>7</td>\n",
              "      <td>19</td>\n",
              "      <td>0</td>\n",
              "      <td>0</td>\n",
              "      <td>1</td>\n",
              "    </tr>\n",
              "    <tr>\n",
              "      <th>1</th>\n",
              "      <td>1021</td>\n",
              "      <td>1</td>\n",
              "      <td>0.5</td>\n",
              "      <td>1</td>\n",
              "      <td>0</td>\n",
              "      <td>1</td>\n",
              "      <td>53</td>\n",
              "      <td>0.7</td>\n",
              "      <td>136</td>\n",
              "      <td>3</td>\n",
              "      <td>6</td>\n",
              "      <td>905</td>\n",
              "      <td>1988</td>\n",
              "      <td>2631</td>\n",
              "      <td>17</td>\n",
              "      <td>3</td>\n",
              "      <td>7</td>\n",
              "      <td>1</td>\n",
              "      <td>1</td>\n",
              "      <td>0</td>\n",
              "    </tr>\n",
              "    <tr>\n",
              "      <th>2</th>\n",
              "      <td>563</td>\n",
              "      <td>1</td>\n",
              "      <td>0.5</td>\n",
              "      <td>1</td>\n",
              "      <td>2</td>\n",
              "      <td>1</td>\n",
              "      <td>41</td>\n",
              "      <td>0.9</td>\n",
              "      <td>145</td>\n",
              "      <td>5</td>\n",
              "      <td>6</td>\n",
              "      <td>1263</td>\n",
              "      <td>1716</td>\n",
              "      <td>2603</td>\n",
              "      <td>11</td>\n",
              "      <td>2</td>\n",
              "      <td>9</td>\n",
              "      <td>1</td>\n",
              "      <td>1</td>\n",
              "      <td>0</td>\n",
              "    </tr>\n",
              "    <tr>\n",
              "      <th>3</th>\n",
              "      <td>615</td>\n",
              "      <td>1</td>\n",
              "      <td>2.5</td>\n",
              "      <td>0</td>\n",
              "      <td>0</td>\n",
              "      <td>0</td>\n",
              "      <td>10</td>\n",
              "      <td>0.8</td>\n",
              "      <td>131</td>\n",
              "      <td>6</td>\n",
              "      <td>9</td>\n",
              "      <td>1216</td>\n",
              "      <td>1786</td>\n",
              "      <td>2769</td>\n",
              "      <td>16</td>\n",
              "      <td>8</td>\n",
              "      <td>11</td>\n",
              "      <td>1</td>\n",
              "      <td>0</td>\n",
              "      <td>0</td>\n",
              "    </tr>\n",
              "    <tr>\n",
              "      <th>4</th>\n",
              "      <td>1821</td>\n",
              "      <td>1</td>\n",
              "      <td>1.2</td>\n",
              "      <td>0</td>\n",
              "      <td>13</td>\n",
              "      <td>1</td>\n",
              "      <td>44</td>\n",
              "      <td>0.6</td>\n",
              "      <td>141</td>\n",
              "      <td>2</td>\n",
              "      <td>14</td>\n",
              "      <td>1208</td>\n",
              "      <td>1212</td>\n",
              "      <td>1411</td>\n",
              "      <td>8</td>\n",
              "      <td>2</td>\n",
              "      <td>15</td>\n",
              "      <td>1</td>\n",
              "      <td>1</td>\n",
              "      <td>0</td>\n",
              "    </tr>\n",
              "    <tr>\n",
              "      <th>...</th>\n",
              "      <td>...</td>\n",
              "      <td>...</td>\n",
              "      <td>...</td>\n",
              "      <td>...</td>\n",
              "      <td>...</td>\n",
              "      <td>...</td>\n",
              "      <td>...</td>\n",
              "      <td>...</td>\n",
              "      <td>...</td>\n",
              "      <td>...</td>\n",
              "      <td>...</td>\n",
              "      <td>...</td>\n",
              "      <td>...</td>\n",
              "      <td>...</td>\n",
              "      <td>...</td>\n",
              "      <td>...</td>\n",
              "      <td>...</td>\n",
              "      <td>...</td>\n",
              "      <td>...</td>\n",
              "      <td>...</td>\n",
              "    </tr>\n",
              "    <tr>\n",
              "      <th>1995</th>\n",
              "      <td>794</td>\n",
              "      <td>1</td>\n",
              "      <td>0.5</td>\n",
              "      <td>1</td>\n",
              "      <td>0</td>\n",
              "      <td>1</td>\n",
              "      <td>2</td>\n",
              "      <td>0.8</td>\n",
              "      <td>106</td>\n",
              "      <td>6</td>\n",
              "      <td>14</td>\n",
              "      <td>1222</td>\n",
              "      <td>1890</td>\n",
              "      <td>668</td>\n",
              "      <td>13</td>\n",
              "      <td>4</td>\n",
              "      <td>19</td>\n",
              "      <td>1</td>\n",
              "      <td>1</td>\n",
              "      <td>0</td>\n",
              "    </tr>\n",
              "    <tr>\n",
              "      <th>1996</th>\n",
              "      <td>1965</td>\n",
              "      <td>1</td>\n",
              "      <td>2.6</td>\n",
              "      <td>1</td>\n",
              "      <td>0</td>\n",
              "      <td>0</td>\n",
              "      <td>39</td>\n",
              "      <td>0.2</td>\n",
              "      <td>187</td>\n",
              "      <td>4</td>\n",
              "      <td>3</td>\n",
              "      <td>915</td>\n",
              "      <td>1965</td>\n",
              "      <td>2032</td>\n",
              "      <td>11</td>\n",
              "      <td>10</td>\n",
              "      <td>16</td>\n",
              "      <td>1</td>\n",
              "      <td>1</td>\n",
              "      <td>1</td>\n",
              "    </tr>\n",
              "    <tr>\n",
              "      <th>1997</th>\n",
              "      <td>1911</td>\n",
              "      <td>0</td>\n",
              "      <td>0.9</td>\n",
              "      <td>1</td>\n",
              "      <td>1</td>\n",
              "      <td>1</td>\n",
              "      <td>36</td>\n",
              "      <td>0.7</td>\n",
              "      <td>108</td>\n",
              "      <td>8</td>\n",
              "      <td>3</td>\n",
              "      <td>868</td>\n",
              "      <td>1632</td>\n",
              "      <td>3057</td>\n",
              "      <td>9</td>\n",
              "      <td>1</td>\n",
              "      <td>5</td>\n",
              "      <td>1</td>\n",
              "      <td>1</td>\n",
              "      <td>0</td>\n",
              "    </tr>\n",
              "    <tr>\n",
              "      <th>1998</th>\n",
              "      <td>1512</td>\n",
              "      <td>0</td>\n",
              "      <td>0.9</td>\n",
              "      <td>0</td>\n",
              "      <td>4</td>\n",
              "      <td>1</td>\n",
              "      <td>46</td>\n",
              "      <td>0.1</td>\n",
              "      <td>145</td>\n",
              "      <td>5</td>\n",
              "      <td>5</td>\n",
              "      <td>336</td>\n",
              "      <td>670</td>\n",
              "      <td>869</td>\n",
              "      <td>18</td>\n",
              "      <td>10</td>\n",
              "      <td>19</td>\n",
              "      <td>1</td>\n",
              "      <td>1</td>\n",
              "      <td>1</td>\n",
              "    </tr>\n",
              "    <tr>\n",
              "      <th>1999</th>\n",
              "      <td>510</td>\n",
              "      <td>1</td>\n",
              "      <td>2.0</td>\n",
              "      <td>1</td>\n",
              "      <td>5</td>\n",
              "      <td>1</td>\n",
              "      <td>45</td>\n",
              "      <td>0.9</td>\n",
              "      <td>168</td>\n",
              "      <td>6</td>\n",
              "      <td>16</td>\n",
              "      <td>483</td>\n",
              "      <td>754</td>\n",
              "      <td>3919</td>\n",
              "      <td>19</td>\n",
              "      <td>4</td>\n",
              "      <td>2</td>\n",
              "      <td>1</td>\n",
              "      <td>1</td>\n",
              "      <td>1</td>\n",
              "    </tr>\n",
              "  </tbody>\n",
              "</table>\n",
              "<p>2000 rows × 20 columns</p>\n",
              "</div>"
            ],
            "text/plain": [
              "      battery_power  blue  clock_speed  ...  three_g  touch_screen  wifi\n",
              "0               842     0          2.2  ...        0             0     1\n",
              "1              1021     1          0.5  ...        1             1     0\n",
              "2               563     1          0.5  ...        1             1     0\n",
              "3               615     1          2.5  ...        1             0     0\n",
              "4              1821     1          1.2  ...        1             1     0\n",
              "...             ...   ...          ...  ...      ...           ...   ...\n",
              "1995            794     1          0.5  ...        1             1     0\n",
              "1996           1965     1          2.6  ...        1             1     1\n",
              "1997           1911     0          0.9  ...        1             1     0\n",
              "1998           1512     0          0.9  ...        1             1     1\n",
              "1999            510     1          2.0  ...        1             1     1\n",
              "\n",
              "[2000 rows x 20 columns]"
            ]
          },
          "metadata": {
            "tags": []
          },
          "execution_count": 6
        }
      ]
    },
    {
      "cell_type": "code",
      "metadata": {
        "colab": {
          "base_uri": "https://localhost:8080/"
        },
        "id": "FzzrAEZxyPXA",
        "outputId": "ff470493-4042-4bc1-b310-6e86c1aa3671"
      },
      "source": [
        "Y = data_train[\"price_range\"]  # Y contains Target column , 0 - low price, 1 -  , 2- mid price  , 3- high price\n",
        "Y"
      ],
      "execution_count": null,
      "outputs": [
        {
          "output_type": "execute_result",
          "data": {
            "text/plain": [
              "0       1\n",
              "1       2\n",
              "2       2\n",
              "3       2\n",
              "4       1\n",
              "       ..\n",
              "1995    0\n",
              "1996    2\n",
              "1997    3\n",
              "1998    0\n",
              "1999    3\n",
              "Name: price_range, Length: 2000, dtype: int64"
            ]
          },
          "metadata": {
            "tags": []
          },
          "execution_count": 7
        }
      ]
    },
    {
      "cell_type": "markdown",
      "metadata": {
        "id": "1LVlRGhuqtHf"
      },
      "source": [
        "#### **Before Training the Data, Scale the data(Normalization) as the data/values are in different range, we can do this by using Standard Scaler method(Mean = 0, Std Deviation=1) .**\n",
        "\n",
        "eg: check data_train, in that battery_power column - 1st row with a value 842, 2nd value is 1021, 3rd is 563, 4t is 615 etc etc.... again last value is 510. There is huge difference for each two values. \n"
      ]
    },
    {
      "cell_type": "markdown",
      "metadata": {
        "id": "cLakr9ixs0Xc"
      },
      "source": [
        "**Standard Scaler:** \n",
        "\n",
        "\n",
        "![image.png](data:image/png;base64,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)"
      ]
    },
    {
      "cell_type": "markdown",
      "metadata": {
        "id": "0ifQM9MftHaq"
      },
      "source": [
        "After applying Standard Scaler, When we check Data_train.describe(), the MEAN will be in 0 Range & STD will be in 1 Range "
      ]
    },
    {
      "cell_type": "markdown",
      "metadata": {
        "id": "xp2GyLz_tnz3"
      },
      "source": [
        "Install the scikit-learn to apply Std Scaler method/function"
      ]
    },
    {
      "cell_type": "code",
      "metadata": {
        "colab": {
          "base_uri": "https://localhost:8080/"
        },
        "id": "MUbVNBYqszii",
        "outputId": "b8dc1f9b-e133-4b0e-b8bf-aaeb7e638069"
      },
      "source": [
        "!pip install scikit-learn"
      ],
      "execution_count": null,
      "outputs": [
        {
          "output_type": "stream",
          "text": [
            "Requirement already satisfied: scikit-learn in /usr/local/lib/python3.7/dist-packages (0.22.2.post1)\n",
            "Requirement already satisfied: scipy>=0.17.0 in /usr/local/lib/python3.7/dist-packages (from scikit-learn) (1.4.1)\n",
            "Requirement already satisfied: joblib>=0.11 in /usr/local/lib/python3.7/dist-packages (from scikit-learn) (1.0.1)\n",
            "Requirement already satisfied: numpy>=1.11.0 in /usr/local/lib/python3.7/dist-packages (from scikit-learn) (1.19.5)\n"
          ],
          "name": "stdout"
        }
      ]
    },
    {
      "cell_type": "code",
      "metadata": {
        "id": "SHm-JO9OoSKt"
      },
      "source": [
        "from sklearn.preprocessing import StandardScaler \n",
        "std = StandardScaler() #stored in std"
      ],
      "execution_count": null,
      "outputs": []
    },
    {
      "cell_type": "markdown",
      "metadata": {
        "id": "HwrE5OFnvjhq"
      },
      "source": [
        "Now, Scale the both Train and Test Data"
      ]
    },
    {
      "cell_type": "code",
      "metadata": {
        "colab": {
          "base_uri": "https://localhost:8080/",
          "height": 314
        },
        "id": "kq_NQYcovb7c",
        "outputId": "db999b84-29d6-4f36-d45c-9858281e44c4"
      },
      "source": [
        "X_std = std.fit_transform(X)\n",
        "\n",
        "data_test_std = std.transform(data_test)  # error, X has 21 columns, data_test have 20 columns"
      ],
      "execution_count": null,
      "outputs": [
        {
          "output_type": "error",
          "ename": "ValueError",
          "evalue": "ignored",
          "traceback": [
            "\u001b[0;31m---------------------------------------------------------------------------\u001b[0m",
            "\u001b[0;31mValueError\u001b[0m                                Traceback (most recent call last)",
            "\u001b[0;32m<ipython-input-26-5022975f94a6>\u001b[0m in \u001b[0;36m<module>\u001b[0;34m()\u001b[0m\n\u001b[1;32m      1\u001b[0m \u001b[0mX_std\u001b[0m \u001b[0;34m=\u001b[0m \u001b[0mstd\u001b[0m\u001b[0;34m.\u001b[0m\u001b[0mfit_transform\u001b[0m\u001b[0;34m(\u001b[0m\u001b[0mX\u001b[0m\u001b[0;34m)\u001b[0m\u001b[0;34m\u001b[0m\u001b[0;34m\u001b[0m\u001b[0m\n\u001b[1;32m      2\u001b[0m \u001b[0;34m\u001b[0m\u001b[0m\n\u001b[0;32m----> 3\u001b[0;31m \u001b[0mdata_test_std\u001b[0m \u001b[0;34m=\u001b[0m \u001b[0mstd\u001b[0m\u001b[0;34m.\u001b[0m\u001b[0mtransform\u001b[0m\u001b[0;34m(\u001b[0m\u001b[0mdata_test\u001b[0m\u001b[0;34m)\u001b[0m  \u001b[0;31m# error, X has 21 columns, data_test have 20 columns\u001b[0m\u001b[0;34m\u001b[0m\u001b[0;34m\u001b[0m\u001b[0m\n\u001b[0m",
            "\u001b[0;32m/usr/local/lib/python3.7/dist-packages/sklearn/preprocessing/_data.py\u001b[0m in \u001b[0;36mtransform\u001b[0;34m(self, X, copy)\u001b[0m\n\u001b[1;32m    804\u001b[0m         \u001b[0;32melse\u001b[0m\u001b[0;34m:\u001b[0m\u001b[0;34m\u001b[0m\u001b[0;34m\u001b[0m\u001b[0m\n\u001b[1;32m    805\u001b[0m             \u001b[0;32mif\u001b[0m \u001b[0mself\u001b[0m\u001b[0;34m.\u001b[0m\u001b[0mwith_mean\u001b[0m\u001b[0;34m:\u001b[0m\u001b[0;34m\u001b[0m\u001b[0;34m\u001b[0m\u001b[0m\n\u001b[0;32m--> 806\u001b[0;31m                 \u001b[0mX\u001b[0m \u001b[0;34m-=\u001b[0m \u001b[0mself\u001b[0m\u001b[0;34m.\u001b[0m\u001b[0mmean_\u001b[0m\u001b[0;34m\u001b[0m\u001b[0;34m\u001b[0m\u001b[0m\n\u001b[0m\u001b[1;32m    807\u001b[0m             \u001b[0;32mif\u001b[0m \u001b[0mself\u001b[0m\u001b[0;34m.\u001b[0m\u001b[0mwith_std\u001b[0m\u001b[0;34m:\u001b[0m\u001b[0;34m\u001b[0m\u001b[0;34m\u001b[0m\u001b[0m\n\u001b[1;32m    808\u001b[0m                 \u001b[0mX\u001b[0m \u001b[0;34m/=\u001b[0m \u001b[0mself\u001b[0m\u001b[0;34m.\u001b[0m\u001b[0mscale_\u001b[0m\u001b[0;34m\u001b[0m\u001b[0;34m\u001b[0m\u001b[0m\n",
            "\u001b[0;31mValueError\u001b[0m: operands could not be broadcast together with shapes (1000,21) (20,) (1000,21) "
          ]
        }
      ]
    },
    {
      "cell_type": "markdown",
      "metadata": {
        "id": "8iX--OEP037k"
      },
      "source": [
        "fit_transform()  -->> Analyses the the data X(without target,here its X). and transforms the data.  \n",
        "\n",
        "transform(test-data) -->>  On the basis of how it analysed the data( from fit_transform() ),it will only transforms the test data.                        \n",
        "i.e. it scans only the columns in the test data which already scaned those columns of train data without Target.  \n",
        "\n",
        "\n",
        "Means it compares both the columns of test (with target)and train (without target).\n",
        "\n"
      ]
    },
    {
      "cell_type": "code",
      "metadata": {
        "id": "u8b1YdfZzwcQ"
      },
      "source": [
        "data_train.shape"
      ],
      "execution_count": null,
      "outputs": []
    },
    {
      "cell_type": "code",
      "metadata": {
        "id": "BAwhpVUEKjVd"
      },
      "source": [
        "data_test.shape"
      ],
      "execution_count": null,
      "outputs": []
    },
    {
      "cell_type": "code",
      "metadata": {
        "id": "r0mkBh1-Kk_Z"
      },
      "source": [
        "X.shape"
      ],
      "execution_count": null,
      "outputs": []
    },
    {
      "cell_type": "code",
      "metadata": {
        "id": "VYTCwwr3K3s7"
      },
      "source": [
        "X.columns"
      ],
      "execution_count": null,
      "outputs": []
    },
    {
      "cell_type": "code",
      "metadata": {
        "id": "bu1Kv6GgK4V1"
      },
      "source": [
        "data_test.columns"
      ],
      "execution_count": null,
      "outputs": []
    },
    {
      "cell_type": "markdown",
      "metadata": {
        "id": "JwuLiwRcKumF"
      },
      "source": [
        "##### Dropping id from data_test :\n"
      ]
    },
    {
      "cell_type": "code",
      "metadata": {
        "id": "W4vAWzYIKnHV"
      },
      "source": [
        "data_test = data_test.drop(\"id\", axis=1, inplace = True ) #inplace = True, removing the ID column permanently , don't use this command\n",
        "\n",
        "data_test"
      ],
      "execution_count": null,
      "outputs": []
    },
    {
      "cell_type": "code",
      "metadata": {
        "id": "GCsAS-jHLWlN"
      },
      "source": [
        "data_test.columns"
      ],
      "execution_count": null,
      "outputs": []
    },
    {
      "cell_type": "code",
      "metadata": {
        "colab": {
          "base_uri": "https://localhost:8080/",
          "height": 422
        },
        "id": "AVwnoyAsLr9u",
        "outputId": "8e39e488-2269-4ab8-8515-3e28b4b698ac"
      },
      "source": [
        "data_test = data_test.drop(\"id\", axis=1) \n",
        "\n",
        "data_test"
      ],
      "execution_count": null,
      "outputs": [
        {
          "output_type": "execute_result",
          "data": {
            "text/html": [
              "<div>\n",
              "<style scoped>\n",
              "    .dataframe tbody tr th:only-of-type {\n",
              "        vertical-align: middle;\n",
              "    }\n",
              "\n",
              "    .dataframe tbody tr th {\n",
              "        vertical-align: top;\n",
              "    }\n",
              "\n",
              "    .dataframe thead th {\n",
              "        text-align: right;\n",
              "    }\n",
              "</style>\n",
              "<table border=\"1\" class=\"dataframe\">\n",
              "  <thead>\n",
              "    <tr style=\"text-align: right;\">\n",
              "      <th></th>\n",
              "      <th>battery_power</th>\n",
              "      <th>blue</th>\n",
              "      <th>clock_speed</th>\n",
              "      <th>dual_sim</th>\n",
              "      <th>fc</th>\n",
              "      <th>four_g</th>\n",
              "      <th>int_memory</th>\n",
              "      <th>m_dep</th>\n",
              "      <th>mobile_wt</th>\n",
              "      <th>n_cores</th>\n",
              "      <th>pc</th>\n",
              "      <th>px_height</th>\n",
              "      <th>px_width</th>\n",
              "      <th>ram</th>\n",
              "      <th>sc_h</th>\n",
              "      <th>sc_w</th>\n",
              "      <th>talk_time</th>\n",
              "      <th>three_g</th>\n",
              "      <th>touch_screen</th>\n",
              "      <th>wifi</th>\n",
              "    </tr>\n",
              "  </thead>\n",
              "  <tbody>\n",
              "    <tr>\n",
              "      <th>0</th>\n",
              "      <td>1043</td>\n",
              "      <td>1</td>\n",
              "      <td>1.8</td>\n",
              "      <td>1</td>\n",
              "      <td>14</td>\n",
              "      <td>0</td>\n",
              "      <td>5</td>\n",
              "      <td>0.1</td>\n",
              "      <td>193</td>\n",
              "      <td>3</td>\n",
              "      <td>16</td>\n",
              "      <td>226</td>\n",
              "      <td>1412</td>\n",
              "      <td>3476</td>\n",
              "      <td>12</td>\n",
              "      <td>7</td>\n",
              "      <td>2</td>\n",
              "      <td>0</td>\n",
              "      <td>1</td>\n",
              "      <td>0</td>\n",
              "    </tr>\n",
              "    <tr>\n",
              "      <th>1</th>\n",
              "      <td>841</td>\n",
              "      <td>1</td>\n",
              "      <td>0.5</td>\n",
              "      <td>1</td>\n",
              "      <td>4</td>\n",
              "      <td>1</td>\n",
              "      <td>61</td>\n",
              "      <td>0.8</td>\n",
              "      <td>191</td>\n",
              "      <td>5</td>\n",
              "      <td>12</td>\n",
              "      <td>746</td>\n",
              "      <td>857</td>\n",
              "      <td>3895</td>\n",
              "      <td>6</td>\n",
              "      <td>0</td>\n",
              "      <td>7</td>\n",
              "      <td>1</td>\n",
              "      <td>0</td>\n",
              "      <td>0</td>\n",
              "    </tr>\n",
              "    <tr>\n",
              "      <th>2</th>\n",
              "      <td>1807</td>\n",
              "      <td>1</td>\n",
              "      <td>2.8</td>\n",
              "      <td>0</td>\n",
              "      <td>1</td>\n",
              "      <td>0</td>\n",
              "      <td>27</td>\n",
              "      <td>0.9</td>\n",
              "      <td>186</td>\n",
              "      <td>3</td>\n",
              "      <td>4</td>\n",
              "      <td>1270</td>\n",
              "      <td>1366</td>\n",
              "      <td>2396</td>\n",
              "      <td>17</td>\n",
              "      <td>10</td>\n",
              "      <td>10</td>\n",
              "      <td>0</td>\n",
              "      <td>1</td>\n",
              "      <td>1</td>\n",
              "    </tr>\n",
              "    <tr>\n",
              "      <th>3</th>\n",
              "      <td>1546</td>\n",
              "      <td>0</td>\n",
              "      <td>0.5</td>\n",
              "      <td>1</td>\n",
              "      <td>18</td>\n",
              "      <td>1</td>\n",
              "      <td>25</td>\n",
              "      <td>0.5</td>\n",
              "      <td>96</td>\n",
              "      <td>8</td>\n",
              "      <td>20</td>\n",
              "      <td>295</td>\n",
              "      <td>1752</td>\n",
              "      <td>3893</td>\n",
              "      <td>10</td>\n",
              "      <td>0</td>\n",
              "      <td>7</td>\n",
              "      <td>1</td>\n",
              "      <td>1</td>\n",
              "      <td>0</td>\n",
              "    </tr>\n",
              "    <tr>\n",
              "      <th>4</th>\n",
              "      <td>1434</td>\n",
              "      <td>0</td>\n",
              "      <td>1.4</td>\n",
              "      <td>0</td>\n",
              "      <td>11</td>\n",
              "      <td>1</td>\n",
              "      <td>49</td>\n",
              "      <td>0.5</td>\n",
              "      <td>108</td>\n",
              "      <td>6</td>\n",
              "      <td>18</td>\n",
              "      <td>749</td>\n",
              "      <td>810</td>\n",
              "      <td>1773</td>\n",
              "      <td>15</td>\n",
              "      <td>8</td>\n",
              "      <td>7</td>\n",
              "      <td>1</td>\n",
              "      <td>0</td>\n",
              "      <td>1</td>\n",
              "    </tr>\n",
              "    <tr>\n",
              "      <th>...</th>\n",
              "      <td>...</td>\n",
              "      <td>...</td>\n",
              "      <td>...</td>\n",
              "      <td>...</td>\n",
              "      <td>...</td>\n",
              "      <td>...</td>\n",
              "      <td>...</td>\n",
              "      <td>...</td>\n",
              "      <td>...</td>\n",
              "      <td>...</td>\n",
              "      <td>...</td>\n",
              "      <td>...</td>\n",
              "      <td>...</td>\n",
              "      <td>...</td>\n",
              "      <td>...</td>\n",
              "      <td>...</td>\n",
              "      <td>...</td>\n",
              "      <td>...</td>\n",
              "      <td>...</td>\n",
              "      <td>...</td>\n",
              "    </tr>\n",
              "    <tr>\n",
              "      <th>995</th>\n",
              "      <td>1700</td>\n",
              "      <td>1</td>\n",
              "      <td>1.9</td>\n",
              "      <td>0</td>\n",
              "      <td>0</td>\n",
              "      <td>1</td>\n",
              "      <td>54</td>\n",
              "      <td>0.5</td>\n",
              "      <td>170</td>\n",
              "      <td>7</td>\n",
              "      <td>17</td>\n",
              "      <td>644</td>\n",
              "      <td>913</td>\n",
              "      <td>2121</td>\n",
              "      <td>14</td>\n",
              "      <td>8</td>\n",
              "      <td>15</td>\n",
              "      <td>1</td>\n",
              "      <td>1</td>\n",
              "      <td>0</td>\n",
              "    </tr>\n",
              "    <tr>\n",
              "      <th>996</th>\n",
              "      <td>609</td>\n",
              "      <td>0</td>\n",
              "      <td>1.8</td>\n",
              "      <td>1</td>\n",
              "      <td>0</td>\n",
              "      <td>0</td>\n",
              "      <td>13</td>\n",
              "      <td>0.9</td>\n",
              "      <td>186</td>\n",
              "      <td>4</td>\n",
              "      <td>2</td>\n",
              "      <td>1152</td>\n",
              "      <td>1632</td>\n",
              "      <td>1933</td>\n",
              "      <td>8</td>\n",
              "      <td>1</td>\n",
              "      <td>19</td>\n",
              "      <td>0</td>\n",
              "      <td>1</td>\n",
              "      <td>1</td>\n",
              "    </tr>\n",
              "    <tr>\n",
              "      <th>997</th>\n",
              "      <td>1185</td>\n",
              "      <td>0</td>\n",
              "      <td>1.4</td>\n",
              "      <td>0</td>\n",
              "      <td>1</td>\n",
              "      <td>1</td>\n",
              "      <td>8</td>\n",
              "      <td>0.5</td>\n",
              "      <td>80</td>\n",
              "      <td>1</td>\n",
              "      <td>12</td>\n",
              "      <td>477</td>\n",
              "      <td>825</td>\n",
              "      <td>1223</td>\n",
              "      <td>5</td>\n",
              "      <td>0</td>\n",
              "      <td>14</td>\n",
              "      <td>1</td>\n",
              "      <td>0</td>\n",
              "      <td>0</td>\n",
              "    </tr>\n",
              "    <tr>\n",
              "      <th>998</th>\n",
              "      <td>1533</td>\n",
              "      <td>1</td>\n",
              "      <td>0.5</td>\n",
              "      <td>1</td>\n",
              "      <td>0</td>\n",
              "      <td>0</td>\n",
              "      <td>50</td>\n",
              "      <td>0.4</td>\n",
              "      <td>171</td>\n",
              "      <td>2</td>\n",
              "      <td>12</td>\n",
              "      <td>38</td>\n",
              "      <td>832</td>\n",
              "      <td>2509</td>\n",
              "      <td>15</td>\n",
              "      <td>11</td>\n",
              "      <td>6</td>\n",
              "      <td>0</td>\n",
              "      <td>1</td>\n",
              "      <td>0</td>\n",
              "    </tr>\n",
              "    <tr>\n",
              "      <th>999</th>\n",
              "      <td>1270</td>\n",
              "      <td>1</td>\n",
              "      <td>0.5</td>\n",
              "      <td>0</td>\n",
              "      <td>4</td>\n",
              "      <td>1</td>\n",
              "      <td>35</td>\n",
              "      <td>0.1</td>\n",
              "      <td>140</td>\n",
              "      <td>6</td>\n",
              "      <td>19</td>\n",
              "      <td>457</td>\n",
              "      <td>608</td>\n",
              "      <td>2828</td>\n",
              "      <td>9</td>\n",
              "      <td>2</td>\n",
              "      <td>3</td>\n",
              "      <td>1</td>\n",
              "      <td>0</td>\n",
              "      <td>1</td>\n",
              "    </tr>\n",
              "  </tbody>\n",
              "</table>\n",
              "<p>1000 rows × 20 columns</p>\n",
              "</div>"
            ],
            "text/plain": [
              "     battery_power  blue  clock_speed  ...  three_g  touch_screen  wifi\n",
              "0             1043     1          1.8  ...        0             1     0\n",
              "1              841     1          0.5  ...        1             0     0\n",
              "2             1807     1          2.8  ...        0             1     1\n",
              "3             1546     0          0.5  ...        1             1     0\n",
              "4             1434     0          1.4  ...        1             0     1\n",
              "..             ...   ...          ...  ...      ...           ...   ...\n",
              "995           1700     1          1.9  ...        1             1     0\n",
              "996            609     0          1.8  ...        0             1     1\n",
              "997           1185     0          1.4  ...        1             0     0\n",
              "998           1533     1          0.5  ...        0             1     0\n",
              "999           1270     1          0.5  ...        1             0     1\n",
              "\n",
              "[1000 rows x 20 columns]"
            ]
          },
          "metadata": {
            "tags": []
          },
          "execution_count": 8
        }
      ]
    },
    {
      "cell_type": "code",
      "metadata": {
        "colab": {
          "base_uri": "https://localhost:8080/"
        },
        "id": "4ET5GbpDMW3S",
        "outputId": "233dde45-9b5d-4d72-a7ab-201c80ce19f6"
      },
      "source": [
        "data_test.columns  #id dropped"
      ],
      "execution_count": null,
      "outputs": [
        {
          "output_type": "execute_result",
          "data": {
            "text/plain": [
              "Index(['battery_power', 'blue', 'clock_speed', 'dual_sim', 'fc', 'four_g',\n",
              "       'int_memory', 'm_dep', 'mobile_wt', 'n_cores', 'pc', 'px_height',\n",
              "       'px_width', 'ram', 'sc_h', 'sc_w', 'talk_time', 'three_g',\n",
              "       'touch_screen', 'wifi'],\n",
              "      dtype='object')"
            ]
          },
          "metadata": {
            "tags": []
          },
          "execution_count": 9
        }
      ]
    },
    {
      "cell_type": "code",
      "metadata": {
        "id": "e5AJHuJtMo7W"
      },
      "source": [
        "## Scale the train & Test Data \n",
        " \n",
        "X_std = std.fit_transform(X)\n",
        "\n",
        "data_test_std = std.transform(data_test)"
      ],
      "execution_count": null,
      "outputs": []
    },
    {
      "cell_type": "markdown",
      "metadata": {
        "id": "gAUHiS16NlM9"
      },
      "source": [
        "###### Train data"
      ]
    },
    {
      "cell_type": "code",
      "metadata": {
        "id": "ZnOBbrcTNAVq"
      },
      "source": [
        "X_std  #after scaling"
      ],
      "execution_count": null,
      "outputs": []
    },
    {
      "cell_type": "code",
      "metadata": {
        "id": "p7H7LmI9NCIU"
      },
      "source": [
        "X  #before scaling"
      ],
      "execution_count": null,
      "outputs": []
    },
    {
      "cell_type": "markdown",
      "metadata": {
        "id": "OHm6RnnbNoiv"
      },
      "source": [
        "###### Test Data"
      ]
    },
    {
      "cell_type": "code",
      "metadata": {
        "id": "OQ_XEnl7NGLV"
      },
      "source": [
        "data_test #before scaling "
      ],
      "execution_count": null,
      "outputs": []
    },
    {
      "cell_type": "code",
      "metadata": {
        "id": "VnTWznkTNZfx"
      },
      "source": [
        "data_test_std  #after scaling"
      ],
      "execution_count": null,
      "outputs": []
    },
    {
      "cell_type": "markdown",
      "metadata": {
        "id": "llkCFHIJYylr"
      },
      "source": [
        "# Training the Model"
      ]
    },
    {
      "cell_type": "markdown",
      "metadata": {
        "id": "N_dJRrrpY4yT"
      },
      "source": [
        "#1. Decision Tree"
      ]
    },
    {
      "cell_type": "code",
      "metadata": {
        "id": "BODxCE0JNcpB"
      },
      "source": [
        "from sklearn.tree import DecisionTreeClassifier \n",
        "dt = DecisionTreeClassifier()"
      ],
      "execution_count": null,
      "outputs": []
    },
    {
      "cell_type": "code",
      "metadata": {
        "id": "KpAAmVDlaAo-"
      },
      "source": [
        "dt.fit(X_std, Y) #training the model, X_std = applied std scaler(training data),  \n",
        "                 # Y= without std scaler, contailns only Target column(training data's label --> target)"
      ],
      "execution_count": null,
      "outputs": []
    },
    {
      "cell_type": "code",
      "metadata": {
        "id": "jj_2xOXLaSTO"
      },
      "source": [
        "  dt.predict(data_test_std)  #testing, applied std scaler"
      ],
      "execution_count": null,
      "outputs": []
    },
    {
      "cell_type": "code",
      "metadata": {
        "id": "WmRYme5VW2gU"
      },
      "source": [
        "data_test #before scaling"
      ],
      "execution_count": null,
      "outputs": []
    },
    {
      "cell_type": "code",
      "metadata": {
        "id": "0xcoYVlfXGKc"
      },
      "source": [
        "data_test_std #after scaling"
      ],
      "execution_count": null,
      "outputs": []
    },
    {
      "cell_type": "markdown",
      "metadata": {
        "id": "obrt4n-vB0Df"
      },
      "source": [
        "Accuarcy/Score :"
      ]
    },
    {
      "cell_type": "code",
      "metadata": {
        "id": "_Jiz6X9IXHpG"
      },
      "source": [
        "dt.score(X_std, Y)   # showing 100% accurate"
      ],
      "execution_count": null,
      "outputs": []
    },
    {
      "cell_type": "markdown",
      "metadata": {
        "id": "6TiWkEEYCfEL"
      },
      "source": [
        "# 2. KNN : Is the STAR belongs to Yellow class or purple class? \n",
        "\n",
        "Star is near to purple class. If K=3 , then star near to one yellow and 2 purple class. but take the majority of the class(numb of points near to it). so it belongs to purple ones - CLASS B. \n",
        "\n",
        "If K=6, Start belongs to \"Class A\" - yellow class (4 rounds are nearer) as purple rounds are only 2 which are also near to star."
      ]
    },
    {
      "cell_type": "markdown",
      "metadata": {
        "id": "m32rdJHcCxpo"
      },
      "source": [
        "![image.png](data:image/png;base64,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)"
      ]
    },
    {
      "cell_type": "markdown",
      "metadata": {
        "id": "qn_qdW6ZEObw"
      },
      "source": [
        "### Using \"HYPER PARAMETER\" , we can know on what K = ____ , our model is performing better."
      ]
    },
    {
      "cell_type": "code",
      "metadata": {
        "id": "S44s5tyaB8Y8"
      },
      "source": [
        "#importing KNN \n",
        "\n",
        "from sklearn.neighbors import KNeighborsClassifier\n",
        "knn = KNeighborsClassifier()"
      ],
      "execution_count": null,
      "outputs": []
    },
    {
      "cell_type": "code",
      "metadata": {
        "id": "3T1kH2hLEzvm"
      },
      "source": [
        "# Training \n",
        "\n",
        "knn.fit(X_std, Y)"
      ],
      "execution_count": null,
      "outputs": []
    },
    {
      "cell_type": "code",
      "metadata": {
        "id": "4ikUBSf1E-lX"
      },
      "source": [
        "#Testing \n",
        "\n",
        "knn.predict(data_test_std)"
      ],
      "execution_count": null,
      "outputs": []
    },
    {
      "cell_type": "code",
      "metadata": {
        "id": "bDSid7s3FGpw"
      },
      "source": [
        "data_test_std"
      ],
      "execution_count": null,
      "outputs": []
    },
    {
      "cell_type": "code",
      "metadata": {
        "id": "jqLU3hIFFWTT"
      },
      "source": [
        "data_test"
      ],
      "execution_count": null,
      "outputs": []
    },
    {
      "cell_type": "code",
      "metadata": {
        "id": "QEOUaZDnFVXl"
      },
      "source": [
        "data_test.columns"
      ],
      "execution_count": null,
      "outputs": []
    },
    {
      "cell_type": "code",
      "metadata": {
        "id": "1pFdzwR6GL-y"
      },
      "source": [
        "data_test_std.columns"
      ],
      "execution_count": null,
      "outputs": []
    },
    {
      "cell_type": "code",
      "metadata": {
        "id": "4bVhvN5eGO2V"
      },
      "source": [
        "Y"
      ],
      "execution_count": null,
      "outputs": []
    },
    {
      "cell_type": "code",
      "metadata": {
        "id": "cQfcVE7JGR9I"
      },
      "source": [
        "Y.values"
      ],
      "execution_count": null,
      "outputs": []
    },
    {
      "cell_type": "markdown",
      "metadata": {
        "id": "83tznuD8Gikk"
      },
      "source": [
        "# 3. Logistic regression : Its a classification"
      ]
    },
    {
      "cell_type": "code",
      "metadata": {
        "id": "SRoRw5PLGVY_"
      },
      "source": [
        "from sklearn.linear_model import LogisticRegression \n",
        "lr = LogisticRegression()"
      ],
      "execution_count": null,
      "outputs": []
    },
    {
      "cell_type": "code",
      "metadata": {
        "id": "kWrAEmebG1ER"
      },
      "source": [
        "lr.fit(X_std, Y)"
      ],
      "execution_count": null,
      "outputs": []
    },
    {
      "cell_type": "code",
      "metadata": {
        "id": "n33Q2u50G7aQ"
      },
      "source": [
        "lr.predict(data_test_std)"
      ],
      "execution_count": null,
      "outputs": []
    },
    {
      "cell_type": "markdown",
      "metadata": {
        "id": "2pmojYV4UDSg"
      },
      "source": []
    },
    {
      "cell_type": "markdown",
      "metadata": {
        "id": "EzdXrwvajFCz"
      },
      "source": [
        "# Using only Train.csv with train_test_split function"
      ]
    },
    {
      "cell_type": "code",
      "metadata": {
        "colab": {
          "base_uri": "https://localhost:8080/",
          "height": 422
        },
        "id": "0UkNy9Je5NEf",
        "outputId": "e4348e87-b8fd-46a4-cd11-c1cbeab08356"
      },
      "source": [
        "data_train = pd.read_csv(\"/content/drive/MyDrive/Mobile Price Prediction/train.csv\") \n",
        "   \n",
        "data_train  "
      ],
      "execution_count": null,
      "outputs": [
        {
          "output_type": "execute_result",
          "data": {
            "text/html": [
              "<div>\n",
              "<style scoped>\n",
              "    .dataframe tbody tr th:only-of-type {\n",
              "        vertical-align: middle;\n",
              "    }\n",
              "\n",
              "    .dataframe tbody tr th {\n",
              "        vertical-align: top;\n",
              "    }\n",
              "\n",
              "    .dataframe thead th {\n",
              "        text-align: right;\n",
              "    }\n",
              "</style>\n",
              "<table border=\"1\" class=\"dataframe\">\n",
              "  <thead>\n",
              "    <tr style=\"text-align: right;\">\n",
              "      <th></th>\n",
              "      <th>battery_power</th>\n",
              "      <th>blue</th>\n",
              "      <th>clock_speed</th>\n",
              "      <th>dual_sim</th>\n",
              "      <th>fc</th>\n",
              "      <th>four_g</th>\n",
              "      <th>int_memory</th>\n",
              "      <th>m_dep</th>\n",
              "      <th>mobile_wt</th>\n",
              "      <th>n_cores</th>\n",
              "      <th>pc</th>\n",
              "      <th>px_height</th>\n",
              "      <th>px_width</th>\n",
              "      <th>ram</th>\n",
              "      <th>sc_h</th>\n",
              "      <th>sc_w</th>\n",
              "      <th>talk_time</th>\n",
              "      <th>three_g</th>\n",
              "      <th>touch_screen</th>\n",
              "      <th>wifi</th>\n",
              "      <th>price_range</th>\n",
              "    </tr>\n",
              "  </thead>\n",
              "  <tbody>\n",
              "    <tr>\n",
              "      <th>0</th>\n",
              "      <td>842</td>\n",
              "      <td>0</td>\n",
              "      <td>2.2</td>\n",
              "      <td>0</td>\n",
              "      <td>1</td>\n",
              "      <td>0</td>\n",
              "      <td>7</td>\n",
              "      <td>0.6</td>\n",
              "      <td>188</td>\n",
              "      <td>2</td>\n",
              "      <td>2</td>\n",
              "      <td>20</td>\n",
              "      <td>756</td>\n",
              "      <td>2549</td>\n",
              "      <td>9</td>\n",
              "      <td>7</td>\n",
              "      <td>19</td>\n",
              "      <td>0</td>\n",
              "      <td>0</td>\n",
              "      <td>1</td>\n",
              "      <td>1</td>\n",
              "    </tr>\n",
              "    <tr>\n",
              "      <th>1</th>\n",
              "      <td>1021</td>\n",
              "      <td>1</td>\n",
              "      <td>0.5</td>\n",
              "      <td>1</td>\n",
              "      <td>0</td>\n",
              "      <td>1</td>\n",
              "      <td>53</td>\n",
              "      <td>0.7</td>\n",
              "      <td>136</td>\n",
              "      <td>3</td>\n",
              "      <td>6</td>\n",
              "      <td>905</td>\n",
              "      <td>1988</td>\n",
              "      <td>2631</td>\n",
              "      <td>17</td>\n",
              "      <td>3</td>\n",
              "      <td>7</td>\n",
              "      <td>1</td>\n",
              "      <td>1</td>\n",
              "      <td>0</td>\n",
              "      <td>2</td>\n",
              "    </tr>\n",
              "    <tr>\n",
              "      <th>2</th>\n",
              "      <td>563</td>\n",
              "      <td>1</td>\n",
              "      <td>0.5</td>\n",
              "      <td>1</td>\n",
              "      <td>2</td>\n",
              "      <td>1</td>\n",
              "      <td>41</td>\n",
              "      <td>0.9</td>\n",
              "      <td>145</td>\n",
              "      <td>5</td>\n",
              "      <td>6</td>\n",
              "      <td>1263</td>\n",
              "      <td>1716</td>\n",
              "      <td>2603</td>\n",
              "      <td>11</td>\n",
              "      <td>2</td>\n",
              "      <td>9</td>\n",
              "      <td>1</td>\n",
              "      <td>1</td>\n",
              "      <td>0</td>\n",
              "      <td>2</td>\n",
              "    </tr>\n",
              "    <tr>\n",
              "      <th>3</th>\n",
              "      <td>615</td>\n",
              "      <td>1</td>\n",
              "      <td>2.5</td>\n",
              "      <td>0</td>\n",
              "      <td>0</td>\n",
              "      <td>0</td>\n",
              "      <td>10</td>\n",
              "      <td>0.8</td>\n",
              "      <td>131</td>\n",
              "      <td>6</td>\n",
              "      <td>9</td>\n",
              "      <td>1216</td>\n",
              "      <td>1786</td>\n",
              "      <td>2769</td>\n",
              "      <td>16</td>\n",
              "      <td>8</td>\n",
              "      <td>11</td>\n",
              "      <td>1</td>\n",
              "      <td>0</td>\n",
              "      <td>0</td>\n",
              "      <td>2</td>\n",
              "    </tr>\n",
              "    <tr>\n",
              "      <th>4</th>\n",
              "      <td>1821</td>\n",
              "      <td>1</td>\n",
              "      <td>1.2</td>\n",
              "      <td>0</td>\n",
              "      <td>13</td>\n",
              "      <td>1</td>\n",
              "      <td>44</td>\n",
              "      <td>0.6</td>\n",
              "      <td>141</td>\n",
              "      <td>2</td>\n",
              "      <td>14</td>\n",
              "      <td>1208</td>\n",
              "      <td>1212</td>\n",
              "      <td>1411</td>\n",
              "      <td>8</td>\n",
              "      <td>2</td>\n",
              "      <td>15</td>\n",
              "      <td>1</td>\n",
              "      <td>1</td>\n",
              "      <td>0</td>\n",
              "      <td>1</td>\n",
              "    </tr>\n",
              "    <tr>\n",
              "      <th>...</th>\n",
              "      <td>...</td>\n",
              "      <td>...</td>\n",
              "      <td>...</td>\n",
              "      <td>...</td>\n",
              "      <td>...</td>\n",
              "      <td>...</td>\n",
              "      <td>...</td>\n",
              "      <td>...</td>\n",
              "      <td>...</td>\n",
              "      <td>...</td>\n",
              "      <td>...</td>\n",
              "      <td>...</td>\n",
              "      <td>...</td>\n",
              "      <td>...</td>\n",
              "      <td>...</td>\n",
              "      <td>...</td>\n",
              "      <td>...</td>\n",
              "      <td>...</td>\n",
              "      <td>...</td>\n",
              "      <td>...</td>\n",
              "      <td>...</td>\n",
              "    </tr>\n",
              "    <tr>\n",
              "      <th>1995</th>\n",
              "      <td>794</td>\n",
              "      <td>1</td>\n",
              "      <td>0.5</td>\n",
              "      <td>1</td>\n",
              "      <td>0</td>\n",
              "      <td>1</td>\n",
              "      <td>2</td>\n",
              "      <td>0.8</td>\n",
              "      <td>106</td>\n",
              "      <td>6</td>\n",
              "      <td>14</td>\n",
              "      <td>1222</td>\n",
              "      <td>1890</td>\n",
              "      <td>668</td>\n",
              "      <td>13</td>\n",
              "      <td>4</td>\n",
              "      <td>19</td>\n",
              "      <td>1</td>\n",
              "      <td>1</td>\n",
              "      <td>0</td>\n",
              "      <td>0</td>\n",
              "    </tr>\n",
              "    <tr>\n",
              "      <th>1996</th>\n",
              "      <td>1965</td>\n",
              "      <td>1</td>\n",
              "      <td>2.6</td>\n",
              "      <td>1</td>\n",
              "      <td>0</td>\n",
              "      <td>0</td>\n",
              "      <td>39</td>\n",
              "      <td>0.2</td>\n",
              "      <td>187</td>\n",
              "      <td>4</td>\n",
              "      <td>3</td>\n",
              "      <td>915</td>\n",
              "      <td>1965</td>\n",
              "      <td>2032</td>\n",
              "      <td>11</td>\n",
              "      <td>10</td>\n",
              "      <td>16</td>\n",
              "      <td>1</td>\n",
              "      <td>1</td>\n",
              "      <td>1</td>\n",
              "      <td>2</td>\n",
              "    </tr>\n",
              "    <tr>\n",
              "      <th>1997</th>\n",
              "      <td>1911</td>\n",
              "      <td>0</td>\n",
              "      <td>0.9</td>\n",
              "      <td>1</td>\n",
              "      <td>1</td>\n",
              "      <td>1</td>\n",
              "      <td>36</td>\n",
              "      <td>0.7</td>\n",
              "      <td>108</td>\n",
              "      <td>8</td>\n",
              "      <td>3</td>\n",
              "      <td>868</td>\n",
              "      <td>1632</td>\n",
              "      <td>3057</td>\n",
              "      <td>9</td>\n",
              "      <td>1</td>\n",
              "      <td>5</td>\n",
              "      <td>1</td>\n",
              "      <td>1</td>\n",
              "      <td>0</td>\n",
              "      <td>3</td>\n",
              "    </tr>\n",
              "    <tr>\n",
              "      <th>1998</th>\n",
              "      <td>1512</td>\n",
              "      <td>0</td>\n",
              "      <td>0.9</td>\n",
              "      <td>0</td>\n",
              "      <td>4</td>\n",
              "      <td>1</td>\n",
              "      <td>46</td>\n",
              "      <td>0.1</td>\n",
              "      <td>145</td>\n",
              "      <td>5</td>\n",
              "      <td>5</td>\n",
              "      <td>336</td>\n",
              "      <td>670</td>\n",
              "      <td>869</td>\n",
              "      <td>18</td>\n",
              "      <td>10</td>\n",
              "      <td>19</td>\n",
              "      <td>1</td>\n",
              "      <td>1</td>\n",
              "      <td>1</td>\n",
              "      <td>0</td>\n",
              "    </tr>\n",
              "    <tr>\n",
              "      <th>1999</th>\n",
              "      <td>510</td>\n",
              "      <td>1</td>\n",
              "      <td>2.0</td>\n",
              "      <td>1</td>\n",
              "      <td>5</td>\n",
              "      <td>1</td>\n",
              "      <td>45</td>\n",
              "      <td>0.9</td>\n",
              "      <td>168</td>\n",
              "      <td>6</td>\n",
              "      <td>16</td>\n",
              "      <td>483</td>\n",
              "      <td>754</td>\n",
              "      <td>3919</td>\n",
              "      <td>19</td>\n",
              "      <td>4</td>\n",
              "      <td>2</td>\n",
              "      <td>1</td>\n",
              "      <td>1</td>\n",
              "      <td>1</td>\n",
              "      <td>3</td>\n",
              "    </tr>\n",
              "  </tbody>\n",
              "</table>\n",
              "<p>2000 rows × 21 columns</p>\n",
              "</div>"
            ],
            "text/plain": [
              "      battery_power  blue  clock_speed  ...  touch_screen  wifi  price_range\n",
              "0               842     0          2.2  ...             0     1            1\n",
              "1              1021     1          0.5  ...             1     0            2\n",
              "2               563     1          0.5  ...             1     0            2\n",
              "3               615     1          2.5  ...             0     0            2\n",
              "4              1821     1          1.2  ...             1     0            1\n",
              "...             ...   ...          ...  ...           ...   ...          ...\n",
              "1995            794     1          0.5  ...             1     0            0\n",
              "1996           1965     1          2.6  ...             1     1            2\n",
              "1997           1911     0          0.9  ...             1     0            3\n",
              "1998           1512     0          0.9  ...             1     1            0\n",
              "1999            510     1          2.0  ...             1     1            3\n",
              "\n",
              "[2000 rows x 21 columns]"
            ]
          },
          "metadata": {
            "tags": []
          },
          "execution_count": 4
        }
      ]
    },
    {
      "cell_type": "code",
      "metadata": {
        "colab": {
          "base_uri": "https://localhost:8080/",
          "height": 422
        },
        "id": "w_5Aovia5Qgt",
        "outputId": "73b9282e-102c-4d9f-8bc0-019feb55b4ef"
      },
      "source": [
        "X = data_train.drop(\"price_range\", axis = 1)  # X don't contain Target \n",
        "X"
      ],
      "execution_count": null,
      "outputs": [
        {
          "output_type": "execute_result",
          "data": {
            "text/html": [
              "<div>\n",
              "<style scoped>\n",
              "    .dataframe tbody tr th:only-of-type {\n",
              "        vertical-align: middle;\n",
              "    }\n",
              "\n",
              "    .dataframe tbody tr th {\n",
              "        vertical-align: top;\n",
              "    }\n",
              "\n",
              "    .dataframe thead th {\n",
              "        text-align: right;\n",
              "    }\n",
              "</style>\n",
              "<table border=\"1\" class=\"dataframe\">\n",
              "  <thead>\n",
              "    <tr style=\"text-align: right;\">\n",
              "      <th></th>\n",
              "      <th>battery_power</th>\n",
              "      <th>blue</th>\n",
              "      <th>clock_speed</th>\n",
              "      <th>dual_sim</th>\n",
              "      <th>fc</th>\n",
              "      <th>four_g</th>\n",
              "      <th>int_memory</th>\n",
              "      <th>m_dep</th>\n",
              "      <th>mobile_wt</th>\n",
              "      <th>n_cores</th>\n",
              "      <th>pc</th>\n",
              "      <th>px_height</th>\n",
              "      <th>px_width</th>\n",
              "      <th>ram</th>\n",
              "      <th>sc_h</th>\n",
              "      <th>sc_w</th>\n",
              "      <th>talk_time</th>\n",
              "      <th>three_g</th>\n",
              "      <th>touch_screen</th>\n",
              "      <th>wifi</th>\n",
              "    </tr>\n",
              "  </thead>\n",
              "  <tbody>\n",
              "    <tr>\n",
              "      <th>0</th>\n",
              "      <td>842</td>\n",
              "      <td>0</td>\n",
              "      <td>2.2</td>\n",
              "      <td>0</td>\n",
              "      <td>1</td>\n",
              "      <td>0</td>\n",
              "      <td>7</td>\n",
              "      <td>0.6</td>\n",
              "      <td>188</td>\n",
              "      <td>2</td>\n",
              "      <td>2</td>\n",
              "      <td>20</td>\n",
              "      <td>756</td>\n",
              "      <td>2549</td>\n",
              "      <td>9</td>\n",
              "      <td>7</td>\n",
              "      <td>19</td>\n",
              "      <td>0</td>\n",
              "      <td>0</td>\n",
              "      <td>1</td>\n",
              "    </tr>\n",
              "    <tr>\n",
              "      <th>1</th>\n",
              "      <td>1021</td>\n",
              "      <td>1</td>\n",
              "      <td>0.5</td>\n",
              "      <td>1</td>\n",
              "      <td>0</td>\n",
              "      <td>1</td>\n",
              "      <td>53</td>\n",
              "      <td>0.7</td>\n",
              "      <td>136</td>\n",
              "      <td>3</td>\n",
              "      <td>6</td>\n",
              "      <td>905</td>\n",
              "      <td>1988</td>\n",
              "      <td>2631</td>\n",
              "      <td>17</td>\n",
              "      <td>3</td>\n",
              "      <td>7</td>\n",
              "      <td>1</td>\n",
              "      <td>1</td>\n",
              "      <td>0</td>\n",
              "    </tr>\n",
              "    <tr>\n",
              "      <th>2</th>\n",
              "      <td>563</td>\n",
              "      <td>1</td>\n",
              "      <td>0.5</td>\n",
              "      <td>1</td>\n",
              "      <td>2</td>\n",
              "      <td>1</td>\n",
              "      <td>41</td>\n",
              "      <td>0.9</td>\n",
              "      <td>145</td>\n",
              "      <td>5</td>\n",
              "      <td>6</td>\n",
              "      <td>1263</td>\n",
              "      <td>1716</td>\n",
              "      <td>2603</td>\n",
              "      <td>11</td>\n",
              "      <td>2</td>\n",
              "      <td>9</td>\n",
              "      <td>1</td>\n",
              "      <td>1</td>\n",
              "      <td>0</td>\n",
              "    </tr>\n",
              "    <tr>\n",
              "      <th>3</th>\n",
              "      <td>615</td>\n",
              "      <td>1</td>\n",
              "      <td>2.5</td>\n",
              "      <td>0</td>\n",
              "      <td>0</td>\n",
              "      <td>0</td>\n",
              "      <td>10</td>\n",
              "      <td>0.8</td>\n",
              "      <td>131</td>\n",
              "      <td>6</td>\n",
              "      <td>9</td>\n",
              "      <td>1216</td>\n",
              "      <td>1786</td>\n",
              "      <td>2769</td>\n",
              "      <td>16</td>\n",
              "      <td>8</td>\n",
              "      <td>11</td>\n",
              "      <td>1</td>\n",
              "      <td>0</td>\n",
              "      <td>0</td>\n",
              "    </tr>\n",
              "    <tr>\n",
              "      <th>4</th>\n",
              "      <td>1821</td>\n",
              "      <td>1</td>\n",
              "      <td>1.2</td>\n",
              "      <td>0</td>\n",
              "      <td>13</td>\n",
              "      <td>1</td>\n",
              "      <td>44</td>\n",
              "      <td>0.6</td>\n",
              "      <td>141</td>\n",
              "      <td>2</td>\n",
              "      <td>14</td>\n",
              "      <td>1208</td>\n",
              "      <td>1212</td>\n",
              "      <td>1411</td>\n",
              "      <td>8</td>\n",
              "      <td>2</td>\n",
              "      <td>15</td>\n",
              "      <td>1</td>\n",
              "      <td>1</td>\n",
              "      <td>0</td>\n",
              "    </tr>\n",
              "    <tr>\n",
              "      <th>...</th>\n",
              "      <td>...</td>\n",
              "      <td>...</td>\n",
              "      <td>...</td>\n",
              "      <td>...</td>\n",
              "      <td>...</td>\n",
              "      <td>...</td>\n",
              "      <td>...</td>\n",
              "      <td>...</td>\n",
              "      <td>...</td>\n",
              "      <td>...</td>\n",
              "      <td>...</td>\n",
              "      <td>...</td>\n",
              "      <td>...</td>\n",
              "      <td>...</td>\n",
              "      <td>...</td>\n",
              "      <td>...</td>\n",
              "      <td>...</td>\n",
              "      <td>...</td>\n",
              "      <td>...</td>\n",
              "      <td>...</td>\n",
              "    </tr>\n",
              "    <tr>\n",
              "      <th>1995</th>\n",
              "      <td>794</td>\n",
              "      <td>1</td>\n",
              "      <td>0.5</td>\n",
              "      <td>1</td>\n",
              "      <td>0</td>\n",
              "      <td>1</td>\n",
              "      <td>2</td>\n",
              "      <td>0.8</td>\n",
              "      <td>106</td>\n",
              "      <td>6</td>\n",
              "      <td>14</td>\n",
              "      <td>1222</td>\n",
              "      <td>1890</td>\n",
              "      <td>668</td>\n",
              "      <td>13</td>\n",
              "      <td>4</td>\n",
              "      <td>19</td>\n",
              "      <td>1</td>\n",
              "      <td>1</td>\n",
              "      <td>0</td>\n",
              "    </tr>\n",
              "    <tr>\n",
              "      <th>1996</th>\n",
              "      <td>1965</td>\n",
              "      <td>1</td>\n",
              "      <td>2.6</td>\n",
              "      <td>1</td>\n",
              "      <td>0</td>\n",
              "      <td>0</td>\n",
              "      <td>39</td>\n",
              "      <td>0.2</td>\n",
              "      <td>187</td>\n",
              "      <td>4</td>\n",
              "      <td>3</td>\n",
              "      <td>915</td>\n",
              "      <td>1965</td>\n",
              "      <td>2032</td>\n",
              "      <td>11</td>\n",
              "      <td>10</td>\n",
              "      <td>16</td>\n",
              "      <td>1</td>\n",
              "      <td>1</td>\n",
              "      <td>1</td>\n",
              "    </tr>\n",
              "    <tr>\n",
              "      <th>1997</th>\n",
              "      <td>1911</td>\n",
              "      <td>0</td>\n",
              "      <td>0.9</td>\n",
              "      <td>1</td>\n",
              "      <td>1</td>\n",
              "      <td>1</td>\n",
              "      <td>36</td>\n",
              "      <td>0.7</td>\n",
              "      <td>108</td>\n",
              "      <td>8</td>\n",
              "      <td>3</td>\n",
              "      <td>868</td>\n",
              "      <td>1632</td>\n",
              "      <td>3057</td>\n",
              "      <td>9</td>\n",
              "      <td>1</td>\n",
              "      <td>5</td>\n",
              "      <td>1</td>\n",
              "      <td>1</td>\n",
              "      <td>0</td>\n",
              "    </tr>\n",
              "    <tr>\n",
              "      <th>1998</th>\n",
              "      <td>1512</td>\n",
              "      <td>0</td>\n",
              "      <td>0.9</td>\n",
              "      <td>0</td>\n",
              "      <td>4</td>\n",
              "      <td>1</td>\n",
              "      <td>46</td>\n",
              "      <td>0.1</td>\n",
              "      <td>145</td>\n",
              "      <td>5</td>\n",
              "      <td>5</td>\n",
              "      <td>336</td>\n",
              "      <td>670</td>\n",
              "      <td>869</td>\n",
              "      <td>18</td>\n",
              "      <td>10</td>\n",
              "      <td>19</td>\n",
              "      <td>1</td>\n",
              "      <td>1</td>\n",
              "      <td>1</td>\n",
              "    </tr>\n",
              "    <tr>\n",
              "      <th>1999</th>\n",
              "      <td>510</td>\n",
              "      <td>1</td>\n",
              "      <td>2.0</td>\n",
              "      <td>1</td>\n",
              "      <td>5</td>\n",
              "      <td>1</td>\n",
              "      <td>45</td>\n",
              "      <td>0.9</td>\n",
              "      <td>168</td>\n",
              "      <td>6</td>\n",
              "      <td>16</td>\n",
              "      <td>483</td>\n",
              "      <td>754</td>\n",
              "      <td>3919</td>\n",
              "      <td>19</td>\n",
              "      <td>4</td>\n",
              "      <td>2</td>\n",
              "      <td>1</td>\n",
              "      <td>1</td>\n",
              "      <td>1</td>\n",
              "    </tr>\n",
              "  </tbody>\n",
              "</table>\n",
              "<p>2000 rows × 20 columns</p>\n",
              "</div>"
            ],
            "text/plain": [
              "      battery_power  blue  clock_speed  ...  three_g  touch_screen  wifi\n",
              "0               842     0          2.2  ...        0             0     1\n",
              "1              1021     1          0.5  ...        1             1     0\n",
              "2               563     1          0.5  ...        1             1     0\n",
              "3               615     1          2.5  ...        1             0     0\n",
              "4              1821     1          1.2  ...        1             1     0\n",
              "...             ...   ...          ...  ...      ...           ...   ...\n",
              "1995            794     1          0.5  ...        1             1     0\n",
              "1996           1965     1          2.6  ...        1             1     1\n",
              "1997           1911     0          0.9  ...        1             1     0\n",
              "1998           1512     0          0.9  ...        1             1     1\n",
              "1999            510     1          2.0  ...        1             1     1\n",
              "\n",
              "[2000 rows x 20 columns]"
            ]
          },
          "metadata": {
            "tags": []
          },
          "execution_count": 5
        }
      ]
    },
    {
      "cell_type": "code",
      "metadata": {
        "colab": {
          "base_uri": "https://localhost:8080/"
        },
        "id": "LhiAuVBI5Qsj",
        "outputId": "fce23406-8aaa-4ce1-ed12-e894760441bd"
      },
      "source": [
        "Y = data_train[\"price_range\"]  # Y contains Target column , 0 - low price, 1 -  , 2- mid price  , 3- high price\n",
        "Y"
      ],
      "execution_count": null,
      "outputs": [
        {
          "output_type": "execute_result",
          "data": {
            "text/plain": [
              "0       1\n",
              "1       2\n",
              "2       2\n",
              "3       2\n",
              "4       1\n",
              "       ..\n",
              "1995    0\n",
              "1996    2\n",
              "1997    3\n",
              "1998    0\n",
              "1999    3\n",
              "Name: price_range, Length: 2000, dtype: int64"
            ]
          },
          "metadata": {
            "tags": []
          },
          "execution_count": 6
        }
      ]
    },
    {
      "cell_type": "code",
      "metadata": {
        "id": "Nnv0W9QTG-A5"
      },
      "source": [
        " #importing train_test_split  function \n",
        " \n",
        " from sklearn.model_selection import train_test_split \n"
      ],
      "execution_count": null,
      "outputs": []
    },
    {
      "cell_type": "code",
      "metadata": {
        "id": "h1JU0MhukROo"
      },
      "source": [
        "#divining X into X_train & X_test, Y into Y_train & Y_test \n",
        "\n",
        "X_train, X_test, Y_train, Y_test = train_test_split(X, Y, test_size = 0.2 ,random_state = None)"
      ],
      "execution_count": null,
      "outputs": []
    },
    {
      "cell_type": "code",
      "metadata": {
        "colab": {
          "base_uri": "https://localhost:8080/",
          "height": 422
        },
        "id": "ARUk4F-VlTvm",
        "outputId": "f6c1bb9c-d575-4cfe-ebee-dd497876f62f"
      },
      "source": [
        "X_train"
      ],
      "execution_count": null,
      "outputs": [
        {
          "output_type": "execute_result",
          "data": {
            "text/html": [
              "<div>\n",
              "<style scoped>\n",
              "    .dataframe tbody tr th:only-of-type {\n",
              "        vertical-align: middle;\n",
              "    }\n",
              "\n",
              "    .dataframe tbody tr th {\n",
              "        vertical-align: top;\n",
              "    }\n",
              "\n",
              "    .dataframe thead th {\n",
              "        text-align: right;\n",
              "    }\n",
              "</style>\n",
              "<table border=\"1\" class=\"dataframe\">\n",
              "  <thead>\n",
              "    <tr style=\"text-align: right;\">\n",
              "      <th></th>\n",
              "      <th>battery_power</th>\n",
              "      <th>blue</th>\n",
              "      <th>clock_speed</th>\n",
              "      <th>dual_sim</th>\n",
              "      <th>fc</th>\n",
              "      <th>four_g</th>\n",
              "      <th>int_memory</th>\n",
              "      <th>m_dep</th>\n",
              "      <th>mobile_wt</th>\n",
              "      <th>n_cores</th>\n",
              "      <th>pc</th>\n",
              "      <th>px_height</th>\n",
              "      <th>px_width</th>\n",
              "      <th>ram</th>\n",
              "      <th>sc_h</th>\n",
              "      <th>sc_w</th>\n",
              "      <th>talk_time</th>\n",
              "      <th>three_g</th>\n",
              "      <th>touch_screen</th>\n",
              "      <th>wifi</th>\n",
              "    </tr>\n",
              "  </thead>\n",
              "  <tbody>\n",
              "    <tr>\n",
              "      <th>1042</th>\n",
              "      <td>1674</td>\n",
              "      <td>0</td>\n",
              "      <td>2.8</td>\n",
              "      <td>1</td>\n",
              "      <td>0</td>\n",
              "      <td>1</td>\n",
              "      <td>52</td>\n",
              "      <td>0.2</td>\n",
              "      <td>89</td>\n",
              "      <td>3</td>\n",
              "      <td>7</td>\n",
              "      <td>1432</td>\n",
              "      <td>1649</td>\n",
              "      <td>2030</td>\n",
              "      <td>7</td>\n",
              "      <td>0</td>\n",
              "      <td>6</td>\n",
              "      <td>1</td>\n",
              "      <td>0</td>\n",
              "      <td>0</td>\n",
              "    </tr>\n",
              "    <tr>\n",
              "      <th>1929</th>\n",
              "      <td>1602</td>\n",
              "      <td>0</td>\n",
              "      <td>1.6</td>\n",
              "      <td>1</td>\n",
              "      <td>0</td>\n",
              "      <td>1</td>\n",
              "      <td>35</td>\n",
              "      <td>0.1</td>\n",
              "      <td>99</td>\n",
              "      <td>7</td>\n",
              "      <td>7</td>\n",
              "      <td>1325</td>\n",
              "      <td>1800</td>\n",
              "      <td>1829</td>\n",
              "      <td>18</td>\n",
              "      <td>17</td>\n",
              "      <td>13</td>\n",
              "      <td>1</td>\n",
              "      <td>0</td>\n",
              "      <td>0</td>\n",
              "    </tr>\n",
              "    <tr>\n",
              "      <th>440</th>\n",
              "      <td>1310</td>\n",
              "      <td>1</td>\n",
              "      <td>2.3</td>\n",
              "      <td>1</td>\n",
              "      <td>6</td>\n",
              "      <td>0</td>\n",
              "      <td>57</td>\n",
              "      <td>0.9</td>\n",
              "      <td>135</td>\n",
              "      <td>8</td>\n",
              "      <td>9</td>\n",
              "      <td>449</td>\n",
              "      <td>889</td>\n",
              "      <td>1175</td>\n",
              "      <td>16</td>\n",
              "      <td>0</td>\n",
              "      <td>8</td>\n",
              "      <td>0</td>\n",
              "      <td>0</td>\n",
              "      <td>0</td>\n",
              "    </tr>\n",
              "    <tr>\n",
              "      <th>1301</th>\n",
              "      <td>1874</td>\n",
              "      <td>1</td>\n",
              "      <td>0.6</td>\n",
              "      <td>0</td>\n",
              "      <td>1</td>\n",
              "      <td>0</td>\n",
              "      <td>19</td>\n",
              "      <td>0.8</td>\n",
              "      <td>192</td>\n",
              "      <td>2</td>\n",
              "      <td>9</td>\n",
              "      <td>1238</td>\n",
              "      <td>1418</td>\n",
              "      <td>1218</td>\n",
              "      <td>15</td>\n",
              "      <td>10</td>\n",
              "      <td>17</td>\n",
              "      <td>0</td>\n",
              "      <td>1</td>\n",
              "      <td>0</td>\n",
              "    </tr>\n",
              "    <tr>\n",
              "      <th>703</th>\n",
              "      <td>1413</td>\n",
              "      <td>0</td>\n",
              "      <td>0.5</td>\n",
              "      <td>1</td>\n",
              "      <td>4</td>\n",
              "      <td>1</td>\n",
              "      <td>39</td>\n",
              "      <td>0.1</td>\n",
              "      <td>185</td>\n",
              "      <td>5</td>\n",
              "      <td>12</td>\n",
              "      <td>1039</td>\n",
              "      <td>1318</td>\n",
              "      <td>3878</td>\n",
              "      <td>19</td>\n",
              "      <td>16</td>\n",
              "      <td>4</td>\n",
              "      <td>1</td>\n",
              "      <td>0</td>\n",
              "      <td>0</td>\n",
              "    </tr>\n",
              "    <tr>\n",
              "      <th>...</th>\n",
              "      <td>...</td>\n",
              "      <td>...</td>\n",
              "      <td>...</td>\n",
              "      <td>...</td>\n",
              "      <td>...</td>\n",
              "      <td>...</td>\n",
              "      <td>...</td>\n",
              "      <td>...</td>\n",
              "      <td>...</td>\n",
              "      <td>...</td>\n",
              "      <td>...</td>\n",
              "      <td>...</td>\n",
              "      <td>...</td>\n",
              "      <td>...</td>\n",
              "      <td>...</td>\n",
              "      <td>...</td>\n",
              "      <td>...</td>\n",
              "      <td>...</td>\n",
              "      <td>...</td>\n",
              "      <td>...</td>\n",
              "    </tr>\n",
              "    <tr>\n",
              "      <th>246</th>\n",
              "      <td>862</td>\n",
              "      <td>1</td>\n",
              "      <td>0.8</td>\n",
              "      <td>1</td>\n",
              "      <td>3</td>\n",
              "      <td>0</td>\n",
              "      <td>23</td>\n",
              "      <td>0.4</td>\n",
              "      <td>165</td>\n",
              "      <td>2</td>\n",
              "      <td>15</td>\n",
              "      <td>793</td>\n",
              "      <td>1758</td>\n",
              "      <td>278</td>\n",
              "      <td>16</td>\n",
              "      <td>3</td>\n",
              "      <td>11</td>\n",
              "      <td>0</td>\n",
              "      <td>0</td>\n",
              "      <td>1</td>\n",
              "    </tr>\n",
              "    <tr>\n",
              "      <th>467</th>\n",
              "      <td>1433</td>\n",
              "      <td>0</td>\n",
              "      <td>1.6</td>\n",
              "      <td>0</td>\n",
              "      <td>7</td>\n",
              "      <td>0</td>\n",
              "      <td>4</td>\n",
              "      <td>0.7</td>\n",
              "      <td>133</td>\n",
              "      <td>8</td>\n",
              "      <td>11</td>\n",
              "      <td>281</td>\n",
              "      <td>799</td>\n",
              "      <td>258</td>\n",
              "      <td>11</td>\n",
              "      <td>9</td>\n",
              "      <td>4</td>\n",
              "      <td>1</td>\n",
              "      <td>1</td>\n",
              "      <td>1</td>\n",
              "    </tr>\n",
              "    <tr>\n",
              "      <th>1785</th>\n",
              "      <td>1354</td>\n",
              "      <td>1</td>\n",
              "      <td>0.7</td>\n",
              "      <td>1</td>\n",
              "      <td>3</td>\n",
              "      <td>1</td>\n",
              "      <td>26</td>\n",
              "      <td>0.5</td>\n",
              "      <td>136</td>\n",
              "      <td>4</td>\n",
              "      <td>6</td>\n",
              "      <td>297</td>\n",
              "      <td>918</td>\n",
              "      <td>2090</td>\n",
              "      <td>5</td>\n",
              "      <td>1</td>\n",
              "      <td>13</td>\n",
              "      <td>1</td>\n",
              "      <td>1</td>\n",
              "      <td>0</td>\n",
              "    </tr>\n",
              "    <tr>\n",
              "      <th>1228</th>\n",
              "      <td>1820</td>\n",
              "      <td>1</td>\n",
              "      <td>1.7</td>\n",
              "      <td>1</td>\n",
              "      <td>0</td>\n",
              "      <td>1</td>\n",
              "      <td>64</td>\n",
              "      <td>0.6</td>\n",
              "      <td>161</td>\n",
              "      <td>1</td>\n",
              "      <td>3</td>\n",
              "      <td>1157</td>\n",
              "      <td>1951</td>\n",
              "      <td>574</td>\n",
              "      <td>10</td>\n",
              "      <td>2</td>\n",
              "      <td>18</td>\n",
              "      <td>1</td>\n",
              "      <td>1</td>\n",
              "      <td>0</td>\n",
              "    </tr>\n",
              "    <tr>\n",
              "      <th>1209</th>\n",
              "      <td>1895</td>\n",
              "      <td>0</td>\n",
              "      <td>0.5</td>\n",
              "      <td>0</td>\n",
              "      <td>2</td>\n",
              "      <td>1</td>\n",
              "      <td>5</td>\n",
              "      <td>0.7</td>\n",
              "      <td>134</td>\n",
              "      <td>1</td>\n",
              "      <td>11</td>\n",
              "      <td>725</td>\n",
              "      <td>1335</td>\n",
              "      <td>774</td>\n",
              "      <td>15</td>\n",
              "      <td>4</td>\n",
              "      <td>6</td>\n",
              "      <td>1</td>\n",
              "      <td>1</td>\n",
              "      <td>0</td>\n",
              "    </tr>\n",
              "  </tbody>\n",
              "</table>\n",
              "<p>1600 rows × 20 columns</p>\n",
              "</div>"
            ],
            "text/plain": [
              "      battery_power  blue  clock_speed  ...  three_g  touch_screen  wifi\n",
              "1042           1674     0          2.8  ...        1             0     0\n",
              "1929           1602     0          1.6  ...        1             0     0\n",
              "440            1310     1          2.3  ...        0             0     0\n",
              "1301           1874     1          0.6  ...        0             1     0\n",
              "703            1413     0          0.5  ...        1             0     0\n",
              "...             ...   ...          ...  ...      ...           ...   ...\n",
              "246             862     1          0.8  ...        0             0     1\n",
              "467            1433     0          1.6  ...        1             1     1\n",
              "1785           1354     1          0.7  ...        1             1     0\n",
              "1228           1820     1          1.7  ...        1             1     0\n",
              "1209           1895     0          0.5  ...        1             1     0\n",
              "\n",
              "[1600 rows x 20 columns]"
            ]
          },
          "metadata": {
            "tags": []
          },
          "execution_count": 9
        }
      ]
    },
    {
      "cell_type": "markdown",
      "metadata": {
        "id": "Na_huSInlYyS"
      },
      "source": [
        "first row no is 175 and second is 1239 etc. \n",
        "\n",
        "Now run X_train , we get different columns \n",
        "\n"
      ]
    },
    {
      "cell_type": "markdown",
      "metadata": {
        "id": "049tvP95kyAL"
      },
      "source": [
        "#### Always give some integer number to random_state, If random_state = None, dataset will not be in corect oreder, whwnever we run X_train , X_test or Y_train n test, it considers different columns and it splits(data changes)."
      ]
    },
    {
      "cell_type": "code",
      "metadata": {
        "id": "jDY8MaIukwvB"
      },
      "source": [
        "\n",
        "X_train, X_test, Y_train, Y_test = train_test_split(X, Y, test_size = 0.2 ,random_state = 1 )"
      ],
      "execution_count": null,
      "outputs": []
    },
    {
      "cell_type": "code",
      "metadata": {
        "colab": {
          "base_uri": "https://localhost:8080/",
          "height": 422
        },
        "id": "E8KDaYIMnpp-",
        "outputId": "3d54d92f-6148-4a24-85f6-ff3d99f1fe38"
      },
      "source": [
        "X_train"
      ],
      "execution_count": null,
      "outputs": [
        {
          "output_type": "execute_result",
          "data": {
            "text/html": [
              "<div>\n",
              "<style scoped>\n",
              "    .dataframe tbody tr th:only-of-type {\n",
              "        vertical-align: middle;\n",
              "    }\n",
              "\n",
              "    .dataframe tbody tr th {\n",
              "        vertical-align: top;\n",
              "    }\n",
              "\n",
              "    .dataframe thead th {\n",
              "        text-align: right;\n",
              "    }\n",
              "</style>\n",
              "<table border=\"1\" class=\"dataframe\">\n",
              "  <thead>\n",
              "    <tr style=\"text-align: right;\">\n",
              "      <th></th>\n",
              "      <th>battery_power</th>\n",
              "      <th>blue</th>\n",
              "      <th>clock_speed</th>\n",
              "      <th>dual_sim</th>\n",
              "      <th>fc</th>\n",
              "      <th>four_g</th>\n",
              "      <th>int_memory</th>\n",
              "      <th>m_dep</th>\n",
              "      <th>mobile_wt</th>\n",
              "      <th>n_cores</th>\n",
              "      <th>pc</th>\n",
              "      <th>px_height</th>\n",
              "      <th>px_width</th>\n",
              "      <th>ram</th>\n",
              "      <th>sc_h</th>\n",
              "      <th>sc_w</th>\n",
              "      <th>talk_time</th>\n",
              "      <th>three_g</th>\n",
              "      <th>touch_screen</th>\n",
              "      <th>wifi</th>\n",
              "    </tr>\n",
              "  </thead>\n",
              "  <tbody>\n",
              "    <tr>\n",
              "      <th>0</th>\n",
              "      <td>842</td>\n",
              "      <td>0</td>\n",
              "      <td>2.2</td>\n",
              "      <td>0</td>\n",
              "      <td>1</td>\n",
              "      <td>0</td>\n",
              "      <td>7</td>\n",
              "      <td>0.6</td>\n",
              "      <td>188</td>\n",
              "      <td>2</td>\n",
              "      <td>2</td>\n",
              "      <td>20</td>\n",
              "      <td>756</td>\n",
              "      <td>2549</td>\n",
              "      <td>9</td>\n",
              "      <td>7</td>\n",
              "      <td>19</td>\n",
              "      <td>0</td>\n",
              "      <td>0</td>\n",
              "      <td>1</td>\n",
              "    </tr>\n",
              "    <tr>\n",
              "      <th>816</th>\n",
              "      <td>805</td>\n",
              "      <td>1</td>\n",
              "      <td>0.7</td>\n",
              "      <td>0</td>\n",
              "      <td>0</td>\n",
              "      <td>0</td>\n",
              "      <td>64</td>\n",
              "      <td>0.1</td>\n",
              "      <td>97</td>\n",
              "      <td>4</td>\n",
              "      <td>14</td>\n",
              "      <td>641</td>\n",
              "      <td>704</td>\n",
              "      <td>418</td>\n",
              "      <td>11</td>\n",
              "      <td>6</td>\n",
              "      <td>17</td>\n",
              "      <td>0</td>\n",
              "      <td>1</td>\n",
              "      <td>1</td>\n",
              "    </tr>\n",
              "    <tr>\n",
              "      <th>790</th>\n",
              "      <td>911</td>\n",
              "      <td>1</td>\n",
              "      <td>2.9</td>\n",
              "      <td>0</td>\n",
              "      <td>0</td>\n",
              "      <td>0</td>\n",
              "      <td>46</td>\n",
              "      <td>0.1</td>\n",
              "      <td>181</td>\n",
              "      <td>5</td>\n",
              "      <td>1</td>\n",
              "      <td>461</td>\n",
              "      <td>670</td>\n",
              "      <td>363</td>\n",
              "      <td>9</td>\n",
              "      <td>5</td>\n",
              "      <td>17</td>\n",
              "      <td>0</td>\n",
              "      <td>1</td>\n",
              "      <td>0</td>\n",
              "    </tr>\n",
              "    <tr>\n",
              "      <th>361</th>\n",
              "      <td>899</td>\n",
              "      <td>0</td>\n",
              "      <td>0.5</td>\n",
              "      <td>1</td>\n",
              "      <td>13</td>\n",
              "      <td>1</td>\n",
              "      <td>57</td>\n",
              "      <td>0.9</td>\n",
              "      <td>172</td>\n",
              "      <td>2</td>\n",
              "      <td>18</td>\n",
              "      <td>788</td>\n",
              "      <td>1331</td>\n",
              "      <td>364</td>\n",
              "      <td>11</td>\n",
              "      <td>1</td>\n",
              "      <td>7</td>\n",
              "      <td>1</td>\n",
              "      <td>1</td>\n",
              "      <td>0</td>\n",
              "    </tr>\n",
              "    <tr>\n",
              "      <th>592</th>\n",
              "      <td>1263</td>\n",
              "      <td>0</td>\n",
              "      <td>0.5</td>\n",
              "      <td>0</td>\n",
              "      <td>12</td>\n",
              "      <td>0</td>\n",
              "      <td>64</td>\n",
              "      <td>0.3</td>\n",
              "      <td>175</td>\n",
              "      <td>5</td>\n",
              "      <td>18</td>\n",
              "      <td>178</td>\n",
              "      <td>1883</td>\n",
              "      <td>1183</td>\n",
              "      <td>14</td>\n",
              "      <td>3</td>\n",
              "      <td>17</td>\n",
              "      <td>0</td>\n",
              "      <td>0</td>\n",
              "      <td>1</td>\n",
              "    </tr>\n",
              "    <tr>\n",
              "      <th>...</th>\n",
              "      <td>...</td>\n",
              "      <td>...</td>\n",
              "      <td>...</td>\n",
              "      <td>...</td>\n",
              "      <td>...</td>\n",
              "      <td>...</td>\n",
              "      <td>...</td>\n",
              "      <td>...</td>\n",
              "      <td>...</td>\n",
              "      <td>...</td>\n",
              "      <td>...</td>\n",
              "      <td>...</td>\n",
              "      <td>...</td>\n",
              "      <td>...</td>\n",
              "      <td>...</td>\n",
              "      <td>...</td>\n",
              "      <td>...</td>\n",
              "      <td>...</td>\n",
              "      <td>...</td>\n",
              "      <td>...</td>\n",
              "    </tr>\n",
              "    <tr>\n",
              "      <th>1791</th>\n",
              "      <td>1203</td>\n",
              "      <td>1</td>\n",
              "      <td>0.5</td>\n",
              "      <td>1</td>\n",
              "      <td>0</td>\n",
              "      <td>1</td>\n",
              "      <td>11</td>\n",
              "      <td>0.9</td>\n",
              "      <td>109</td>\n",
              "      <td>2</td>\n",
              "      <td>12</td>\n",
              "      <td>35</td>\n",
              "      <td>510</td>\n",
              "      <td>1672</td>\n",
              "      <td>17</td>\n",
              "      <td>13</td>\n",
              "      <td>19</td>\n",
              "      <td>1</td>\n",
              "      <td>1</td>\n",
              "      <td>0</td>\n",
              "    </tr>\n",
              "    <tr>\n",
              "      <th>1096</th>\n",
              "      <td>1154</td>\n",
              "      <td>0</td>\n",
              "      <td>2.0</td>\n",
              "      <td>0</td>\n",
              "      <td>6</td>\n",
              "      <td>1</td>\n",
              "      <td>35</td>\n",
              "      <td>0.8</td>\n",
              "      <td>159</td>\n",
              "      <td>5</td>\n",
              "      <td>16</td>\n",
              "      <td>1003</td>\n",
              "      <td>1827</td>\n",
              "      <td>3262</td>\n",
              "      <td>16</td>\n",
              "      <td>15</td>\n",
              "      <td>16</td>\n",
              "      <td>1</td>\n",
              "      <td>0</td>\n",
              "      <td>0</td>\n",
              "    </tr>\n",
              "    <tr>\n",
              "      <th>1932</th>\n",
              "      <td>718</td>\n",
              "      <td>1</td>\n",
              "      <td>1.6</td>\n",
              "      <td>1</td>\n",
              "      <td>1</td>\n",
              "      <td>1</td>\n",
              "      <td>30</td>\n",
              "      <td>0.4</td>\n",
              "      <td>93</td>\n",
              "      <td>3</td>\n",
              "      <td>12</td>\n",
              "      <td>662</td>\n",
              "      <td>997</td>\n",
              "      <td>1601</td>\n",
              "      <td>10</td>\n",
              "      <td>9</td>\n",
              "      <td>12</td>\n",
              "      <td>1</td>\n",
              "      <td>1</td>\n",
              "      <td>1</td>\n",
              "    </tr>\n",
              "    <tr>\n",
              "      <th>235</th>\n",
              "      <td>1523</td>\n",
              "      <td>1</td>\n",
              "      <td>1.8</td>\n",
              "      <td>0</td>\n",
              "      <td>6</td>\n",
              "      <td>1</td>\n",
              "      <td>11</td>\n",
              "      <td>0.1</td>\n",
              "      <td>129</td>\n",
              "      <td>1</td>\n",
              "      <td>8</td>\n",
              "      <td>148</td>\n",
              "      <td>1606</td>\n",
              "      <td>707</td>\n",
              "      <td>19</td>\n",
              "      <td>8</td>\n",
              "      <td>19</td>\n",
              "      <td>1</td>\n",
              "      <td>1</td>\n",
              "      <td>0</td>\n",
              "    </tr>\n",
              "    <tr>\n",
              "      <th>1061</th>\n",
              "      <td>1522</td>\n",
              "      <td>1</td>\n",
              "      <td>0.7</td>\n",
              "      <td>1</td>\n",
              "      <td>4</td>\n",
              "      <td>0</td>\n",
              "      <td>28</td>\n",
              "      <td>0.2</td>\n",
              "      <td>124</td>\n",
              "      <td>1</td>\n",
              "      <td>5</td>\n",
              "      <td>952</td>\n",
              "      <td>1191</td>\n",
              "      <td>1368</td>\n",
              "      <td>14</td>\n",
              "      <td>5</td>\n",
              "      <td>17</td>\n",
              "      <td>1</td>\n",
              "      <td>0</td>\n",
              "      <td>1</td>\n",
              "    </tr>\n",
              "  </tbody>\n",
              "</table>\n",
              "<p>1600 rows × 20 columns</p>\n",
              "</div>"
            ],
            "text/plain": [
              "      battery_power  blue  clock_speed  ...  three_g  touch_screen  wifi\n",
              "0               842     0          2.2  ...        0             0     1\n",
              "816             805     1          0.7  ...        0             1     1\n",
              "790             911     1          2.9  ...        0             1     0\n",
              "361             899     0          0.5  ...        1             1     0\n",
              "592            1263     0          0.5  ...        0             0     1\n",
              "...             ...   ...          ...  ...      ...           ...   ...\n",
              "1791           1203     1          0.5  ...        1             1     0\n",
              "1096           1154     0          2.0  ...        1             0     0\n",
              "1932            718     1          1.6  ...        1             1     1\n",
              "235            1523     1          1.8  ...        1             1     0\n",
              "1061           1522     1          0.7  ...        1             0     1\n",
              "\n",
              "[1600 rows x 20 columns]"
            ]
          },
          "metadata": {
            "tags": []
          },
          "execution_count": 11
        }
      ]
    },
    {
      "cell_type": "markdown",
      "metadata": {
        "id": "WaMFnEUpn5L5"
      },
      "source": [
        "1600 rows"
      ]
    },
    {
      "cell_type": "code",
      "metadata": {
        "colab": {
          "base_uri": "https://localhost:8080/",
          "height": 422
        },
        "id": "iMJGxLY8nt46",
        "outputId": "ee3e9d93-de74-4978-db00-969301d598c6"
      },
      "source": [
        "X_test"
      ],
      "execution_count": null,
      "outputs": [
        {
          "output_type": "execute_result",
          "data": {
            "text/html": [
              "<div>\n",
              "<style scoped>\n",
              "    .dataframe tbody tr th:only-of-type {\n",
              "        vertical-align: middle;\n",
              "    }\n",
              "\n",
              "    .dataframe tbody tr th {\n",
              "        vertical-align: top;\n",
              "    }\n",
              "\n",
              "    .dataframe thead th {\n",
              "        text-align: right;\n",
              "    }\n",
              "</style>\n",
              "<table border=\"1\" class=\"dataframe\">\n",
              "  <thead>\n",
              "    <tr style=\"text-align: right;\">\n",
              "      <th></th>\n",
              "      <th>battery_power</th>\n",
              "      <th>blue</th>\n",
              "      <th>clock_speed</th>\n",
              "      <th>dual_sim</th>\n",
              "      <th>fc</th>\n",
              "      <th>four_g</th>\n",
              "      <th>int_memory</th>\n",
              "      <th>m_dep</th>\n",
              "      <th>mobile_wt</th>\n",
              "      <th>n_cores</th>\n",
              "      <th>pc</th>\n",
              "      <th>px_height</th>\n",
              "      <th>px_width</th>\n",
              "      <th>ram</th>\n",
              "      <th>sc_h</th>\n",
              "      <th>sc_w</th>\n",
              "      <th>talk_time</th>\n",
              "      <th>three_g</th>\n",
              "      <th>touch_screen</th>\n",
              "      <th>wifi</th>\n",
              "    </tr>\n",
              "  </thead>\n",
              "  <tbody>\n",
              "    <tr>\n",
              "      <th>674</th>\n",
              "      <td>1034</td>\n",
              "      <td>0</td>\n",
              "      <td>2.6</td>\n",
              "      <td>1</td>\n",
              "      <td>2</td>\n",
              "      <td>1</td>\n",
              "      <td>45</td>\n",
              "      <td>0.3</td>\n",
              "      <td>190</td>\n",
              "      <td>3</td>\n",
              "      <td>4</td>\n",
              "      <td>182</td>\n",
              "      <td>1293</td>\n",
              "      <td>969</td>\n",
              "      <td>15</td>\n",
              "      <td>1</td>\n",
              "      <td>7</td>\n",
              "      <td>1</td>\n",
              "      <td>0</td>\n",
              "      <td>0</td>\n",
              "    </tr>\n",
              "    <tr>\n",
              "      <th>1699</th>\n",
              "      <td>1002</td>\n",
              "      <td>1</td>\n",
              "      <td>1.8</td>\n",
              "      <td>0</td>\n",
              "      <td>1</td>\n",
              "      <td>0</td>\n",
              "      <td>45</td>\n",
              "      <td>0.7</td>\n",
              "      <td>180</td>\n",
              "      <td>7</td>\n",
              "      <td>7</td>\n",
              "      <td>948</td>\n",
              "      <td>1007</td>\n",
              "      <td>1234</td>\n",
              "      <td>19</td>\n",
              "      <td>13</td>\n",
              "      <td>18</td>\n",
              "      <td>1</td>\n",
              "      <td>1</td>\n",
              "      <td>0</td>\n",
              "    </tr>\n",
              "    <tr>\n",
              "      <th>1282</th>\n",
              "      <td>609</td>\n",
              "      <td>1</td>\n",
              "      <td>0.5</td>\n",
              "      <td>0</td>\n",
              "      <td>4</td>\n",
              "      <td>1</td>\n",
              "      <td>10</td>\n",
              "      <td>0.1</td>\n",
              "      <td>81</td>\n",
              "      <td>6</td>\n",
              "      <td>6</td>\n",
              "      <td>113</td>\n",
              "      <td>1524</td>\n",
              "      <td>1905</td>\n",
              "      <td>16</td>\n",
              "      <td>3</td>\n",
              "      <td>18</td>\n",
              "      <td>1</td>\n",
              "      <td>1</td>\n",
              "      <td>1</td>\n",
              "    </tr>\n",
              "    <tr>\n",
              "      <th>1315</th>\n",
              "      <td>1510</td>\n",
              "      <td>0</td>\n",
              "      <td>0.6</td>\n",
              "      <td>1</td>\n",
              "      <td>1</td>\n",
              "      <td>0</td>\n",
              "      <td>32</td>\n",
              "      <td>0.7</td>\n",
              "      <td>135</td>\n",
              "      <td>3</td>\n",
              "      <td>8</td>\n",
              "      <td>963</td>\n",
              "      <td>1520</td>\n",
              "      <td>854</td>\n",
              "      <td>8</td>\n",
              "      <td>2</td>\n",
              "      <td>10</td>\n",
              "      <td>1</td>\n",
              "      <td>0</td>\n",
              "      <td>1</td>\n",
              "    </tr>\n",
              "    <tr>\n",
              "      <th>1210</th>\n",
              "      <td>805</td>\n",
              "      <td>1</td>\n",
              "      <td>1.7</td>\n",
              "      <td>1</td>\n",
              "      <td>0</td>\n",
              "      <td>1</td>\n",
              "      <td>58</td>\n",
              "      <td>0.9</td>\n",
              "      <td>168</td>\n",
              "      <td>3</td>\n",
              "      <td>10</td>\n",
              "      <td>81</td>\n",
              "      <td>1544</td>\n",
              "      <td>3397</td>\n",
              "      <td>7</td>\n",
              "      <td>6</td>\n",
              "      <td>2</td>\n",
              "      <td>1</td>\n",
              "      <td>0</td>\n",
              "      <td>0</td>\n",
              "    </tr>\n",
              "    <tr>\n",
              "      <th>...</th>\n",
              "      <td>...</td>\n",
              "      <td>...</td>\n",
              "      <td>...</td>\n",
              "      <td>...</td>\n",
              "      <td>...</td>\n",
              "      <td>...</td>\n",
              "      <td>...</td>\n",
              "      <td>...</td>\n",
              "      <td>...</td>\n",
              "      <td>...</td>\n",
              "      <td>...</td>\n",
              "      <td>...</td>\n",
              "      <td>...</td>\n",
              "      <td>...</td>\n",
              "      <td>...</td>\n",
              "      <td>...</td>\n",
              "      <td>...</td>\n",
              "      <td>...</td>\n",
              "      <td>...</td>\n",
              "      <td>...</td>\n",
              "    </tr>\n",
              "    <tr>\n",
              "      <th>400</th>\n",
              "      <td>1266</td>\n",
              "      <td>0</td>\n",
              "      <td>1.9</td>\n",
              "      <td>1</td>\n",
              "      <td>0</td>\n",
              "      <td>1</td>\n",
              "      <td>7</td>\n",
              "      <td>0.2</td>\n",
              "      <td>184</td>\n",
              "      <td>3</td>\n",
              "      <td>12</td>\n",
              "      <td>346</td>\n",
              "      <td>1468</td>\n",
              "      <td>2532</td>\n",
              "      <td>10</td>\n",
              "      <td>5</td>\n",
              "      <td>4</td>\n",
              "      <td>1</td>\n",
              "      <td>1</td>\n",
              "      <td>1</td>\n",
              "    </tr>\n",
              "    <tr>\n",
              "      <th>763</th>\n",
              "      <td>1741</td>\n",
              "      <td>1</td>\n",
              "      <td>1.8</td>\n",
              "      <td>0</td>\n",
              "      <td>0</td>\n",
              "      <td>0</td>\n",
              "      <td>14</td>\n",
              "      <td>0.7</td>\n",
              "      <td>143</td>\n",
              "      <td>8</td>\n",
              "      <td>0</td>\n",
              "      <td>730</td>\n",
              "      <td>1895</td>\n",
              "      <td>3387</td>\n",
              "      <td>11</td>\n",
              "      <td>3</td>\n",
              "      <td>3</td>\n",
              "      <td>1</td>\n",
              "      <td>0</td>\n",
              "      <td>0</td>\n",
              "    </tr>\n",
              "    <tr>\n",
              "      <th>385</th>\n",
              "      <td>1880</td>\n",
              "      <td>1</td>\n",
              "      <td>1.8</td>\n",
              "      <td>0</td>\n",
              "      <td>4</td>\n",
              "      <td>1</td>\n",
              "      <td>18</td>\n",
              "      <td>0.7</td>\n",
              "      <td>138</td>\n",
              "      <td>3</td>\n",
              "      <td>5</td>\n",
              "      <td>71</td>\n",
              "      <td>699</td>\n",
              "      <td>3333</td>\n",
              "      <td>17</td>\n",
              "      <td>15</td>\n",
              "      <td>7</td>\n",
              "      <td>1</td>\n",
              "      <td>0</td>\n",
              "      <td>0</td>\n",
              "    </tr>\n",
              "    <tr>\n",
              "      <th>1667</th>\n",
              "      <td>1967</td>\n",
              "      <td>0</td>\n",
              "      <td>0.5</td>\n",
              "      <td>0</td>\n",
              "      <td>0</td>\n",
              "      <td>1</td>\n",
              "      <td>46</td>\n",
              "      <td>0.6</td>\n",
              "      <td>199</td>\n",
              "      <td>1</td>\n",
              "      <td>7</td>\n",
              "      <td>518</td>\n",
              "      <td>1374</td>\n",
              "      <td>1567</td>\n",
              "      <td>15</td>\n",
              "      <td>2</td>\n",
              "      <td>7</td>\n",
              "      <td>1</td>\n",
              "      <td>1</td>\n",
              "      <td>0</td>\n",
              "    </tr>\n",
              "    <tr>\n",
              "      <th>1820</th>\n",
              "      <td>665</td>\n",
              "      <td>1</td>\n",
              "      <td>0.7</td>\n",
              "      <td>0</td>\n",
              "      <td>0</td>\n",
              "      <td>1</td>\n",
              "      <td>31</td>\n",
              "      <td>0.1</td>\n",
              "      <td>185</td>\n",
              "      <td>5</td>\n",
              "      <td>2</td>\n",
              "      <td>496</td>\n",
              "      <td>1804</td>\n",
              "      <td>690</td>\n",
              "      <td>5</td>\n",
              "      <td>2</td>\n",
              "      <td>15</td>\n",
              "      <td>1</td>\n",
              "      <td>0</td>\n",
              "      <td>0</td>\n",
              "    </tr>\n",
              "  </tbody>\n",
              "</table>\n",
              "<p>400 rows × 20 columns</p>\n",
              "</div>"
            ],
            "text/plain": [
              "      battery_power  blue  clock_speed  ...  three_g  touch_screen  wifi\n",
              "674            1034     0          2.6  ...        1             0     0\n",
              "1699           1002     1          1.8  ...        1             1     0\n",
              "1282            609     1          0.5  ...        1             1     1\n",
              "1315           1510     0          0.6  ...        1             0     1\n",
              "1210            805     1          1.7  ...        1             0     0\n",
              "...             ...   ...          ...  ...      ...           ...   ...\n",
              "400            1266     0          1.9  ...        1             1     1\n",
              "763            1741     1          1.8  ...        1             0     0\n",
              "385            1880     1          1.8  ...        1             0     0\n",
              "1667           1967     0          0.5  ...        1             1     0\n",
              "1820            665     1          0.7  ...        1             0     0\n",
              "\n",
              "[400 rows x 20 columns]"
            ]
          },
          "metadata": {
            "tags": []
          },
          "execution_count": 12
        }
      ]
    },
    {
      "cell_type": "markdown",
      "metadata": {
        "id": "zPLDELrOn8Gy"
      },
      "source": [
        "400 rows"
      ]
    },
    {
      "cell_type": "code",
      "metadata": {
        "colab": {
          "base_uri": "https://localhost:8080/"
        },
        "id": "LAT6s3UFn2ES",
        "outputId": "67bc9aaa-48c5-45d5-e6ea-f3c159af0180"
      },
      "source": [
        "Y_train"
      ],
      "execution_count": null,
      "outputs": [
        {
          "output_type": "execute_result",
          "data": {
            "text/plain": [
              "0       1\n",
              "816     0\n",
              "790     0\n",
              "361     0\n",
              "592     1\n",
              "       ..\n",
              "1791    0\n",
              "1096    3\n",
              "1932    1\n",
              "235     0\n",
              "1061    1\n",
              "Name: price_range, Length: 1600, dtype: int64"
            ]
          },
          "metadata": {
            "tags": []
          },
          "execution_count": 13
        }
      ]
    },
    {
      "cell_type": "markdown",
      "metadata": {
        "id": "REbMiTyEoIbB"
      },
      "source": [
        "X_train and Y_train row numbes are same,  0,816, 790, etc...."
      ]
    },
    {
      "cell_type": "code",
      "metadata": {
        "colab": {
          "base_uri": "https://localhost:8080/"
        },
        "id": "kKu0ZvxCn_1y",
        "outputId": "a2fe2486-67e9-454c-8104-03f61f41de19"
      },
      "source": [
        "Y_test"
      ],
      "execution_count": null,
      "outputs": [
        {
          "output_type": "execute_result",
          "data": {
            "text/plain": [
              "674     0\n",
              "1699    0\n",
              "1282    1\n",
              "1315    1\n",
              "1210    2\n",
              "       ..\n",
              "400     2\n",
              "763     3\n",
              "385     3\n",
              "1667    1\n",
              "1820    0\n",
              "Name: price_range, Length: 400, dtype: int64"
            ]
          },
          "metadata": {
            "tags": []
          },
          "execution_count": 14
        }
      ]
    },
    {
      "cell_type": "markdown",
      "metadata": {
        "id": "YcrqL3tJoRI-"
      },
      "source": [
        "X_test and Y_test row numbes are same,  674,1699,1282, etc...."
      ]
    },
    {
      "cell_type": "markdown",
      "metadata": {
        "id": "a8FWLfAfolpW"
      },
      "source": [
        "+ **Now, we will train the model by using X_train and Y_train, and we are going to predict on X_test.** \n",
        "+ **whatever results will come from X_test, we will compare with original Y_test. Then, only we'll get Accuracy Score** "
      ]
    },
    {
      "cell_type": "markdown",
      "metadata": {
        "id": "P386ApRWp8OM"
      },
      "source": [
        "# 1. Decision Tree"
      ]
    },
    {
      "cell_type": "code",
      "metadata": {
        "id": "RxVU8Li1oGMI"
      },
      "source": [
        "from sklearn.tree import DecisionTreeClassifier \n",
        "dt = DecisionTreeClassifier()"
      ],
      "execution_count": null,
      "outputs": []
    },
    {
      "cell_type": "code",
      "metadata": {
        "colab": {
          "base_uri": "https://localhost:8080/"
        },
        "id": "7PmpT1rsqH8k",
        "outputId": "117bb31d-2c93-401c-fe61-b56311173550"
      },
      "source": [
        "dt.fit(X_train, Y_train) #training"
      ],
      "execution_count": null,
      "outputs": [
        {
          "output_type": "execute_result",
          "data": {
            "text/plain": [
              "DecisionTreeClassifier(ccp_alpha=0.0, class_weight=None, criterion='gini',\n",
              "                       max_depth=None, max_features=None, max_leaf_nodes=None,\n",
              "                       min_impurity_decrease=0.0, min_impurity_split=None,\n",
              "                       min_samples_leaf=1, min_samples_split=2,\n",
              "                       min_weight_fraction_leaf=0.0, presort='deprecated',\n",
              "                       random_state=None, splitter='best')"
            ]
          },
          "metadata": {
            "tags": []
          },
          "execution_count": 16
        }
      ]
    },
    {
      "cell_type": "code",
      "metadata": {
        "colab": {
          "base_uri": "https://localhost:8080/",
          "height": 422
        },
        "id": "zxMc8fOzqPaV",
        "outputId": "ca38cdeb-abcd-4487-b341-6bfc7a695f69"
      },
      "source": [
        "X_test"
      ],
      "execution_count": null,
      "outputs": [
        {
          "output_type": "execute_result",
          "data": {
            "text/html": [
              "<div>\n",
              "<style scoped>\n",
              "    .dataframe tbody tr th:only-of-type {\n",
              "        vertical-align: middle;\n",
              "    }\n",
              "\n",
              "    .dataframe tbody tr th {\n",
              "        vertical-align: top;\n",
              "    }\n",
              "\n",
              "    .dataframe thead th {\n",
              "        text-align: right;\n",
              "    }\n",
              "</style>\n",
              "<table border=\"1\" class=\"dataframe\">\n",
              "  <thead>\n",
              "    <tr style=\"text-align: right;\">\n",
              "      <th></th>\n",
              "      <th>battery_power</th>\n",
              "      <th>blue</th>\n",
              "      <th>clock_speed</th>\n",
              "      <th>dual_sim</th>\n",
              "      <th>fc</th>\n",
              "      <th>four_g</th>\n",
              "      <th>int_memory</th>\n",
              "      <th>m_dep</th>\n",
              "      <th>mobile_wt</th>\n",
              "      <th>n_cores</th>\n",
              "      <th>pc</th>\n",
              "      <th>px_height</th>\n",
              "      <th>px_width</th>\n",
              "      <th>ram</th>\n",
              "      <th>sc_h</th>\n",
              "      <th>sc_w</th>\n",
              "      <th>talk_time</th>\n",
              "      <th>three_g</th>\n",
              "      <th>touch_screen</th>\n",
              "      <th>wifi</th>\n",
              "    </tr>\n",
              "  </thead>\n",
              "  <tbody>\n",
              "    <tr>\n",
              "      <th>674</th>\n",
              "      <td>1034</td>\n",
              "      <td>0</td>\n",
              "      <td>2.6</td>\n",
              "      <td>1</td>\n",
              "      <td>2</td>\n",
              "      <td>1</td>\n",
              "      <td>45</td>\n",
              "      <td>0.3</td>\n",
              "      <td>190</td>\n",
              "      <td>3</td>\n",
              "      <td>4</td>\n",
              "      <td>182</td>\n",
              "      <td>1293</td>\n",
              "      <td>969</td>\n",
              "      <td>15</td>\n",
              "      <td>1</td>\n",
              "      <td>7</td>\n",
              "      <td>1</td>\n",
              "      <td>0</td>\n",
              "      <td>0</td>\n",
              "    </tr>\n",
              "    <tr>\n",
              "      <th>1699</th>\n",
              "      <td>1002</td>\n",
              "      <td>1</td>\n",
              "      <td>1.8</td>\n",
              "      <td>0</td>\n",
              "      <td>1</td>\n",
              "      <td>0</td>\n",
              "      <td>45</td>\n",
              "      <td>0.7</td>\n",
              "      <td>180</td>\n",
              "      <td>7</td>\n",
              "      <td>7</td>\n",
              "      <td>948</td>\n",
              "      <td>1007</td>\n",
              "      <td>1234</td>\n",
              "      <td>19</td>\n",
              "      <td>13</td>\n",
              "      <td>18</td>\n",
              "      <td>1</td>\n",
              "      <td>1</td>\n",
              "      <td>0</td>\n",
              "    </tr>\n",
              "    <tr>\n",
              "      <th>1282</th>\n",
              "      <td>609</td>\n",
              "      <td>1</td>\n",
              "      <td>0.5</td>\n",
              "      <td>0</td>\n",
              "      <td>4</td>\n",
              "      <td>1</td>\n",
              "      <td>10</td>\n",
              "      <td>0.1</td>\n",
              "      <td>81</td>\n",
              "      <td>6</td>\n",
              "      <td>6</td>\n",
              "      <td>113</td>\n",
              "      <td>1524</td>\n",
              "      <td>1905</td>\n",
              "      <td>16</td>\n",
              "      <td>3</td>\n",
              "      <td>18</td>\n",
              "      <td>1</td>\n",
              "      <td>1</td>\n",
              "      <td>1</td>\n",
              "    </tr>\n",
              "    <tr>\n",
              "      <th>1315</th>\n",
              "      <td>1510</td>\n",
              "      <td>0</td>\n",
              "      <td>0.6</td>\n",
              "      <td>1</td>\n",
              "      <td>1</td>\n",
              "      <td>0</td>\n",
              "      <td>32</td>\n",
              "      <td>0.7</td>\n",
              "      <td>135</td>\n",
              "      <td>3</td>\n",
              "      <td>8</td>\n",
              "      <td>963</td>\n",
              "      <td>1520</td>\n",
              "      <td>854</td>\n",
              "      <td>8</td>\n",
              "      <td>2</td>\n",
              "      <td>10</td>\n",
              "      <td>1</td>\n",
              "      <td>0</td>\n",
              "      <td>1</td>\n",
              "    </tr>\n",
              "    <tr>\n",
              "      <th>1210</th>\n",
              "      <td>805</td>\n",
              "      <td>1</td>\n",
              "      <td>1.7</td>\n",
              "      <td>1</td>\n",
              "      <td>0</td>\n",
              "      <td>1</td>\n",
              "      <td>58</td>\n",
              "      <td>0.9</td>\n",
              "      <td>168</td>\n",
              "      <td>3</td>\n",
              "      <td>10</td>\n",
              "      <td>81</td>\n",
              "      <td>1544</td>\n",
              "      <td>3397</td>\n",
              "      <td>7</td>\n",
              "      <td>6</td>\n",
              "      <td>2</td>\n",
              "      <td>1</td>\n",
              "      <td>0</td>\n",
              "      <td>0</td>\n",
              "    </tr>\n",
              "    <tr>\n",
              "      <th>...</th>\n",
              "      <td>...</td>\n",
              "      <td>...</td>\n",
              "      <td>...</td>\n",
              "      <td>...</td>\n",
              "      <td>...</td>\n",
              "      <td>...</td>\n",
              "      <td>...</td>\n",
              "      <td>...</td>\n",
              "      <td>...</td>\n",
              "      <td>...</td>\n",
              "      <td>...</td>\n",
              "      <td>...</td>\n",
              "      <td>...</td>\n",
              "      <td>...</td>\n",
              "      <td>...</td>\n",
              "      <td>...</td>\n",
              "      <td>...</td>\n",
              "      <td>...</td>\n",
              "      <td>...</td>\n",
              "      <td>...</td>\n",
              "    </tr>\n",
              "    <tr>\n",
              "      <th>400</th>\n",
              "      <td>1266</td>\n",
              "      <td>0</td>\n",
              "      <td>1.9</td>\n",
              "      <td>1</td>\n",
              "      <td>0</td>\n",
              "      <td>1</td>\n",
              "      <td>7</td>\n",
              "      <td>0.2</td>\n",
              "      <td>184</td>\n",
              "      <td>3</td>\n",
              "      <td>12</td>\n",
              "      <td>346</td>\n",
              "      <td>1468</td>\n",
              "      <td>2532</td>\n",
              "      <td>10</td>\n",
              "      <td>5</td>\n",
              "      <td>4</td>\n",
              "      <td>1</td>\n",
              "      <td>1</td>\n",
              "      <td>1</td>\n",
              "    </tr>\n",
              "    <tr>\n",
              "      <th>763</th>\n",
              "      <td>1741</td>\n",
              "      <td>1</td>\n",
              "      <td>1.8</td>\n",
              "      <td>0</td>\n",
              "      <td>0</td>\n",
              "      <td>0</td>\n",
              "      <td>14</td>\n",
              "      <td>0.7</td>\n",
              "      <td>143</td>\n",
              "      <td>8</td>\n",
              "      <td>0</td>\n",
              "      <td>730</td>\n",
              "      <td>1895</td>\n",
              "      <td>3387</td>\n",
              "      <td>11</td>\n",
              "      <td>3</td>\n",
              "      <td>3</td>\n",
              "      <td>1</td>\n",
              "      <td>0</td>\n",
              "      <td>0</td>\n",
              "    </tr>\n",
              "    <tr>\n",
              "      <th>385</th>\n",
              "      <td>1880</td>\n",
              "      <td>1</td>\n",
              "      <td>1.8</td>\n",
              "      <td>0</td>\n",
              "      <td>4</td>\n",
              "      <td>1</td>\n",
              "      <td>18</td>\n",
              "      <td>0.7</td>\n",
              "      <td>138</td>\n",
              "      <td>3</td>\n",
              "      <td>5</td>\n",
              "      <td>71</td>\n",
              "      <td>699</td>\n",
              "      <td>3333</td>\n",
              "      <td>17</td>\n",
              "      <td>15</td>\n",
              "      <td>7</td>\n",
              "      <td>1</td>\n",
              "      <td>0</td>\n",
              "      <td>0</td>\n",
              "    </tr>\n",
              "    <tr>\n",
              "      <th>1667</th>\n",
              "      <td>1967</td>\n",
              "      <td>0</td>\n",
              "      <td>0.5</td>\n",
              "      <td>0</td>\n",
              "      <td>0</td>\n",
              "      <td>1</td>\n",
              "      <td>46</td>\n",
              "      <td>0.6</td>\n",
              "      <td>199</td>\n",
              "      <td>1</td>\n",
              "      <td>7</td>\n",
              "      <td>518</td>\n",
              "      <td>1374</td>\n",
              "      <td>1567</td>\n",
              "      <td>15</td>\n",
              "      <td>2</td>\n",
              "      <td>7</td>\n",
              "      <td>1</td>\n",
              "      <td>1</td>\n",
              "      <td>0</td>\n",
              "    </tr>\n",
              "    <tr>\n",
              "      <th>1820</th>\n",
              "      <td>665</td>\n",
              "      <td>1</td>\n",
              "      <td>0.7</td>\n",
              "      <td>0</td>\n",
              "      <td>0</td>\n",
              "      <td>1</td>\n",
              "      <td>31</td>\n",
              "      <td>0.1</td>\n",
              "      <td>185</td>\n",
              "      <td>5</td>\n",
              "      <td>2</td>\n",
              "      <td>496</td>\n",
              "      <td>1804</td>\n",
              "      <td>690</td>\n",
              "      <td>5</td>\n",
              "      <td>2</td>\n",
              "      <td>15</td>\n",
              "      <td>1</td>\n",
              "      <td>0</td>\n",
              "      <td>0</td>\n",
              "    </tr>\n",
              "  </tbody>\n",
              "</table>\n",
              "<p>400 rows × 20 columns</p>\n",
              "</div>"
            ],
            "text/plain": [
              "      battery_power  blue  clock_speed  ...  three_g  touch_screen  wifi\n",
              "674            1034     0          2.6  ...        1             0     0\n",
              "1699           1002     1          1.8  ...        1             1     0\n",
              "1282            609     1          0.5  ...        1             1     1\n",
              "1315           1510     0          0.6  ...        1             0     1\n",
              "1210            805     1          1.7  ...        1             0     0\n",
              "...             ...   ...          ...  ...      ...           ...   ...\n",
              "400            1266     0          1.9  ...        1             1     1\n",
              "763            1741     1          1.8  ...        1             0     0\n",
              "385            1880     1          1.8  ...        1             0     0\n",
              "1667           1967     0          0.5  ...        1             1     0\n",
              "1820            665     1          0.7  ...        1             0     0\n",
              "\n",
              "[400 rows x 20 columns]"
            ]
          },
          "metadata": {
            "tags": []
          },
          "execution_count": 17
        }
      ]
    },
    {
      "cell_type": "markdown",
      "metadata": {
        "id": "x-x6BoySsCp5"
      },
      "source": [
        "see 1315 row no"
      ]
    },
    {
      "cell_type": "code",
      "metadata": {
        "colab": {
          "base_uri": "https://localhost:8080/"
        },
        "id": "PG_TVusKqU-N",
        "outputId": "43aabdc3-ded3-42aa-a205-494a72b2ab6d"
      },
      "source": [
        "#testing  \n",
        "\n",
        "Y_pred = dt.predict(X_test) \n",
        "Y_pred"
      ],
      "execution_count": null,
      "outputs": [
        {
          "output_type": "execute_result",
          "data": {
            "text/plain": [
              "array([0, 0, 1, 0, 3, 2, 1, 1, 1, 3, 0, 3, 1, 1, 3, 0, 0, 1, 1, 1, 3, 3,\n",
              "       1, 2, 3, 2, 1, 3, 2, 2, 2, 1, 3, 0, 3, 3, 0, 0, 0, 0, 2, 0, 2, 2,\n",
              "       0, 1, 2, 2, 1, 2, 1, 2, 1, 3, 1, 3, 1, 3, 3, 1, 0, 2, 1, 3, 2, 1,\n",
              "       0, 1, 3, 2, 1, 3, 0, 3, 3, 1, 2, 1, 1, 0, 0, 3, 1, 2, 3, 2, 2, 1,\n",
              "       1, 1, 2, 0, 1, 1, 2, 2, 3, 0, 3, 3, 3, 3, 0, 1, 2, 0, 0, 1, 0, 2,\n",
              "       0, 3, 0, 1, 2, 2, 3, 1, 2, 2, 2, 0, 0, 0, 3, 0, 1, 1, 0, 1, 0, 2,\n",
              "       0, 3, 3, 0, 3, 2, 1, 1, 0, 0, 3, 1, 0, 2, 0, 0, 0, 1, 3, 3, 1, 1,\n",
              "       0, 1, 1, 1, 3, 1, 3, 1, 3, 1, 3, 1, 2, 1, 3, 2, 2, 0, 2, 2, 0, 3,\n",
              "       3, 0, 1, 3, 0, 3, 1, 0, 2, 3, 3, 1, 2, 1, 2, 2, 1, 3, 0, 1, 2, 3,\n",
              "       3, 1, 3, 2, 0, 1, 2, 2, 2, 1, 0, 2, 0, 2, 1, 0, 2, 0, 1, 0, 3, 1,\n",
              "       0, 1, 2, 2, 3, 3, 1, 3, 2, 1, 1, 2, 3, 3, 2, 1, 0, 1, 2, 2, 3, 2,\n",
              "       3, 2, 1, 1, 2, 0, 3, 3, 3, 1, 2, 1, 0, 2, 1, 3, 2, 0, 3, 1, 1, 1,\n",
              "       2, 1, 2, 0, 3, 1, 2, 0, 0, 1, 2, 3, 0, 1, 1, 3, 3, 2, 1, 2, 2, 0,\n",
              "       0, 3, 0, 0, 1, 3, 2, 3, 0, 0, 1, 2, 3, 3, 2, 2, 0, 0, 3, 1, 1, 0,\n",
              "       0, 0, 2, 1, 1, 1, 0, 2, 3, 1, 3, 3, 3, 1, 1, 1, 2, 1, 1, 0, 2, 3,\n",
              "       3, 1, 1, 0, 1, 2, 3, 2, 0, 3, 2, 2, 2, 2, 2, 1, 3, 2, 3, 2, 0, 3,\n",
              "       1, 0, 3, 1, 3, 2, 3, 2, 3, 0, 3, 0, 1, 1, 2, 2, 0, 0, 2, 2, 1, 0,\n",
              "       3, 3, 3, 0, 2, 2, 1, 3, 3, 3, 3, 0, 3, 2, 0, 1, 3, 2, 2, 0, 2, 2,\n",
              "       3, 2, 1, 0])"
            ]
          },
          "metadata": {
            "tags": []
          },
          "execution_count": 18
        }
      ]
    },
    {
      "cell_type": "markdown",
      "metadata": {
        "id": "SyFc4W1Krvj5"
      },
      "source": [
        "comparing these values with actual Y_test values."
      ]
    },
    {
      "cell_type": "code",
      "metadata": {
        "colab": {
          "base_uri": "https://localhost:8080/"
        },
        "id": "U869_dVvqYM3",
        "outputId": "1e98ec1f-de5e-49c7-9f52-6a9614ed8d12"
      },
      "source": [
        "Y_test"
      ],
      "execution_count": null,
      "outputs": [
        {
          "output_type": "execute_result",
          "data": {
            "text/plain": [
              "674     0\n",
              "1699    0\n",
              "1282    1\n",
              "1315    1\n",
              "1210    2\n",
              "       ..\n",
              "400     2\n",
              "763     3\n",
              "385     3\n",
              "1667    1\n",
              "1820    0\n",
              "Name: price_range, Length: 400, dtype: int64"
            ]
          },
          "metadata": {
            "tags": []
          },
          "execution_count": 19
        }
      ]
    },
    {
      "cell_type": "markdown",
      "metadata": {
        "id": "fvbiDiL9rukg"
      },
      "source": [
        "1315 row no. actual price is 1 but model predicted as 0.  \n",
        "\n",
        "1315 row no from X_test features ---->>>>\t1510\t0\t0.6\t1\t1\t0\t32\t0.7\t135\t3\t8\t963\t1520\t854\t8\t2\t10\t1\t0\t1   \n",
        "\n",
        "for these X_tesrt feaures in 1315 row no, The price in Y_test is 1, but model predicted as 0."
      ]
    },
    {
      "cell_type": "markdown",
      "metadata": {
        "id": "ZBdYJ6AItOdq"
      },
      "source": [
        "## Checking Accuracy Score"
      ]
    },
    {
      "cell_type": "code",
      "metadata": {
        "id": "S41rUtn3rCy-"
      },
      "source": [
        "from sklearn.metrics import accuracy_score"
      ],
      "execution_count": null,
      "outputs": []
    },
    {
      "cell_type": "code",
      "metadata": {
        "colab": {
          "base_uri": "https://localhost:8080/"
        },
        "id": "TGotSCOVtYdS",
        "outputId": "4f10f911-d90f-45e2-a045-a713c5e7ee77"
      },
      "source": [
        "dt_ac = accuracy_score(Y_test, Y_pred) # (acutual y_test, precicted test value(X_test) ) \n",
        "dt_ac"
      ],
      "execution_count": null,
      "outputs": [
        {
          "output_type": "execute_result",
          "data": {
            "text/plain": [
              "0.84"
            ]
          },
          "metadata": {
            "tags": []
          },
          "execution_count": 21
        }
      ]
    },
    {
      "cell_type": "markdown",
      "metadata": {
        "id": "RCzWXsDmuB5m"
      },
      "source": [
        "### only 84.5% is correct from the model result, after comparing with Y_test.  (model compared both predicted test values and actual Y_test)"
      ]
    },
    {
      "cell_type": "markdown",
      "metadata": {
        "id": "LcP4E6xSzOB2"
      },
      "source": [
        "# 2. KNN (distance matters, so do the standrad scalin. For Decision trre Std Scaling is not required)"
      ]
    },
    {
      "cell_type": "code",
      "metadata": {
        "id": "q8nt7HxQ0J4N"
      },
      "source": [
        "from sklearn.preprocessing import StandardScaler \n",
        "std = StandardScaler() #stored in std  \n",
        "  \n",
        "  \n",
        "  \n",
        "## Scale the train & Test Data \n",
        " \n",
        "X_train_std = std.fit_transform(X_train)\n",
        "\n",
        "X_test_std = std.transform(X_test) "
      ],
      "execution_count": null,
      "outputs": []
    },
    {
      "cell_type": "code",
      "metadata": {
        "colab": {
          "base_uri": "https://localhost:8080/",
          "height": 422
        },
        "id": "R7XxeSey0k5a",
        "outputId": "1010404c-4307-409c-b8d3-b66870dc452a"
      },
      "source": [
        "X_train # before scaling"
      ],
      "execution_count": null,
      "outputs": [
        {
          "output_type": "execute_result",
          "data": {
            "text/html": [
              "<div>\n",
              "<style scoped>\n",
              "    .dataframe tbody tr th:only-of-type {\n",
              "        vertical-align: middle;\n",
              "    }\n",
              "\n",
              "    .dataframe tbody tr th {\n",
              "        vertical-align: top;\n",
              "    }\n",
              "\n",
              "    .dataframe thead th {\n",
              "        text-align: right;\n",
              "    }\n",
              "</style>\n",
              "<table border=\"1\" class=\"dataframe\">\n",
              "  <thead>\n",
              "    <tr style=\"text-align: right;\">\n",
              "      <th></th>\n",
              "      <th>battery_power</th>\n",
              "      <th>blue</th>\n",
              "      <th>clock_speed</th>\n",
              "      <th>dual_sim</th>\n",
              "      <th>fc</th>\n",
              "      <th>four_g</th>\n",
              "      <th>int_memory</th>\n",
              "      <th>m_dep</th>\n",
              "      <th>mobile_wt</th>\n",
              "      <th>n_cores</th>\n",
              "      <th>pc</th>\n",
              "      <th>px_height</th>\n",
              "      <th>px_width</th>\n",
              "      <th>ram</th>\n",
              "      <th>sc_h</th>\n",
              "      <th>sc_w</th>\n",
              "      <th>talk_time</th>\n",
              "      <th>three_g</th>\n",
              "      <th>touch_screen</th>\n",
              "      <th>wifi</th>\n",
              "    </tr>\n",
              "  </thead>\n",
              "  <tbody>\n",
              "    <tr>\n",
              "      <th>0</th>\n",
              "      <td>842</td>\n",
              "      <td>0</td>\n",
              "      <td>2.2</td>\n",
              "      <td>0</td>\n",
              "      <td>1</td>\n",
              "      <td>0</td>\n",
              "      <td>7</td>\n",
              "      <td>0.6</td>\n",
              "      <td>188</td>\n",
              "      <td>2</td>\n",
              "      <td>2</td>\n",
              "      <td>20</td>\n",
              "      <td>756</td>\n",
              "      <td>2549</td>\n",
              "      <td>9</td>\n",
              "      <td>7</td>\n",
              "      <td>19</td>\n",
              "      <td>0</td>\n",
              "      <td>0</td>\n",
              "      <td>1</td>\n",
              "    </tr>\n",
              "    <tr>\n",
              "      <th>816</th>\n",
              "      <td>805</td>\n",
              "      <td>1</td>\n",
              "      <td>0.7</td>\n",
              "      <td>0</td>\n",
              "      <td>0</td>\n",
              "      <td>0</td>\n",
              "      <td>64</td>\n",
              "      <td>0.1</td>\n",
              "      <td>97</td>\n",
              "      <td>4</td>\n",
              "      <td>14</td>\n",
              "      <td>641</td>\n",
              "      <td>704</td>\n",
              "      <td>418</td>\n",
              "      <td>11</td>\n",
              "      <td>6</td>\n",
              "      <td>17</td>\n",
              "      <td>0</td>\n",
              "      <td>1</td>\n",
              "      <td>1</td>\n",
              "    </tr>\n",
              "    <tr>\n",
              "      <th>790</th>\n",
              "      <td>911</td>\n",
              "      <td>1</td>\n",
              "      <td>2.9</td>\n",
              "      <td>0</td>\n",
              "      <td>0</td>\n",
              "      <td>0</td>\n",
              "      <td>46</td>\n",
              "      <td>0.1</td>\n",
              "      <td>181</td>\n",
              "      <td>5</td>\n",
              "      <td>1</td>\n",
              "      <td>461</td>\n",
              "      <td>670</td>\n",
              "      <td>363</td>\n",
              "      <td>9</td>\n",
              "      <td>5</td>\n",
              "      <td>17</td>\n",
              "      <td>0</td>\n",
              "      <td>1</td>\n",
              "      <td>0</td>\n",
              "    </tr>\n",
              "    <tr>\n",
              "      <th>361</th>\n",
              "      <td>899</td>\n",
              "      <td>0</td>\n",
              "      <td>0.5</td>\n",
              "      <td>1</td>\n",
              "      <td>13</td>\n",
              "      <td>1</td>\n",
              "      <td>57</td>\n",
              "      <td>0.9</td>\n",
              "      <td>172</td>\n",
              "      <td>2</td>\n",
              "      <td>18</td>\n",
              "      <td>788</td>\n",
              "      <td>1331</td>\n",
              "      <td>364</td>\n",
              "      <td>11</td>\n",
              "      <td>1</td>\n",
              "      <td>7</td>\n",
              "      <td>1</td>\n",
              "      <td>1</td>\n",
              "      <td>0</td>\n",
              "    </tr>\n",
              "    <tr>\n",
              "      <th>592</th>\n",
              "      <td>1263</td>\n",
              "      <td>0</td>\n",
              "      <td>0.5</td>\n",
              "      <td>0</td>\n",
              "      <td>12</td>\n",
              "      <td>0</td>\n",
              "      <td>64</td>\n",
              "      <td>0.3</td>\n",
              "      <td>175</td>\n",
              "      <td>5</td>\n",
              "      <td>18</td>\n",
              "      <td>178</td>\n",
              "      <td>1883</td>\n",
              "      <td>1183</td>\n",
              "      <td>14</td>\n",
              "      <td>3</td>\n",
              "      <td>17</td>\n",
              "      <td>0</td>\n",
              "      <td>0</td>\n",
              "      <td>1</td>\n",
              "    </tr>\n",
              "    <tr>\n",
              "      <th>...</th>\n",
              "      <td>...</td>\n",
              "      <td>...</td>\n",
              "      <td>...</td>\n",
              "      <td>...</td>\n",
              "      <td>...</td>\n",
              "      <td>...</td>\n",
              "      <td>...</td>\n",
              "      <td>...</td>\n",
              "      <td>...</td>\n",
              "      <td>...</td>\n",
              "      <td>...</td>\n",
              "      <td>...</td>\n",
              "      <td>...</td>\n",
              "      <td>...</td>\n",
              "      <td>...</td>\n",
              "      <td>...</td>\n",
              "      <td>...</td>\n",
              "      <td>...</td>\n",
              "      <td>...</td>\n",
              "      <td>...</td>\n",
              "    </tr>\n",
              "    <tr>\n",
              "      <th>1791</th>\n",
              "      <td>1203</td>\n",
              "      <td>1</td>\n",
              "      <td>0.5</td>\n",
              "      <td>1</td>\n",
              "      <td>0</td>\n",
              "      <td>1</td>\n",
              "      <td>11</td>\n",
              "      <td>0.9</td>\n",
              "      <td>109</td>\n",
              "      <td>2</td>\n",
              "      <td>12</td>\n",
              "      <td>35</td>\n",
              "      <td>510</td>\n",
              "      <td>1672</td>\n",
              "      <td>17</td>\n",
              "      <td>13</td>\n",
              "      <td>19</td>\n",
              "      <td>1</td>\n",
              "      <td>1</td>\n",
              "      <td>0</td>\n",
              "    </tr>\n",
              "    <tr>\n",
              "      <th>1096</th>\n",
              "      <td>1154</td>\n",
              "      <td>0</td>\n",
              "      <td>2.0</td>\n",
              "      <td>0</td>\n",
              "      <td>6</td>\n",
              "      <td>1</td>\n",
              "      <td>35</td>\n",
              "      <td>0.8</td>\n",
              "      <td>159</td>\n",
              "      <td>5</td>\n",
              "      <td>16</td>\n",
              "      <td>1003</td>\n",
              "      <td>1827</td>\n",
              "      <td>3262</td>\n",
              "      <td>16</td>\n",
              "      <td>15</td>\n",
              "      <td>16</td>\n",
              "      <td>1</td>\n",
              "      <td>0</td>\n",
              "      <td>0</td>\n",
              "    </tr>\n",
              "    <tr>\n",
              "      <th>1932</th>\n",
              "      <td>718</td>\n",
              "      <td>1</td>\n",
              "      <td>1.6</td>\n",
              "      <td>1</td>\n",
              "      <td>1</td>\n",
              "      <td>1</td>\n",
              "      <td>30</td>\n",
              "      <td>0.4</td>\n",
              "      <td>93</td>\n",
              "      <td>3</td>\n",
              "      <td>12</td>\n",
              "      <td>662</td>\n",
              "      <td>997</td>\n",
              "      <td>1601</td>\n",
              "      <td>10</td>\n",
              "      <td>9</td>\n",
              "      <td>12</td>\n",
              "      <td>1</td>\n",
              "      <td>1</td>\n",
              "      <td>1</td>\n",
              "    </tr>\n",
              "    <tr>\n",
              "      <th>235</th>\n",
              "      <td>1523</td>\n",
              "      <td>1</td>\n",
              "      <td>1.8</td>\n",
              "      <td>0</td>\n",
              "      <td>6</td>\n",
              "      <td>1</td>\n",
              "      <td>11</td>\n",
              "      <td>0.1</td>\n",
              "      <td>129</td>\n",
              "      <td>1</td>\n",
              "      <td>8</td>\n",
              "      <td>148</td>\n",
              "      <td>1606</td>\n",
              "      <td>707</td>\n",
              "      <td>19</td>\n",
              "      <td>8</td>\n",
              "      <td>19</td>\n",
              "      <td>1</td>\n",
              "      <td>1</td>\n",
              "      <td>0</td>\n",
              "    </tr>\n",
              "    <tr>\n",
              "      <th>1061</th>\n",
              "      <td>1522</td>\n",
              "      <td>1</td>\n",
              "      <td>0.7</td>\n",
              "      <td>1</td>\n",
              "      <td>4</td>\n",
              "      <td>0</td>\n",
              "      <td>28</td>\n",
              "      <td>0.2</td>\n",
              "      <td>124</td>\n",
              "      <td>1</td>\n",
              "      <td>5</td>\n",
              "      <td>952</td>\n",
              "      <td>1191</td>\n",
              "      <td>1368</td>\n",
              "      <td>14</td>\n",
              "      <td>5</td>\n",
              "      <td>17</td>\n",
              "      <td>1</td>\n",
              "      <td>0</td>\n",
              "      <td>1</td>\n",
              "    </tr>\n",
              "  </tbody>\n",
              "</table>\n",
              "<p>1600 rows × 20 columns</p>\n",
              "</div>"
            ],
            "text/plain": [
              "      battery_power  blue  clock_speed  ...  three_g  touch_screen  wifi\n",
              "0               842     0          2.2  ...        0             0     1\n",
              "816             805     1          0.7  ...        0             1     1\n",
              "790             911     1          2.9  ...        0             1     0\n",
              "361             899     0          0.5  ...        1             1     0\n",
              "592            1263     0          0.5  ...        0             0     1\n",
              "...             ...   ...          ...  ...      ...           ...   ...\n",
              "1791           1203     1          0.5  ...        1             1     0\n",
              "1096           1154     0          2.0  ...        1             0     0\n",
              "1932            718     1          1.6  ...        1             1     1\n",
              "235            1523     1          1.8  ...        1             1     0\n",
              "1061           1522     1          0.7  ...        1             0     1\n",
              "\n",
              "[1600 rows x 20 columns]"
            ]
          },
          "metadata": {
            "tags": []
          },
          "execution_count": 25
        }
      ]
    },
    {
      "cell_type": "code",
      "metadata": {
        "colab": {
          "base_uri": "https://localhost:8080/"
        },
        "id": "FqIHcDme0qcm",
        "outputId": "37c84ed7-33c0-46d6-db03-72929f7b7836"
      },
      "source": [
        "X_train_std #after scaling"
      ],
      "execution_count": null,
      "outputs": [
        {
          "output_type": "execute_result",
          "data": {
            "text/plain": [
              "array([[-0.93181622, -0.99128795,  0.84170801, ..., -1.75545796,\n",
              "        -1.02020406,  0.98634324],\n",
              "       [-1.01674706,  1.00878862, -0.99558096, ..., -1.75545796,\n",
              "         0.98019606,  0.98634324],\n",
              "       [-0.77343166,  1.00878862,  1.69910954, ..., -1.75545796,\n",
              "         0.98019606, -1.01384584],\n",
              "       ...,\n",
              "       [-1.21644933,  1.00878862,  0.10679242, ...,  0.56965192,\n",
              "         0.98019606,  0.98634324],\n",
              "       [ 0.63137047,  1.00878862,  0.35176429, ...,  0.56965192,\n",
              "         0.98019606, -1.01384584],\n",
              "       [ 0.62907504,  1.00878862, -0.99558096, ...,  0.56965192,\n",
              "        -1.02020406,  0.98634324]])"
            ]
          },
          "metadata": {
            "tags": []
          },
          "execution_count": 26
        }
      ]
    },
    {
      "cell_type": "code",
      "metadata": {
        "colab": {
          "base_uri": "https://localhost:8080/",
          "height": 422
        },
        "id": "LRj0i32P0xHy",
        "outputId": "b8a9596e-3f69-45f2-e754-6632e0f79d78"
      },
      "source": [
        "X_test #before scaling"
      ],
      "execution_count": null,
      "outputs": [
        {
          "output_type": "execute_result",
          "data": {
            "text/html": [
              "<div>\n",
              "<style scoped>\n",
              "    .dataframe tbody tr th:only-of-type {\n",
              "        vertical-align: middle;\n",
              "    }\n",
              "\n",
              "    .dataframe tbody tr th {\n",
              "        vertical-align: top;\n",
              "    }\n",
              "\n",
              "    .dataframe thead th {\n",
              "        text-align: right;\n",
              "    }\n",
              "</style>\n",
              "<table border=\"1\" class=\"dataframe\">\n",
              "  <thead>\n",
              "    <tr style=\"text-align: right;\">\n",
              "      <th></th>\n",
              "      <th>battery_power</th>\n",
              "      <th>blue</th>\n",
              "      <th>clock_speed</th>\n",
              "      <th>dual_sim</th>\n",
              "      <th>fc</th>\n",
              "      <th>four_g</th>\n",
              "      <th>int_memory</th>\n",
              "      <th>m_dep</th>\n",
              "      <th>mobile_wt</th>\n",
              "      <th>n_cores</th>\n",
              "      <th>pc</th>\n",
              "      <th>px_height</th>\n",
              "      <th>px_width</th>\n",
              "      <th>ram</th>\n",
              "      <th>sc_h</th>\n",
              "      <th>sc_w</th>\n",
              "      <th>talk_time</th>\n",
              "      <th>three_g</th>\n",
              "      <th>touch_screen</th>\n",
              "      <th>wifi</th>\n",
              "    </tr>\n",
              "  </thead>\n",
              "  <tbody>\n",
              "    <tr>\n",
              "      <th>674</th>\n",
              "      <td>1034</td>\n",
              "      <td>0</td>\n",
              "      <td>2.6</td>\n",
              "      <td>1</td>\n",
              "      <td>2</td>\n",
              "      <td>1</td>\n",
              "      <td>45</td>\n",
              "      <td>0.3</td>\n",
              "      <td>190</td>\n",
              "      <td>3</td>\n",
              "      <td>4</td>\n",
              "      <td>182</td>\n",
              "      <td>1293</td>\n",
              "      <td>969</td>\n",
              "      <td>15</td>\n",
              "      <td>1</td>\n",
              "      <td>7</td>\n",
              "      <td>1</td>\n",
              "      <td>0</td>\n",
              "      <td>0</td>\n",
              "    </tr>\n",
              "    <tr>\n",
              "      <th>1699</th>\n",
              "      <td>1002</td>\n",
              "      <td>1</td>\n",
              "      <td>1.8</td>\n",
              "      <td>0</td>\n",
              "      <td>1</td>\n",
              "      <td>0</td>\n",
              "      <td>45</td>\n",
              "      <td>0.7</td>\n",
              "      <td>180</td>\n",
              "      <td>7</td>\n",
              "      <td>7</td>\n",
              "      <td>948</td>\n",
              "      <td>1007</td>\n",
              "      <td>1234</td>\n",
              "      <td>19</td>\n",
              "      <td>13</td>\n",
              "      <td>18</td>\n",
              "      <td>1</td>\n",
              "      <td>1</td>\n",
              "      <td>0</td>\n",
              "    </tr>\n",
              "    <tr>\n",
              "      <th>1282</th>\n",
              "      <td>609</td>\n",
              "      <td>1</td>\n",
              "      <td>0.5</td>\n",
              "      <td>0</td>\n",
              "      <td>4</td>\n",
              "      <td>1</td>\n",
              "      <td>10</td>\n",
              "      <td>0.1</td>\n",
              "      <td>81</td>\n",
              "      <td>6</td>\n",
              "      <td>6</td>\n",
              "      <td>113</td>\n",
              "      <td>1524</td>\n",
              "      <td>1905</td>\n",
              "      <td>16</td>\n",
              "      <td>3</td>\n",
              "      <td>18</td>\n",
              "      <td>1</td>\n",
              "      <td>1</td>\n",
              "      <td>1</td>\n",
              "    </tr>\n",
              "    <tr>\n",
              "      <th>1315</th>\n",
              "      <td>1510</td>\n",
              "      <td>0</td>\n",
              "      <td>0.6</td>\n",
              "      <td>1</td>\n",
              "      <td>1</td>\n",
              "      <td>0</td>\n",
              "      <td>32</td>\n",
              "      <td>0.7</td>\n",
              "      <td>135</td>\n",
              "      <td>3</td>\n",
              "      <td>8</td>\n",
              "      <td>963</td>\n",
              "      <td>1520</td>\n",
              "      <td>854</td>\n",
              "      <td>8</td>\n",
              "      <td>2</td>\n",
              "      <td>10</td>\n",
              "      <td>1</td>\n",
              "      <td>0</td>\n",
              "      <td>1</td>\n",
              "    </tr>\n",
              "    <tr>\n",
              "      <th>1210</th>\n",
              "      <td>805</td>\n",
              "      <td>1</td>\n",
              "      <td>1.7</td>\n",
              "      <td>1</td>\n",
              "      <td>0</td>\n",
              "      <td>1</td>\n",
              "      <td>58</td>\n",
              "      <td>0.9</td>\n",
              "      <td>168</td>\n",
              "      <td>3</td>\n",
              "      <td>10</td>\n",
              "      <td>81</td>\n",
              "      <td>1544</td>\n",
              "      <td>3397</td>\n",
              "      <td>7</td>\n",
              "      <td>6</td>\n",
              "      <td>2</td>\n",
              "      <td>1</td>\n",
              "      <td>0</td>\n",
              "      <td>0</td>\n",
              "    </tr>\n",
              "    <tr>\n",
              "      <th>...</th>\n",
              "      <td>...</td>\n",
              "      <td>...</td>\n",
              "      <td>...</td>\n",
              "      <td>...</td>\n",
              "      <td>...</td>\n",
              "      <td>...</td>\n",
              "      <td>...</td>\n",
              "      <td>...</td>\n",
              "      <td>...</td>\n",
              "      <td>...</td>\n",
              "      <td>...</td>\n",
              "      <td>...</td>\n",
              "      <td>...</td>\n",
              "      <td>...</td>\n",
              "      <td>...</td>\n",
              "      <td>...</td>\n",
              "      <td>...</td>\n",
              "      <td>...</td>\n",
              "      <td>...</td>\n",
              "      <td>...</td>\n",
              "    </tr>\n",
              "    <tr>\n",
              "      <th>400</th>\n",
              "      <td>1266</td>\n",
              "      <td>0</td>\n",
              "      <td>1.9</td>\n",
              "      <td>1</td>\n",
              "      <td>0</td>\n",
              "      <td>1</td>\n",
              "      <td>7</td>\n",
              "      <td>0.2</td>\n",
              "      <td>184</td>\n",
              "      <td>3</td>\n",
              "      <td>12</td>\n",
              "      <td>346</td>\n",
              "      <td>1468</td>\n",
              "      <td>2532</td>\n",
              "      <td>10</td>\n",
              "      <td>5</td>\n",
              "      <td>4</td>\n",
              "      <td>1</td>\n",
              "      <td>1</td>\n",
              "      <td>1</td>\n",
              "    </tr>\n",
              "    <tr>\n",
              "      <th>763</th>\n",
              "      <td>1741</td>\n",
              "      <td>1</td>\n",
              "      <td>1.8</td>\n",
              "      <td>0</td>\n",
              "      <td>0</td>\n",
              "      <td>0</td>\n",
              "      <td>14</td>\n",
              "      <td>0.7</td>\n",
              "      <td>143</td>\n",
              "      <td>8</td>\n",
              "      <td>0</td>\n",
              "      <td>730</td>\n",
              "      <td>1895</td>\n",
              "      <td>3387</td>\n",
              "      <td>11</td>\n",
              "      <td>3</td>\n",
              "      <td>3</td>\n",
              "      <td>1</td>\n",
              "      <td>0</td>\n",
              "      <td>0</td>\n",
              "    </tr>\n",
              "    <tr>\n",
              "      <th>385</th>\n",
              "      <td>1880</td>\n",
              "      <td>1</td>\n",
              "      <td>1.8</td>\n",
              "      <td>0</td>\n",
              "      <td>4</td>\n",
              "      <td>1</td>\n",
              "      <td>18</td>\n",
              "      <td>0.7</td>\n",
              "      <td>138</td>\n",
              "      <td>3</td>\n",
              "      <td>5</td>\n",
              "      <td>71</td>\n",
              "      <td>699</td>\n",
              "      <td>3333</td>\n",
              "      <td>17</td>\n",
              "      <td>15</td>\n",
              "      <td>7</td>\n",
              "      <td>1</td>\n",
              "      <td>0</td>\n",
              "      <td>0</td>\n",
              "    </tr>\n",
              "    <tr>\n",
              "      <th>1667</th>\n",
              "      <td>1967</td>\n",
              "      <td>0</td>\n",
              "      <td>0.5</td>\n",
              "      <td>0</td>\n",
              "      <td>0</td>\n",
              "      <td>1</td>\n",
              "      <td>46</td>\n",
              "      <td>0.6</td>\n",
              "      <td>199</td>\n",
              "      <td>1</td>\n",
              "      <td>7</td>\n",
              "      <td>518</td>\n",
              "      <td>1374</td>\n",
              "      <td>1567</td>\n",
              "      <td>15</td>\n",
              "      <td>2</td>\n",
              "      <td>7</td>\n",
              "      <td>1</td>\n",
              "      <td>1</td>\n",
              "      <td>0</td>\n",
              "    </tr>\n",
              "    <tr>\n",
              "      <th>1820</th>\n",
              "      <td>665</td>\n",
              "      <td>1</td>\n",
              "      <td>0.7</td>\n",
              "      <td>0</td>\n",
              "      <td>0</td>\n",
              "      <td>1</td>\n",
              "      <td>31</td>\n",
              "      <td>0.1</td>\n",
              "      <td>185</td>\n",
              "      <td>5</td>\n",
              "      <td>2</td>\n",
              "      <td>496</td>\n",
              "      <td>1804</td>\n",
              "      <td>690</td>\n",
              "      <td>5</td>\n",
              "      <td>2</td>\n",
              "      <td>15</td>\n",
              "      <td>1</td>\n",
              "      <td>0</td>\n",
              "      <td>0</td>\n",
              "    </tr>\n",
              "  </tbody>\n",
              "</table>\n",
              "<p>400 rows × 20 columns</p>\n",
              "</div>"
            ],
            "text/plain": [
              "      battery_power  blue  clock_speed  ...  three_g  touch_screen  wifi\n",
              "674            1034     0          2.6  ...        1             0     0\n",
              "1699           1002     1          1.8  ...        1             1     0\n",
              "1282            609     1          0.5  ...        1             1     1\n",
              "1315           1510     0          0.6  ...        1             0     1\n",
              "1210            805     1          1.7  ...        1             0     0\n",
              "...             ...   ...          ...  ...      ...           ...   ...\n",
              "400            1266     0          1.9  ...        1             1     1\n",
              "763            1741     1          1.8  ...        1             0     0\n",
              "385            1880     1          1.8  ...        1             0     0\n",
              "1667           1967     0          0.5  ...        1             1     0\n",
              "1820            665     1          0.7  ...        1             0     0\n",
              "\n",
              "[400 rows x 20 columns]"
            ]
          },
          "metadata": {
            "tags": []
          },
          "execution_count": 27
        }
      ]
    },
    {
      "cell_type": "code",
      "metadata": {
        "colab": {
          "base_uri": "https://localhost:8080/"
        },
        "id": "7vOC63VT0xzX",
        "outputId": "0087ca37-b4c1-46b8-ab76-1bd0e22b6e2c"
      },
      "source": [
        "X_test_std #after scaling"
      ],
      "execution_count": null,
      "outputs": [
        {
          "output_type": "execute_result",
          "data": {
            "text/plain": [
              "array([[-0.49109398, -0.99128795,  1.33165174, ...,  0.56965192,\n",
              "        -1.02020406, -1.01384584],\n",
              "       [-0.56454768,  1.00878862,  0.35176429, ...,  0.56965192,\n",
              "         0.98019606, -1.01384584],\n",
              "       [-1.46665102,  1.00878862, -1.24055283, ...,  0.56965192,\n",
              "         0.98019606,  0.98634324],\n",
              "       ...,\n",
              "       [ 1.45083838,  1.00878862,  0.35176429, ...,  0.56965192,\n",
              "        -1.02020406, -1.01384584],\n",
              "       [ 1.65054065, -0.99128795, -1.24055283, ...,  0.56965192,\n",
              "         0.98019606, -1.01384584],\n",
              "       [-1.33810703,  1.00878862, -0.99558096, ...,  0.56965192,\n",
              "        -1.02020406, -1.01384584]])"
            ]
          },
          "metadata": {
            "tags": []
          },
          "execution_count": 28
        }
      ]
    },
    {
      "cell_type": "markdown",
      "metadata": {
        "id": "eh9UNr-C1HDc"
      },
      "source": [
        "## We don't need to do scaling to Target variables(Y_train & Y_test)"
      ]
    },
    {
      "cell_type": "code",
      "metadata": {
        "id": "ZeOD8CsLuAwg"
      },
      "source": [
        "#importing KNN \n",
        "\n",
        "from sklearn.neighbors import KNeighborsClassifier\n",
        "knn = KNeighborsClassifier()"
      ],
      "execution_count": null,
      "outputs": []
    },
    {
      "cell_type": "code",
      "metadata": {
        "colab": {
          "base_uri": "https://localhost:8080/"
        },
        "id": "zUlTTVfjzVmZ",
        "outputId": "ddd3d631-68a9-41d7-e038-4dff25548a6f"
      },
      "source": [
        "knn.fit(X_train_std, Y_train) #X_train scaled values, actual Y_train"
      ],
      "execution_count": null,
      "outputs": [
        {
          "output_type": "execute_result",
          "data": {
            "text/plain": [
              "KNeighborsClassifier(algorithm='auto', leaf_size=30, metric='minkowski',\n",
              "                     metric_params=None, n_jobs=None, n_neighbors=5, p=2,\n",
              "                     weights='uniform')"
            ]
          },
          "metadata": {
            "tags": []
          },
          "execution_count": 30
        }
      ]
    },
    {
      "cell_type": "code",
      "metadata": {
        "colab": {
          "base_uri": "https://localhost:8080/"
        },
        "id": "Tt65WxYp0-3P",
        "outputId": "2931dafb-3aa2-4c18-a852-f3d2fbb6ad5b"
      },
      "source": [
        "Y_pred = knn.predict(X_test_std)   \n",
        "\n",
        "Y_pred"
      ],
      "execution_count": null,
      "outputs": [
        {
          "output_type": "execute_result",
          "data": {
            "text/plain": [
              "array([0, 1, 1, 0, 1, 1, 0, 2, 1, 3, 0, 3, 2, 0, 2, 0, 1, 1, 1, 2, 3, 2,\n",
              "       1, 3, 3, 2, 2, 1, 1, 3, 1, 1, 2, 0, 3, 1, 0, 0, 1, 1, 0, 1, 2, 0,\n",
              "       0, 2, 1, 2, 0, 2, 1, 1, 0, 2, 2, 2, 0, 2, 2, 0, 0, 0, 0, 2, 0, 2,\n",
              "       0, 2, 2, 2, 1, 1, 0, 3, 3, 1, 3, 0, 1, 0, 0, 3, 2, 2, 3, 1, 2, 0,\n",
              "       2, 0, 1, 0, 0, 1, 2, 2, 2, 0, 1, 1, 1, 3, 0, 0, 2, 0, 0, 1, 1, 0,\n",
              "       0, 3, 2, 2, 2, 0, 1, 0, 1, 1, 1, 0, 0, 0, 3, 1, 1, 0, 1, 1, 0, 2,\n",
              "       0, 2, 2, 1, 2, 2, 2, 2, 0, 1, 3, 0, 1, 2, 0, 1, 0, 0, 2, 3, 1, 0,\n",
              "       0, 0, 1, 0, 1, 2, 2, 0, 2, 2, 3, 0, 3, 2, 3, 2, 1, 0, 1, 0, 1, 3,\n",
              "       2, 0, 1, 3, 0, 3, 0, 2, 1, 3, 3, 1, 1, 1, 2, 1, 2, 2, 0, 2, 1, 3,\n",
              "       2, 0, 3, 2, 0, 3, 2, 1, 2, 0, 0, 2, 1, 2, 2, 0, 3, 0, 1, 0, 1, 1,\n",
              "       2, 2, 2, 2, 2, 1, 0, 3, 2, 1, 0, 1, 3, 3, 1, 1, 0, 1, 2, 0, 1, 2,\n",
              "       1, 0, 0, 2, 1, 0, 3, 2, 2, 0, 0, 1, 1, 3, 1, 2, 1, 0, 1, 0, 1, 2,\n",
              "       2, 2, 2, 0, 1, 0, 3, 0, 0, 2, 2, 3, 0, 2, 1, 2, 3, 1, 1, 0, 2, 1,\n",
              "       1, 2, 0, 0, 1, 3, 1, 3, 0, 0, 2, 3, 3, 3, 0, 3, 0, 1, 1, 0, 1, 0,\n",
              "       1, 0, 1, 1, 3, 0, 0, 2, 3, 2, 2, 2, 3, 1, 2, 1, 1, 1, 0, 0, 3, 2,\n",
              "       3, 0, 1, 0, 1, 2, 1, 2, 2, 2, 3, 2, 2, 2, 0, 3, 3, 2, 3, 3, 1, 2,\n",
              "       1, 0, 1, 2, 2, 1, 1, 1, 2, 1, 2, 0, 1, 0, 1, 2, 0, 1, 1, 1, 2, 0,\n",
              "       2, 3, 3, 0, 3, 1, 1, 2, 3, 3, 3, 0, 3, 2, 0, 2, 3, 2, 2, 0, 1, 1,\n",
              "       2, 3, 2, 1])"
            ]
          },
          "metadata": {
            "tags": []
          },
          "execution_count": 31
        }
      ]
    },
    {
      "cell_type": "code",
      "metadata": {
        "colab": {
          "base_uri": "https://localhost:8080/"
        },
        "id": "wVwVf0hJ1gOS",
        "outputId": "b94489b6-124a-47d2-8d5f-1a18e5aff94c"
      },
      "source": [
        "Y_test"
      ],
      "execution_count": null,
      "outputs": [
        {
          "output_type": "execute_result",
          "data": {
            "text/plain": [
              "674     0\n",
              "1699    0\n",
              "1282    1\n",
              "1315    1\n",
              "1210    2\n",
              "       ..\n",
              "400     2\n",
              "763     3\n",
              "385     3\n",
              "1667    1\n",
              "1820    0\n",
              "Name: price_range, Length: 400, dtype: int64"
            ]
          },
          "metadata": {
            "tags": []
          },
          "execution_count": 32
        }
      ]
    },
    {
      "cell_type": "markdown",
      "metadata": {
        "id": "6IWz3i0u1s5s"
      },
      "source": [
        "compare Y_pred and Y_test, 1699 row changed from 0--> 1, 1315 row no changed from 1 --> 0"
      ]
    },
    {
      "cell_type": "markdown",
      "metadata": {
        "id": "p4SSu-OL2JvU"
      },
      "source": [
        "#### Lets check the Accuracy Score"
      ]
    },
    {
      "cell_type": "code",
      "metadata": {
        "colab": {
          "base_uri": "https://localhost:8080/"
        },
        "id": "iLrZ2u-c1qAZ",
        "outputId": "972af319-3865-44ef-8b24-309b8cda8b42"
      },
      "source": [
        "knn_ac = accuracy_score(Y_test, Y_pred) \n",
        "knn_ac"
      ],
      "execution_count": null,
      "outputs": [
        {
          "output_type": "execute_result",
          "data": {
            "text/plain": [
              "0.5225"
            ]
          },
          "metadata": {
            "tags": []
          },
          "execution_count": 33
        }
      ]
    },
    {
      "cell_type": "markdown",
      "metadata": {
        "id": "PiI67MsE2b7D"
      },
      "source": [
        "only 52% model gave correct answer, so it performed badly"
      ]
    },
    {
      "cell_type": "markdown",
      "metadata": {
        "id": "H0ANSSr42mxW"
      },
      "source": [
        "# 3. Logistic Regression"
      ]
    },
    {
      "cell_type": "code",
      "metadata": {
        "id": "OhZcIVPi2XDb"
      },
      "source": [
        "from sklearn.linear_model import LogisticRegression \n",
        "lr = LogisticRegression()"
      ],
      "execution_count": null,
      "outputs": []
    },
    {
      "cell_type": "code",
      "metadata": {
        "colab": {
          "base_uri": "https://localhost:8080/"
        },
        "id": "tV1LqODL3E3m",
        "outputId": "f27fc5d3-baf4-4f24-a9c7-52038bff8cf9"
      },
      "source": [
        "lr.fit(X_train_std, Y_train)"
      ],
      "execution_count": null,
      "outputs": [
        {
          "output_type": "execute_result",
          "data": {
            "text/plain": [
              "LogisticRegression(C=1.0, class_weight=None, dual=False, fit_intercept=True,\n",
              "                   intercept_scaling=1, l1_ratio=None, max_iter=100,\n",
              "                   multi_class='auto', n_jobs=None, penalty='l2',\n",
              "                   random_state=None, solver='lbfgs', tol=0.0001, verbose=0,\n",
              "                   warm_start=False)"
            ]
          },
          "metadata": {
            "tags": []
          },
          "execution_count": 35
        }
      ]
    },
    {
      "cell_type": "code",
      "metadata": {
        "colab": {
          "base_uri": "https://localhost:8080/"
        },
        "id": "ICBU9ew63Jh5",
        "outputId": "65f04aae-3301-447e-d331-eaa00baaf43f"
      },
      "source": [
        "Y_pred = lr.predict(X_test_std) \n",
        "Y_pred"
      ],
      "execution_count": null,
      "outputs": [
        {
          "output_type": "execute_result",
          "data": {
            "text/plain": [
              "array([0, 0, 1, 1, 2, 2, 0, 2, 2, 3, 0, 3, 1, 1, 3, 0, 0, 1, 1, 1, 3, 3,\n",
              "       1, 2, 3, 2, 2, 3, 2, 2, 2, 1, 2, 0, 3, 3, 0, 0, 0, 0, 2, 1, 2, 1,\n",
              "       0, 1, 2, 2, 1, 2, 1, 3, 1, 3, 1, 3, 1, 3, 3, 1, 0, 2, 0, 3, 2, 1,\n",
              "       1, 2, 3, 2, 1, 2, 0, 3, 3, 1, 2, 1, 0, 0, 0, 3, 1, 2, 3, 2, 2, 0,\n",
              "       1, 1, 3, 0, 1, 1, 2, 3, 3, 0, 3, 3, 3, 3, 0, 1, 2, 0, 0, 1, 0, 2,\n",
              "       0, 3, 1, 1, 2, 2, 3, 1, 2, 1, 2, 0, 0, 0, 3, 0, 1, 1, 0, 1, 0, 2,\n",
              "       0, 3, 3, 0, 3, 2, 2, 1, 0, 0, 3, 1, 0, 2, 0, 0, 0, 1, 3, 3, 1, 1,\n",
              "       0, 2, 1, 0, 3, 1, 3, 1, 2, 2, 3, 1, 2, 2, 3, 2, 2, 0, 2, 2, 0, 3,\n",
              "       3, 0, 0, 3, 0, 3, 0, 0, 2, 3, 3, 1, 2, 1, 2, 3, 2, 2, 0, 1, 1, 3,\n",
              "       3, 1, 3, 2, 0, 1, 2, 2, 2, 1, 0, 2, 0, 3, 2, 0, 2, 0, 1, 0, 2, 1,\n",
              "       0, 1, 2, 1, 3, 3, 0, 3, 2, 1, 0, 2, 3, 3, 2, 1, 0, 1, 3, 2, 3, 2,\n",
              "       2, 1, 0, 1, 3, 0, 3, 3, 3, 1, 2, 1, 0, 1, 1, 3, 2, 0, 3, 1, 1, 1,\n",
              "       2, 1, 2, 0, 3, 2, 2, 0, 0, 1, 3, 3, 0, 1, 1, 2, 3, 2, 2, 2, 2, 0,\n",
              "       0, 3, 0, 0, 1, 3, 2, 3, 0, 0, 1, 2, 3, 2, 2, 2, 0, 0, 3, 1, 1, 0,\n",
              "       0, 0, 3, 1, 2, 1, 0, 2, 3, 1, 3, 3, 3, 1, 1, 1, 2, 1, 1, 0, 3, 3,\n",
              "       3, 1, 1, 0, 1, 2, 3, 2, 0, 3, 3, 2, 2, 2, 1, 2, 3, 2, 3, 2, 1, 3,\n",
              "       1, 0, 3, 1, 3, 1, 2, 2, 3, 0, 2, 0, 1, 1, 2, 3, 0, 0, 2, 3, 1, 0,\n",
              "       3, 3, 3, 0, 2, 2, 1, 3, 3, 3, 3, 0, 3, 2, 0, 1, 3, 2, 2, 0, 2, 2,\n",
              "       3, 3, 1, 0])"
            ]
          },
          "metadata": {
            "tags": []
          },
          "execution_count": 36
        }
      ]
    },
    {
      "cell_type": "code",
      "metadata": {
        "colab": {
          "base_uri": "https://localhost:8080/"
        },
        "id": "XAa0Kgw63Q4z",
        "outputId": "827a4584-a42d-4b02-c4d9-d357802b1d60"
      },
      "source": [
        "Y_test"
      ],
      "execution_count": null,
      "outputs": [
        {
          "output_type": "execute_result",
          "data": {
            "text/plain": [
              "674     0\n",
              "1699    0\n",
              "1282    1\n",
              "1315    1\n",
              "1210    2\n",
              "       ..\n",
              "400     2\n",
              "763     3\n",
              "385     3\n",
              "1667    1\n",
              "1820    0\n",
              "Name: price_range, Length: 400, dtype: int64"
            ]
          },
          "metadata": {
            "tags": []
          },
          "execution_count": 37
        }
      ]
    },
    {
      "cell_type": "markdown",
      "metadata": {
        "id": "kPMxAOVB3Vx2"
      },
      "source": [
        "after comparing, most of the Y_pred values are correct when compared to Y_test"
      ]
    },
    {
      "cell_type": "code",
      "metadata": {
        "colab": {
          "base_uri": "https://localhost:8080/"
        },
        "id": "Xy__kqEI3TFs",
        "outputId": "9f38e81c-d0a0-4a11-96b5-101cb5af4611"
      },
      "source": [
        "lr_ac = accuracy_score(Y_test, Y_pred ) \n",
        "lr_ac"
      ],
      "execution_count": null,
      "outputs": [
        {
          "output_type": "execute_result",
          "data": {
            "text/plain": [
              "0.96"
            ]
          },
          "metadata": {
            "tags": []
          },
          "execution_count": 38
        }
      ]
    },
    {
      "cell_type": "markdown",
      "metadata": {
        "id": "sOXCOs5r3of7"
      },
      "source": [
        "Model gave 96% accuarate result"
      ]
    },
    {
      "cell_type": "markdown",
      "metadata": {
        "id": "sQUDsljL34kn"
      },
      "source": [
        "# For this project, Logistic regression gave best accuracy "
      ]
    },
    {
      "cell_type": "code",
      "metadata": {
        "colab": {
          "base_uri": "https://localhost:8080/",
          "height": 282
        },
        "id": "3nK8y_Cu3mzP",
        "outputId": "b0ec49db-6d3f-4960-d1d6-a4ee28675c65"
      },
      "source": [
        "plt.bar(x = [\"dt\", \"knn\", \"lr\"],  height = [dt_ac, knn_ac, lr_ac]) \n",
        "plt.xlabel(\"Algoirthms\") \n",
        "plt.ylabel(\"Accuarcy Score\") \n",
        "\n",
        "plt.show() "
      ],
      "execution_count": null,
      "outputs": [
        {
          "output_type": "display_data",
          "data": {
            "image/png": "[encoded data removed]",
            "text/plain": [
              "<Figure size 432x288 with 1 Axes>"
            ]
          },
          "metadata": {
            "tags": [],
            "needs_background": "light"
          }
        }
      ]
    },
    {
      "cell_type": "code",
      "metadata": {
        "colab": {
          "base_uri": "https://localhost:8080/"
        },
        "id": "v82T-ZP0BZWX",
        "outputId": "dcaf21d1-7131-4f99-d107-c13cd1c910ac"
      },
      "source": [
        "X_test = [( 660,\t0,\t0.9,\t0,\t0,\t1,\t31,\t0.1,\t185,\t5,\t2,\t496,\t1804,\t690,\t5,\t2,\t15,\t1,\t0,\t0 )]  \n",
        "\n",
        "Y_pred_new = dt.predict(X_test)\n",
        "print(Y_pred_new)"
      ],
      "execution_count": null,
      "outputs": [
        {
          "output_type": "stream",
          "text": [
            "[0]\n"
          ],
          "name": "stdout"
        }
      ]
    },
    {
      "cell_type": "code",
      "metadata": {
        "id": "mju86X2LB4hr"
      },
      "source": [],
      "execution_count": null,
      "outputs": []
    }
  ]
}